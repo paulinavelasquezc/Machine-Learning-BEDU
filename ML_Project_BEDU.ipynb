{
  "nbformat": 4,
  "nbformat_minor": 0,
  "metadata": {
    "colab": {
      "provenance": []
    },
    "kernelspec": {
      "name": "python3",
      "display_name": "Python 3"
    },
    "language_info": {
      "name": "python"
    }
  },
  "cells": [
    {
      "cell_type": "markdown",
      "source": [
        "# **Machine Learning - Empleos y Salarios en el campo de la Ciencia de Datos**\n",
        "\n",
        "**Integrantes:**\n",
        "* Liliana Orozco: lilianaorozco.learning@gmail.com\n",
        "* Jazmín Cardoso: jazcardoso21@gmail.com\n",
        "* Maria Paulina Velásquez: mapaulina09@hotmail.com\n",
        "* Alejandra Paredes: caliopelino3@gmail.com\n"
      ],
      "metadata": {
        "id": "-PnZ8K3S2mYW"
      }
    },
    {
      "cell_type": "markdown",
      "source": [
        "## **Definición del proyecto con Machine Learning**"
      ],
      "metadata": {
        "id": "5kJclyaks4CE"
      }
    },
    {
      "cell_type": "markdown",
      "source": [
        "El Machine Learning (ML) es una rama de la inteligencia artificial que se enfoca en la construcción de sistemas capaces de aprender de los datos, identificar patrones y tomar decisiones con mínima intervención humana.\n",
        "\n",
        "Los modelos se entrenan utilizando grandes conjuntos de datos para predecir resultados o clasificar información en categorías basándose en sus características aprendidas.\n",
        "\n",
        "Este proyecto de ML utilizando el dataset de \"Trabajos en Data\" de Kaggle se centra en analizar y predecir tendencias del mercado laboral en el ámbito de la ciencia de datos. Este dataset incluye información variada sobre roles laborales, tecnologías requeridas, ubicación, nivel de experiencia, entre otros aspectos relevantes del ámbito laboral en ciencia de datos.\n",
        "\n",
        "El objetivo del proyecto es desarrollar un modelo predictivo que pueda identificar las tendencias emergentes en el mercado laboral de ciencia de datos, ayudando a los profesionales a entender qué habilidades son más demandadas y cuáles son los perfiles laborales más buscados.\n",
        "\n",
        "Del mismo modo, este proyecto busca abarcar el desarrollo de un modelo predictivo clasificador. Se busca construir un sistema que, basado en diversas características de entrada, pueda predecir con precisión el tipo de trabajo (`job_category`) correspondiente a cada instancia de datos. Esta tarea clasificatoria es crucial para proporcionar una herramienta eficiente que ayude a asignar automáticamente categorías laborales a los datos entrantes, facilitando así la gestión y organización de información en entornos laborales y empresariales. La implementación exitosa de este modelo clasificador permitirá optimizar procesos de clasificación de trabajos de manera automatizada, ofreciendo una solución valiosa para mejorar la eficiencia y la productividad en diversos ámbitos profesionales.\n",
        "\n",
        "Los elementos clave que caracterizan a este proyecto de ML incluyen la recopilación y preparación de datos, selección de características relevantes para el modelo, elección de algoritmos de ML adecuados, entrenamiento y validación de modelos y finalmente, la interpretación y comunicación de los resultados para proporcionar insights valiosos a profesionales y empresas del sector.\n",
        "\n",
        "**Dataset utilizado:** https://www.kaggle.com/datasets/hummaamqaasim/jobs-in-data/data"
      ],
      "metadata": {
        "id": "26amGLmnJrmF"
      }
    },
    {
      "cell_type": "markdown",
      "source": [
        "## **Inicialización**"
      ],
      "metadata": {
        "id": "BQH571-KT1y2"
      }
    },
    {
      "cell_type": "markdown",
      "source": [
        "Importación de librerías y lectura inicial del dataset."
      ],
      "metadata": {
        "id": "TgA6l49CT79Y"
      }
    },
    {
      "cell_type": "code",
      "execution_count": 394,
      "metadata": {
        "id": "l5bM9cecrSAO"
      },
      "outputs": [],
      "source": [
        "import pandas as pd\n",
        "import numpy as np\n",
        "import seaborn as sns\n",
        "from scipy import stats\n",
        "import matplotlib.pyplot as plt\n",
        "from sklearn.model_selection import train_test_split\n",
        "from sklearn import metrics\n",
        "from sklearn.metrics import confusion_matrix\n",
        "\n",
        "# K-Means\n",
        "from sklearn.cluster import KMeans\n",
        "\n",
        "# Naïve Bayes\n",
        "from sklearn.naive_bayes import GaussianNB\n",
        "\n",
        "# Árbol de Decisión\n",
        "from sklearn.ensemble import RandomForestClassifier as forest\n",
        "\n",
        "# Redes Neuronales\n",
        "from sklearn.neural_network import MLPClassifier"
      ]
    },
    {
      "cell_type": "code",
      "source": [
        "df = pd.read_csv('/content/jobs_in_data.csv')"
      ],
      "metadata": {
        "id": "9tGccDApsMlO"
      },
      "execution_count": 395,
      "outputs": []
    },
    {
      "cell_type": "code",
      "source": [
        "df"
      ],
      "metadata": {
        "colab": {
          "base_uri": "https://localhost:8080/",
          "height": 722
        },
        "id": "f1Yzb-yn6V4H",
        "outputId": "2827969c-5fe8-4516-bd1d-e9383d686a28"
      },
      "execution_count": 396,
      "outputs": [
        {
          "output_type": "execute_result",
          "data": {
            "text/plain": [
              "      work_year                 job_title                    job_category  \\\n",
              "0          2023      Data DevOps Engineer                Data Engineering   \n",
              "1          2023            Data Architect  Data Architecture and Modeling   \n",
              "2          2023            Data Architect  Data Architecture and Modeling   \n",
              "3          2023            Data Scientist       Data Science and Research   \n",
              "4          2023            Data Scientist       Data Science and Research   \n",
              "...         ...                       ...                             ...   \n",
              "9350       2021           Data Specialist    Data Management and Strategy   \n",
              "9351       2020            Data Scientist       Data Science and Research   \n",
              "9352       2021  Principal Data Scientist       Data Science and Research   \n",
              "9353       2020            Data Scientist       Data Science and Research   \n",
              "9354       2020     Business Data Analyst                   Data Analysis   \n",
              "\n",
              "     salary_currency  salary  salary_in_usd employee_residence  \\\n",
              "0                EUR   88000          95012            Germany   \n",
              "1                USD  186000         186000      United States   \n",
              "2                USD   81800          81800      United States   \n",
              "3                USD  212000         212000      United States   \n",
              "4                USD   93300          93300      United States   \n",
              "...              ...     ...            ...                ...   \n",
              "9350             USD  165000         165000      United States   \n",
              "9351             USD  412000         412000      United States   \n",
              "9352             USD  151000         151000      United States   \n",
              "9353             USD  105000         105000      United States   \n",
              "9354             USD  100000         100000      United States   \n",
              "\n",
              "     experience_level employment_type work_setting company_location  \\\n",
              "0           Mid-level       Full-time       Hybrid          Germany   \n",
              "1              Senior       Full-time    In-person    United States   \n",
              "2              Senior       Full-time    In-person    United States   \n",
              "3              Senior       Full-time    In-person    United States   \n",
              "4              Senior       Full-time    In-person    United States   \n",
              "...               ...             ...          ...              ...   \n",
              "9350           Senior       Full-time       Remote    United States   \n",
              "9351           Senior       Full-time       Remote    United States   \n",
              "9352        Mid-level       Full-time       Remote    United States   \n",
              "9353      Entry-level       Full-time       Remote    United States   \n",
              "9354      Entry-level        Contract       Remote    United States   \n",
              "\n",
              "     company_size  \n",
              "0               L  \n",
              "1               M  \n",
              "2               M  \n",
              "3               M  \n",
              "4               M  \n",
              "...           ...  \n",
              "9350            L  \n",
              "9351            L  \n",
              "9352            L  \n",
              "9353            S  \n",
              "9354            L  \n",
              "\n",
              "[9355 rows x 12 columns]"
            ],
            "text/html": [
              "\n",
              "  <div id=\"df-a430d6e7-0a37-45f7-a1f6-596c47e9176a\" class=\"colab-df-container\">\n",
              "    <div>\n",
              "<style scoped>\n",
              "    .dataframe tbody tr th:only-of-type {\n",
              "        vertical-align: middle;\n",
              "    }\n",
              "\n",
              "    .dataframe tbody tr th {\n",
              "        vertical-align: top;\n",
              "    }\n",
              "\n",
              "    .dataframe thead th {\n",
              "        text-align: right;\n",
              "    }\n",
              "</style>\n",
              "<table border=\"1\" class=\"dataframe\">\n",
              "  <thead>\n",
              "    <tr style=\"text-align: right;\">\n",
              "      <th></th>\n",
              "      <th>work_year</th>\n",
              "      <th>job_title</th>\n",
              "      <th>job_category</th>\n",
              "      <th>salary_currency</th>\n",
              "      <th>salary</th>\n",
              "      <th>salary_in_usd</th>\n",
              "      <th>employee_residence</th>\n",
              "      <th>experience_level</th>\n",
              "      <th>employment_type</th>\n",
              "      <th>work_setting</th>\n",
              "      <th>company_location</th>\n",
              "      <th>company_size</th>\n",
              "    </tr>\n",
              "  </thead>\n",
              "  <tbody>\n",
              "    <tr>\n",
              "      <th>0</th>\n",
              "      <td>2023</td>\n",
              "      <td>Data DevOps Engineer</td>\n",
              "      <td>Data Engineering</td>\n",
              "      <td>EUR</td>\n",
              "      <td>88000</td>\n",
              "      <td>95012</td>\n",
              "      <td>Germany</td>\n",
              "      <td>Mid-level</td>\n",
              "      <td>Full-time</td>\n",
              "      <td>Hybrid</td>\n",
              "      <td>Germany</td>\n",
              "      <td>L</td>\n",
              "    </tr>\n",
              "    <tr>\n",
              "      <th>1</th>\n",
              "      <td>2023</td>\n",
              "      <td>Data Architect</td>\n",
              "      <td>Data Architecture and Modeling</td>\n",
              "      <td>USD</td>\n",
              "      <td>186000</td>\n",
              "      <td>186000</td>\n",
              "      <td>United States</td>\n",
              "      <td>Senior</td>\n",
              "      <td>Full-time</td>\n",
              "      <td>In-person</td>\n",
              "      <td>United States</td>\n",
              "      <td>M</td>\n",
              "    </tr>\n",
              "    <tr>\n",
              "      <th>2</th>\n",
              "      <td>2023</td>\n",
              "      <td>Data Architect</td>\n",
              "      <td>Data Architecture and Modeling</td>\n",
              "      <td>USD</td>\n",
              "      <td>81800</td>\n",
              "      <td>81800</td>\n",
              "      <td>United States</td>\n",
              "      <td>Senior</td>\n",
              "      <td>Full-time</td>\n",
              "      <td>In-person</td>\n",
              "      <td>United States</td>\n",
              "      <td>M</td>\n",
              "    </tr>\n",
              "    <tr>\n",
              "      <th>3</th>\n",
              "      <td>2023</td>\n",
              "      <td>Data Scientist</td>\n",
              "      <td>Data Science and Research</td>\n",
              "      <td>USD</td>\n",
              "      <td>212000</td>\n",
              "      <td>212000</td>\n",
              "      <td>United States</td>\n",
              "      <td>Senior</td>\n",
              "      <td>Full-time</td>\n",
              "      <td>In-person</td>\n",
              "      <td>United States</td>\n",
              "      <td>M</td>\n",
              "    </tr>\n",
              "    <tr>\n",
              "      <th>4</th>\n",
              "      <td>2023</td>\n",
              "      <td>Data Scientist</td>\n",
              "      <td>Data Science and Research</td>\n",
              "      <td>USD</td>\n",
              "      <td>93300</td>\n",
              "      <td>93300</td>\n",
              "      <td>United States</td>\n",
              "      <td>Senior</td>\n",
              "      <td>Full-time</td>\n",
              "      <td>In-person</td>\n",
              "      <td>United States</td>\n",
              "      <td>M</td>\n",
              "    </tr>\n",
              "    <tr>\n",
              "      <th>...</th>\n",
              "      <td>...</td>\n",
              "      <td>...</td>\n",
              "      <td>...</td>\n",
              "      <td>...</td>\n",
              "      <td>...</td>\n",
              "      <td>...</td>\n",
              "      <td>...</td>\n",
              "      <td>...</td>\n",
              "      <td>...</td>\n",
              "      <td>...</td>\n",
              "      <td>...</td>\n",
              "      <td>...</td>\n",
              "    </tr>\n",
              "    <tr>\n",
              "      <th>9350</th>\n",
              "      <td>2021</td>\n",
              "      <td>Data Specialist</td>\n",
              "      <td>Data Management and Strategy</td>\n",
              "      <td>USD</td>\n",
              "      <td>165000</td>\n",
              "      <td>165000</td>\n",
              "      <td>United States</td>\n",
              "      <td>Senior</td>\n",
              "      <td>Full-time</td>\n",
              "      <td>Remote</td>\n",
              "      <td>United States</td>\n",
              "      <td>L</td>\n",
              "    </tr>\n",
              "    <tr>\n",
              "      <th>9351</th>\n",
              "      <td>2020</td>\n",
              "      <td>Data Scientist</td>\n",
              "      <td>Data Science and Research</td>\n",
              "      <td>USD</td>\n",
              "      <td>412000</td>\n",
              "      <td>412000</td>\n",
              "      <td>United States</td>\n",
              "      <td>Senior</td>\n",
              "      <td>Full-time</td>\n",
              "      <td>Remote</td>\n",
              "      <td>United States</td>\n",
              "      <td>L</td>\n",
              "    </tr>\n",
              "    <tr>\n",
              "      <th>9352</th>\n",
              "      <td>2021</td>\n",
              "      <td>Principal Data Scientist</td>\n",
              "      <td>Data Science and Research</td>\n",
              "      <td>USD</td>\n",
              "      <td>151000</td>\n",
              "      <td>151000</td>\n",
              "      <td>United States</td>\n",
              "      <td>Mid-level</td>\n",
              "      <td>Full-time</td>\n",
              "      <td>Remote</td>\n",
              "      <td>United States</td>\n",
              "      <td>L</td>\n",
              "    </tr>\n",
              "    <tr>\n",
              "      <th>9353</th>\n",
              "      <td>2020</td>\n",
              "      <td>Data Scientist</td>\n",
              "      <td>Data Science and Research</td>\n",
              "      <td>USD</td>\n",
              "      <td>105000</td>\n",
              "      <td>105000</td>\n",
              "      <td>United States</td>\n",
              "      <td>Entry-level</td>\n",
              "      <td>Full-time</td>\n",
              "      <td>Remote</td>\n",
              "      <td>United States</td>\n",
              "      <td>S</td>\n",
              "    </tr>\n",
              "    <tr>\n",
              "      <th>9354</th>\n",
              "      <td>2020</td>\n",
              "      <td>Business Data Analyst</td>\n",
              "      <td>Data Analysis</td>\n",
              "      <td>USD</td>\n",
              "      <td>100000</td>\n",
              "      <td>100000</td>\n",
              "      <td>United States</td>\n",
              "      <td>Entry-level</td>\n",
              "      <td>Contract</td>\n",
              "      <td>Remote</td>\n",
              "      <td>United States</td>\n",
              "      <td>L</td>\n",
              "    </tr>\n",
              "  </tbody>\n",
              "</table>\n",
              "<p>9355 rows × 12 columns</p>\n",
              "</div>\n",
              "    <div class=\"colab-df-buttons\">\n",
              "\n",
              "  <div class=\"colab-df-container\">\n",
              "    <button class=\"colab-df-convert\" onclick=\"convertToInteractive('df-a430d6e7-0a37-45f7-a1f6-596c47e9176a')\"\n",
              "            title=\"Convert this dataframe to an interactive table.\"\n",
              "            style=\"display:none;\">\n",
              "\n",
              "  <svg xmlns=\"http://www.w3.org/2000/svg\" height=\"24px\" viewBox=\"0 -960 960 960\">\n",
              "    <path d=\"M120-120v-720h720v720H120Zm60-500h600v-160H180v160Zm220 220h160v-160H400v160Zm0 220h160v-160H400v160ZM180-400h160v-160H180v160Zm440 0h160v-160H620v160ZM180-180h160v-160H180v160Zm440 0h160v-160H620v160Z\"/>\n",
              "  </svg>\n",
              "    </button>\n",
              "\n",
              "  <style>\n",
              "    .colab-df-container {\n",
              "      display:flex;\n",
              "      gap: 12px;\n",
              "    }\n",
              "\n",
              "    .colab-df-convert {\n",
              "      background-color: #E8F0FE;\n",
              "      border: none;\n",
              "      border-radius: 50%;\n",
              "      cursor: pointer;\n",
              "      display: none;\n",
              "      fill: #1967D2;\n",
              "      height: 32px;\n",
              "      padding: 0 0 0 0;\n",
              "      width: 32px;\n",
              "    }\n",
              "\n",
              "    .colab-df-convert:hover {\n",
              "      background-color: #E2EBFA;\n",
              "      box-shadow: 0px 1px 2px rgba(60, 64, 67, 0.3), 0px 1px 3px 1px rgba(60, 64, 67, 0.15);\n",
              "      fill: #174EA6;\n",
              "    }\n",
              "\n",
              "    .colab-df-buttons div {\n",
              "      margin-bottom: 4px;\n",
              "    }\n",
              "\n",
              "    [theme=dark] .colab-df-convert {\n",
              "      background-color: #3B4455;\n",
              "      fill: #D2E3FC;\n",
              "    }\n",
              "\n",
              "    [theme=dark] .colab-df-convert:hover {\n",
              "      background-color: #434B5C;\n",
              "      box-shadow: 0px 1px 3px 1px rgba(0, 0, 0, 0.15);\n",
              "      filter: drop-shadow(0px 1px 2px rgba(0, 0, 0, 0.3));\n",
              "      fill: #FFFFFF;\n",
              "    }\n",
              "  </style>\n",
              "\n",
              "    <script>\n",
              "      const buttonEl =\n",
              "        document.querySelector('#df-a430d6e7-0a37-45f7-a1f6-596c47e9176a button.colab-df-convert');\n",
              "      buttonEl.style.display =\n",
              "        google.colab.kernel.accessAllowed ? 'block' : 'none';\n",
              "\n",
              "      async function convertToInteractive(key) {\n",
              "        const element = document.querySelector('#df-a430d6e7-0a37-45f7-a1f6-596c47e9176a');\n",
              "        const dataTable =\n",
              "          await google.colab.kernel.invokeFunction('convertToInteractive',\n",
              "                                                    [key], {});\n",
              "        if (!dataTable) return;\n",
              "\n",
              "        const docLinkHtml = 'Like what you see? Visit the ' +\n",
              "          '<a target=\"_blank\" href=https://colab.research.google.com/notebooks/data_table.ipynb>data table notebook</a>'\n",
              "          + ' to learn more about interactive tables.';\n",
              "        element.innerHTML = '';\n",
              "        dataTable['output_type'] = 'display_data';\n",
              "        await google.colab.output.renderOutput(dataTable, element);\n",
              "        const docLink = document.createElement('div');\n",
              "        docLink.innerHTML = docLinkHtml;\n",
              "        element.appendChild(docLink);\n",
              "      }\n",
              "    </script>\n",
              "  </div>\n",
              "\n",
              "\n",
              "<div id=\"df-5b33cef7-2eed-4d5c-9b4a-6444b58e3f9c\">\n",
              "  <button class=\"colab-df-quickchart\" onclick=\"quickchart('df-5b33cef7-2eed-4d5c-9b4a-6444b58e3f9c')\"\n",
              "            title=\"Suggest charts\"\n",
              "            style=\"display:none;\">\n",
              "\n",
              "<svg xmlns=\"http://www.w3.org/2000/svg\" height=\"24px\"viewBox=\"0 0 24 24\"\n",
              "     width=\"24px\">\n",
              "    <g>\n",
              "        <path d=\"M19 3H5c-1.1 0-2 .9-2 2v14c0 1.1.9 2 2 2h14c1.1 0 2-.9 2-2V5c0-1.1-.9-2-2-2zM9 17H7v-7h2v7zm4 0h-2V7h2v10zm4 0h-2v-4h2v4z\"/>\n",
              "    </g>\n",
              "</svg>\n",
              "  </button>\n",
              "\n",
              "<style>\n",
              "  .colab-df-quickchart {\n",
              "      --bg-color: #E8F0FE;\n",
              "      --fill-color: #1967D2;\n",
              "      --hover-bg-color: #E2EBFA;\n",
              "      --hover-fill-color: #174EA6;\n",
              "      --disabled-fill-color: #AAA;\n",
              "      --disabled-bg-color: #DDD;\n",
              "  }\n",
              "\n",
              "  [theme=dark] .colab-df-quickchart {\n",
              "      --bg-color: #3B4455;\n",
              "      --fill-color: #D2E3FC;\n",
              "      --hover-bg-color: #434B5C;\n",
              "      --hover-fill-color: #FFFFFF;\n",
              "      --disabled-bg-color: #3B4455;\n",
              "      --disabled-fill-color: #666;\n",
              "  }\n",
              "\n",
              "  .colab-df-quickchart {\n",
              "    background-color: var(--bg-color);\n",
              "    border: none;\n",
              "    border-radius: 50%;\n",
              "    cursor: pointer;\n",
              "    display: none;\n",
              "    fill: var(--fill-color);\n",
              "    height: 32px;\n",
              "    padding: 0;\n",
              "    width: 32px;\n",
              "  }\n",
              "\n",
              "  .colab-df-quickchart:hover {\n",
              "    background-color: var(--hover-bg-color);\n",
              "    box-shadow: 0 1px 2px rgba(60, 64, 67, 0.3), 0 1px 3px 1px rgba(60, 64, 67, 0.15);\n",
              "    fill: var(--button-hover-fill-color);\n",
              "  }\n",
              "\n",
              "  .colab-df-quickchart-complete:disabled,\n",
              "  .colab-df-quickchart-complete:disabled:hover {\n",
              "    background-color: var(--disabled-bg-color);\n",
              "    fill: var(--disabled-fill-color);\n",
              "    box-shadow: none;\n",
              "  }\n",
              "\n",
              "  .colab-df-spinner {\n",
              "    border: 2px solid var(--fill-color);\n",
              "    border-color: transparent;\n",
              "    border-bottom-color: var(--fill-color);\n",
              "    animation:\n",
              "      spin 1s steps(1) infinite;\n",
              "  }\n",
              "\n",
              "  @keyframes spin {\n",
              "    0% {\n",
              "      border-color: transparent;\n",
              "      border-bottom-color: var(--fill-color);\n",
              "      border-left-color: var(--fill-color);\n",
              "    }\n",
              "    20% {\n",
              "      border-color: transparent;\n",
              "      border-left-color: var(--fill-color);\n",
              "      border-top-color: var(--fill-color);\n",
              "    }\n",
              "    30% {\n",
              "      border-color: transparent;\n",
              "      border-left-color: var(--fill-color);\n",
              "      border-top-color: var(--fill-color);\n",
              "      border-right-color: var(--fill-color);\n",
              "    }\n",
              "    40% {\n",
              "      border-color: transparent;\n",
              "      border-right-color: var(--fill-color);\n",
              "      border-top-color: var(--fill-color);\n",
              "    }\n",
              "    60% {\n",
              "      border-color: transparent;\n",
              "      border-right-color: var(--fill-color);\n",
              "    }\n",
              "    80% {\n",
              "      border-color: transparent;\n",
              "      border-right-color: var(--fill-color);\n",
              "      border-bottom-color: var(--fill-color);\n",
              "    }\n",
              "    90% {\n",
              "      border-color: transparent;\n",
              "      border-bottom-color: var(--fill-color);\n",
              "    }\n",
              "  }\n",
              "</style>\n",
              "\n",
              "  <script>\n",
              "    async function quickchart(key) {\n",
              "      const quickchartButtonEl =\n",
              "        document.querySelector('#' + key + ' button');\n",
              "      quickchartButtonEl.disabled = true;  // To prevent multiple clicks.\n",
              "      quickchartButtonEl.classList.add('colab-df-spinner');\n",
              "      try {\n",
              "        const charts = await google.colab.kernel.invokeFunction(\n",
              "            'suggestCharts', [key], {});\n",
              "      } catch (error) {\n",
              "        console.error('Error during call to suggestCharts:', error);\n",
              "      }\n",
              "      quickchartButtonEl.classList.remove('colab-df-spinner');\n",
              "      quickchartButtonEl.classList.add('colab-df-quickchart-complete');\n",
              "    }\n",
              "    (() => {\n",
              "      let quickchartButtonEl =\n",
              "        document.querySelector('#df-5b33cef7-2eed-4d5c-9b4a-6444b58e3f9c button');\n",
              "      quickchartButtonEl.style.display =\n",
              "        google.colab.kernel.accessAllowed ? 'block' : 'none';\n",
              "    })();\n",
              "  </script>\n",
              "</div>\n",
              "\n",
              "  <div id=\"id_56081265-4808-4280-a42c-58326c822b76\">\n",
              "    <style>\n",
              "      .colab-df-generate {\n",
              "        background-color: #E8F0FE;\n",
              "        border: none;\n",
              "        border-radius: 50%;\n",
              "        cursor: pointer;\n",
              "        display: none;\n",
              "        fill: #1967D2;\n",
              "        height: 32px;\n",
              "        padding: 0 0 0 0;\n",
              "        width: 32px;\n",
              "      }\n",
              "\n",
              "      .colab-df-generate:hover {\n",
              "        background-color: #E2EBFA;\n",
              "        box-shadow: 0px 1px 2px rgba(60, 64, 67, 0.3), 0px 1px 3px 1px rgba(60, 64, 67, 0.15);\n",
              "        fill: #174EA6;\n",
              "      }\n",
              "\n",
              "      [theme=dark] .colab-df-generate {\n",
              "        background-color: #3B4455;\n",
              "        fill: #D2E3FC;\n",
              "      }\n",
              "\n",
              "      [theme=dark] .colab-df-generate:hover {\n",
              "        background-color: #434B5C;\n",
              "        box-shadow: 0px 1px 3px 1px rgba(0, 0, 0, 0.15);\n",
              "        filter: drop-shadow(0px 1px 2px rgba(0, 0, 0, 0.3));\n",
              "        fill: #FFFFFF;\n",
              "      }\n",
              "    </style>\n",
              "    <button class=\"colab-df-generate\" onclick=\"generateWithVariable('df')\"\n",
              "            title=\"Generate code using this dataframe.\"\n",
              "            style=\"display:none;\">\n",
              "\n",
              "  <svg xmlns=\"http://www.w3.org/2000/svg\" height=\"24px\"viewBox=\"0 0 24 24\"\n",
              "       width=\"24px\">\n",
              "    <path d=\"M7,19H8.4L18.45,9,17,7.55,7,17.6ZM5,21V16.75L18.45,3.32a2,2,0,0,1,2.83,0l1.4,1.43a1.91,1.91,0,0,1,.58,1.4,1.91,1.91,0,0,1-.58,1.4L9.25,21ZM18.45,9,17,7.55Zm-12,3A5.31,5.31,0,0,0,4.9,8.1,5.31,5.31,0,0,0,1,6.5,5.31,5.31,0,0,0,4.9,4.9,5.31,5.31,0,0,0,6.5,1,5.31,5.31,0,0,0,8.1,4.9,5.31,5.31,0,0,0,12,6.5,5.46,5.46,0,0,0,6.5,12Z\"/>\n",
              "  </svg>\n",
              "    </button>\n",
              "    <script>\n",
              "      (() => {\n",
              "      const buttonEl =\n",
              "        document.querySelector('#id_56081265-4808-4280-a42c-58326c822b76 button.colab-df-generate');\n",
              "      buttonEl.style.display =\n",
              "        google.colab.kernel.accessAllowed ? 'block' : 'none';\n",
              "\n",
              "      buttonEl.onclick = () => {\n",
              "        google.colab.notebook.generateWithVariable('df');\n",
              "      }\n",
              "      })();\n",
              "    </script>\n",
              "  </div>\n",
              "\n",
              "    </div>\n",
              "  </div>\n"
            ],
            "application/vnd.google.colaboratory.intrinsic+json": {
              "type": "dataframe",
              "variable_name": "df",
              "summary": "{\n  \"name\": \"df\",\n  \"rows\": 9355,\n  \"fields\": [\n    {\n      \"column\": \"work_year\",\n      \"properties\": {\n        \"dtype\": \"number\",\n        \"std\": 0,\n        \"min\": 2020,\n        \"max\": 2023,\n        \"num_unique_values\": 4,\n        \"samples\": [\n          2022,\n          2021,\n          2023\n        ],\n        \"semantic_type\": \"\",\n        \"description\": \"\"\n      }\n    },\n    {\n      \"column\": \"job_title\",\n      \"properties\": {\n        \"dtype\": \"category\",\n        \"num_unique_values\": 125,\n        \"samples\": [\n          \"AI Engineer\",\n          \"Data Management Specialist\",\n          \"Business Intelligence Manager\"\n        ],\n        \"semantic_type\": \"\",\n        \"description\": \"\"\n      }\n    },\n    {\n      \"column\": \"job_category\",\n      \"properties\": {\n        \"dtype\": \"category\",\n        \"num_unique_values\": 10,\n        \"samples\": [\n          \"Data Management and Strategy\",\n          \"Data Architecture and Modeling\",\n          \"Leadership and Management\"\n        ],\n        \"semantic_type\": \"\",\n        \"description\": \"\"\n      }\n    },\n    {\n      \"column\": \"salary_currency\",\n      \"properties\": {\n        \"dtype\": \"category\",\n        \"num_unique_values\": 11,\n        \"samples\": [\n          \"PLN\",\n          \"EUR\",\n          \"SGD\"\n        ],\n        \"semantic_type\": \"\",\n        \"description\": \"\"\n      }\n    },\n    {\n      \"column\": \"salary\",\n      \"properties\": {\n        \"dtype\": \"number\",\n        \"std\": 63608,\n        \"min\": 14000,\n        \"max\": 450000,\n        \"num_unique_values\": 1507,\n        \"samples\": [\n          205218,\n          201450,\n          119636\n        ],\n        \"semantic_type\": \"\",\n        \"description\": \"\"\n      }\n    },\n    {\n      \"column\": \"salary_in_usd\",\n      \"properties\": {\n        \"dtype\": \"number\",\n        \"std\": 63177,\n        \"min\": 15000,\n        \"max\": 450000,\n        \"num_unique_values\": 1786,\n        \"samples\": [\n          222000,\n          266450,\n          239748\n        ],\n        \"semantic_type\": \"\",\n        \"description\": \"\"\n      }\n    },\n    {\n      \"column\": \"employee_residence\",\n      \"properties\": {\n        \"dtype\": \"category\",\n        \"num_unique_values\": 83,\n        \"samples\": [\n          \"Turkey\",\n          \"Germany\",\n          \"India\"\n        ],\n        \"semantic_type\": \"\",\n        \"description\": \"\"\n      }\n    },\n    {\n      \"column\": \"experience_level\",\n      \"properties\": {\n        \"dtype\": \"category\",\n        \"num_unique_values\": 4,\n        \"samples\": [\n          \"Senior\",\n          \"Entry-level\",\n          \"Mid-level\"\n        ],\n        \"semantic_type\": \"\",\n        \"description\": \"\"\n      }\n    },\n    {\n      \"column\": \"employment_type\",\n      \"properties\": {\n        \"dtype\": \"category\",\n        \"num_unique_values\": 4,\n        \"samples\": [\n          \"Part-time\",\n          \"Freelance\",\n          \"Full-time\"\n        ],\n        \"semantic_type\": \"\",\n        \"description\": \"\"\n      }\n    },\n    {\n      \"column\": \"work_setting\",\n      \"properties\": {\n        \"dtype\": \"category\",\n        \"num_unique_values\": 3,\n        \"samples\": [\n          \"Hybrid\",\n          \"In-person\",\n          \"Remote\"\n        ],\n        \"semantic_type\": \"\",\n        \"description\": \"\"\n      }\n    },\n    {\n      \"column\": \"company_location\",\n      \"properties\": {\n        \"dtype\": \"category\",\n        \"num_unique_values\": 70,\n        \"samples\": [\n          \"Mauritius\",\n          \"Germany\",\n          \"Bosnia and Herzegovina\"\n        ],\n        \"semantic_type\": \"\",\n        \"description\": \"\"\n      }\n    },\n    {\n      \"column\": \"company_size\",\n      \"properties\": {\n        \"dtype\": \"category\",\n        \"num_unique_values\": 3,\n        \"samples\": [\n          \"L\",\n          \"M\",\n          \"S\"\n        ],\n        \"semantic_type\": \"\",\n        \"description\": \"\"\n      }\n    }\n  ]\n}"
            }
          },
          "metadata": {},
          "execution_count": 396
        }
      ]
    },
    {
      "cell_type": "markdown",
      "source": [
        "## **Análisis Exploratorio Básico**"
      ],
      "metadata": {
        "id": "K3LF8Q9mUCLz"
      }
    },
    {
      "cell_type": "markdown",
      "source": [
        "El análisis exploratorio de datos constituye una etapa fundamental en el proyecto, pues permite comprender a fondo las características subyacentes del dataset utilizado. Al implementarlo, además de mejorar la capacidad para tomar decisiones informadas sobre cómo proceder con el análisis posterior, también ayuda a visualizar, conocer y garantizar la integridad y la calidad de los datos."
      ],
      "metadata": {
        "id": "p6wHHr7C4nPK"
      }
    },
    {
      "cell_type": "markdown",
      "source": [
        "Si se desea explorar más a fondo el conjunto de datos, se recomienda consultar el siguiente repositorio donde se encontrará un análisis detallado de las tendencias y correlaciones entre todas las variables del conjunto de datos.\n",
        "\n",
        "**URL:** https://github.com/paulinavelasquezc/Data-Science-BEDU/blob/main/Jobs_and_Salaries_in_Data_Science_BEDU.ipynb"
      ],
      "metadata": {
        "id": "mGvCr-Rh2dFo"
      }
    },
    {
      "cell_type": "code",
      "source": [
        "df.info()"
      ],
      "metadata": {
        "colab": {
          "base_uri": "https://localhost:8080/"
        },
        "id": "Yy_Fkuyz6iDL",
        "outputId": "b8c522f7-bc4d-4c33-cdae-8c23e88a57f0"
      },
      "execution_count": 397,
      "outputs": [
        {
          "output_type": "stream",
          "name": "stdout",
          "text": [
            "<class 'pandas.core.frame.DataFrame'>\n",
            "RangeIndex: 9355 entries, 0 to 9354\n",
            "Data columns (total 12 columns):\n",
            " #   Column              Non-Null Count  Dtype \n",
            "---  ------              --------------  ----- \n",
            " 0   work_year           9355 non-null   int64 \n",
            " 1   job_title           9355 non-null   object\n",
            " 2   job_category        9355 non-null   object\n",
            " 3   salary_currency     9355 non-null   object\n",
            " 4   salary              9355 non-null   int64 \n",
            " 5   salary_in_usd       9355 non-null   int64 \n",
            " 6   employee_residence  9355 non-null   object\n",
            " 7   experience_level    9355 non-null   object\n",
            " 8   employment_type     9355 non-null   object\n",
            " 9   work_setting        9355 non-null   object\n",
            " 10  company_location    9355 non-null   object\n",
            " 11  company_size        9355 non-null   object\n",
            "dtypes: int64(3), object(9)\n",
            "memory usage: 877.2+ KB\n"
          ]
        }
      ]
    },
    {
      "cell_type": "markdown",
      "source": [
        "### Tamaño"
      ],
      "metadata": {
        "id": "ygpd3UFbUO-Z"
      }
    },
    {
      "cell_type": "markdown",
      "source": [
        "El dataset tiene un tamaño de 12 columnas o atributos y 9355 filas u observaciones."
      ],
      "metadata": {
        "id": "k8bXkL7tUHuz"
      }
    },
    {
      "cell_type": "code",
      "source": [
        "df.shape"
      ],
      "metadata": {
        "colab": {
          "base_uri": "https://localhost:8080/"
        },
        "id": "fWWVmwKI6fc9",
        "outputId": "719ec029-ce11-48f8-ed45-51e9a9e5f5a9"
      },
      "execution_count": 398,
      "outputs": [
        {
          "output_type": "execute_result",
          "data": {
            "text/plain": [
              "(9355, 12)"
            ]
          },
          "metadata": {},
          "execution_count": 398
        }
      ]
    },
    {
      "cell_type": "markdown",
      "source": [
        "###Columnas"
      ],
      "metadata": {
        "id": "8YDGHcwsUSav"
      }
    },
    {
      "cell_type": "markdown",
      "source": [
        "La siguiente información fue obtenida del manual de datos dado por Kaggle:\n",
        "\n",
        "\n",
        "\n",
        "*   **work_year:** El año en que se registraron los datos. Este campo indica el\n",
        "contexto temporal de los datos, importante para comprender las tendencias salariales a lo largo del tiempo.\n",
        "\n",
        "*   **job_title:** El título específico de la función laboral, como \"Científico de datos\", \"Ingeniero de datos\" o \"Analista de datos\". Esta columna es crucial para comprender la distribución salarial entre las distintas funciones especializadas dentro del campo de los datos.\n",
        "\n",
        "*   **job_category:** Clasificación del puesto de trabajo en categorías más amplias para facilitar el análisis. Puede incluir áreas como \"Análisis de datos\", \"Aprendizaje automático\", \"Ingeniería de datos\", etc.\n",
        "\n",
        "*   **salary_currency:** La moneda en la que se paga el salario, como USD, EUR, etc. Esto es importante para la conversión de divisas y para comprender el valor real del salario en un contexto global.\n",
        "\n",
        "*   **salary:** El salario bruto anual del rol en la moneda local. Esta cifra de salario bruto es clave para las comparaciones salariales regionales directas.\n",
        "\n",
        "*   **salary_in_usd:** El salario bruto anual convertido a dólares estadounidenses (USD). Esta conversión de moneda uniforme ayuda en las comparaciones y análisis salariales globales.\n",
        "\n",
        "*   **employee_residence:** El país de residencia del empleado. Este dato puede utilizarse para explorar las diferencias salariales geográficas y las variaciones del coste de la vida.\n",
        "\n",
        "\n",
        "*   **experience_level:** Clasifica el nivel de experiencia profesional del empleado. Las categorías más comunes pueden ser \"principiante\", \"medio\", \"superior\" y \"ejecutivo\", lo que permite comprender cómo influye la experiencia en el salario de los puestos relacionados con los datos.\n",
        "\n",
        "*   **employment_type:** Especifica el tipo de empleo, como \"jornada completa\", \"jornada parcial\", \"contrato\", etc. Esto ayuda a analizar cómo afectan las diferentes modalidades de empleo a las estructuras salariales.\n",
        "\n",
        "*   **work_setting:** El entorno de trabajo, como \"A distancia\", \"En persona\" o \"Híbrido\". Esta columna refleja el impacto de los entornos de trabajo en los niveles salariales del sector de datos.\n",
        "\n",
        "*   **company_location:** El país en el que está ubicada la empresa. Ayuda a analizar cómo afecta la ubicación de la empresa a las estructuras salariales.\n",
        "\n",
        "*   **company_size:**  El tamaño de la empresa empleadora, a menudo clasificada en tamaño pequeño (S), mediano (M) y grande (L). Permite analizar cómo influye el tamaño de la empresa en el salario."
      ],
      "metadata": {
        "id": "qahIE2rXUiff"
      }
    },
    {
      "cell_type": "code",
      "source": [
        "df.columns"
      ],
      "metadata": {
        "colab": {
          "base_uri": "https://localhost:8080/"
        },
        "id": "IDQk3K9d6k5G",
        "outputId": "cfe86926-d3a0-4dbc-cfc0-9363d28faf69"
      },
      "execution_count": 399,
      "outputs": [
        {
          "output_type": "execute_result",
          "data": {
            "text/plain": [
              "Index(['work_year', 'job_title', 'job_category', 'salary_currency', 'salary',\n",
              "       'salary_in_usd', 'employee_residence', 'experience_level',\n",
              "       'employment_type', 'work_setting', 'company_location', 'company_size'],\n",
              "      dtype='object')"
            ]
          },
          "metadata": {},
          "execution_count": 399
        }
      ]
    },
    {
      "cell_type": "markdown",
      "source": [
        "### NaNs"
      ],
      "metadata": {
        "id": "K4ie4RuwVk6Y"
      }
    },
    {
      "cell_type": "markdown",
      "source": [
        "El dataset no contiene ningún dato vacío."
      ],
      "metadata": {
        "id": "4I--oGzDVoQg"
      }
    },
    {
      "cell_type": "code",
      "source": [
        "df.isna().sum()"
      ],
      "metadata": {
        "colab": {
          "base_uri": "https://localhost:8080/"
        },
        "id": "Z8rGjK786nBL",
        "outputId": "982af6e2-6f1e-455d-c002-cbc7b2947d19"
      },
      "execution_count": 400,
      "outputs": [
        {
          "output_type": "execute_result",
          "data": {
            "text/plain": [
              "work_year             0\n",
              "job_title             0\n",
              "job_category          0\n",
              "salary_currency       0\n",
              "salary                0\n",
              "salary_in_usd         0\n",
              "employee_residence    0\n",
              "experience_level      0\n",
              "employment_type       0\n",
              "work_setting          0\n",
              "company_location      0\n",
              "company_size          0\n",
              "dtype: int64"
            ]
          },
          "metadata": {},
          "execution_count": 400
        }
      ]
    },
    {
      "cell_type": "markdown",
      "source": [
        "### Transformación de datos"
      ],
      "metadata": {
        "id": "qKnSo5fvVL7h"
      }
    },
    {
      "cell_type": "code",
      "source": [
        "df.dtypes"
      ],
      "metadata": {
        "id": "4QBjmIn26vLc",
        "outputId": "ae0e443b-6fc4-451c-9ed3-1bd089dd57cc",
        "colab": {
          "base_uri": "https://localhost:8080/"
        }
      },
      "execution_count": 401,
      "outputs": [
        {
          "output_type": "execute_result",
          "data": {
            "text/plain": [
              "work_year              int64\n",
              "job_title             object\n",
              "job_category          object\n",
              "salary_currency       object\n",
              "salary                 int64\n",
              "salary_in_usd          int64\n",
              "employee_residence    object\n",
              "experience_level      object\n",
              "employment_type       object\n",
              "work_setting          object\n",
              "company_location      object\n",
              "company_size          object\n",
              "dtype: object"
            ]
          },
          "metadata": {},
          "execution_count": 401
        }
      ]
    },
    {
      "cell_type": "markdown",
      "source": [
        "El conjunto de datos incluye tres columnas relacionadas con el salario: `salary_currency`, `salary` y `salary_in_usd`. Durante el proceso de entrenamiento de algoritmos, nos concentraremos únicamente en su representación en USD, dado por la columna `salary_in_usd`. Por lo tanto, las columnas `salary_currency` y `salary`, que solo son la representación del salario en su moneda original, serán eliminadas."
      ],
      "metadata": {
        "id": "7FaTRwOaV6Ih"
      }
    },
    {
      "cell_type": "code",
      "source": [
        "df = df.drop(columns=['salary_currency', 'salary'])"
      ],
      "metadata": {
        "id": "t-R9rZpEQlVC"
      },
      "execution_count": 402,
      "outputs": []
    },
    {
      "cell_type": "markdown",
      "source": [
        "Las columnas `job_title`, `employee_residence`, `work_year` y `company_location` también serán excluidas, ya que representan categorías que no son relevantes para el modelo de aprendizaje."
      ],
      "metadata": {
        "id": "pZ4qymzLcx9X"
      }
    },
    {
      "cell_type": "code",
      "source": [
        "df = df.drop(columns=['job_title', 'employee_residence', 'company_location', 'work_year'])"
      ],
      "metadata": {
        "id": "mXicZQWxcjeF"
      },
      "execution_count": 403,
      "outputs": []
    },
    {
      "cell_type": "markdown",
      "source": [
        "Con el fin de simplificar el proceso de definición de nuestras variables independientes y dependientes, se optará por remover la columna `job_category` temporalmente y luego reintegrarla al final del conjunto de datos."
      ],
      "metadata": {
        "id": "r7qqVYWiXI-T"
      }
    },
    {
      "cell_type": "code",
      "source": [
        "job_category = df['job_category']"
      ],
      "metadata": {
        "id": "PXhEXVVERIXG"
      },
      "execution_count": 404,
      "outputs": []
    },
    {
      "cell_type": "code",
      "source": [
        "df = df.drop(columns=['job_category'])"
      ],
      "metadata": {
        "id": "ugPmfmaLRO88"
      },
      "execution_count": 405,
      "outputs": []
    },
    {
      "cell_type": "code",
      "source": [
        "df['job_category'] = job_category"
      ],
      "metadata": {
        "id": "WlOnRNVgRTQ-"
      },
      "execution_count": 406,
      "outputs": []
    },
    {
      "cell_type": "code",
      "source": [
        "df"
      ],
      "metadata": {
        "colab": {
          "base_uri": "https://localhost:8080/",
          "height": 424
        },
        "id": "G8xyT_47Ro_m",
        "outputId": "05d0dc0a-c110-4609-c5db-947837201a88"
      },
      "execution_count": 407,
      "outputs": [
        {
          "output_type": "execute_result",
          "data": {
            "text/plain": [
              "      salary_in_usd experience_level employment_type work_setting  \\\n",
              "0             95012        Mid-level       Full-time       Hybrid   \n",
              "1            186000           Senior       Full-time    In-person   \n",
              "2             81800           Senior       Full-time    In-person   \n",
              "3            212000           Senior       Full-time    In-person   \n",
              "4             93300           Senior       Full-time    In-person   \n",
              "...             ...              ...             ...          ...   \n",
              "9350         165000           Senior       Full-time       Remote   \n",
              "9351         412000           Senior       Full-time       Remote   \n",
              "9352         151000        Mid-level       Full-time       Remote   \n",
              "9353         105000      Entry-level       Full-time       Remote   \n",
              "9354         100000      Entry-level        Contract       Remote   \n",
              "\n",
              "     company_size                    job_category  \n",
              "0               L                Data Engineering  \n",
              "1               M  Data Architecture and Modeling  \n",
              "2               M  Data Architecture and Modeling  \n",
              "3               M       Data Science and Research  \n",
              "4               M       Data Science and Research  \n",
              "...           ...                             ...  \n",
              "9350            L    Data Management and Strategy  \n",
              "9351            L       Data Science and Research  \n",
              "9352            L       Data Science and Research  \n",
              "9353            S       Data Science and Research  \n",
              "9354            L                   Data Analysis  \n",
              "\n",
              "[9355 rows x 6 columns]"
            ],
            "text/html": [
              "\n",
              "  <div id=\"df-447839d6-f13d-4d4f-a282-e2acad794ce9\" class=\"colab-df-container\">\n",
              "    <div>\n",
              "<style scoped>\n",
              "    .dataframe tbody tr th:only-of-type {\n",
              "        vertical-align: middle;\n",
              "    }\n",
              "\n",
              "    .dataframe tbody tr th {\n",
              "        vertical-align: top;\n",
              "    }\n",
              "\n",
              "    .dataframe thead th {\n",
              "        text-align: right;\n",
              "    }\n",
              "</style>\n",
              "<table border=\"1\" class=\"dataframe\">\n",
              "  <thead>\n",
              "    <tr style=\"text-align: right;\">\n",
              "      <th></th>\n",
              "      <th>salary_in_usd</th>\n",
              "      <th>experience_level</th>\n",
              "      <th>employment_type</th>\n",
              "      <th>work_setting</th>\n",
              "      <th>company_size</th>\n",
              "      <th>job_category</th>\n",
              "    </tr>\n",
              "  </thead>\n",
              "  <tbody>\n",
              "    <tr>\n",
              "      <th>0</th>\n",
              "      <td>95012</td>\n",
              "      <td>Mid-level</td>\n",
              "      <td>Full-time</td>\n",
              "      <td>Hybrid</td>\n",
              "      <td>L</td>\n",
              "      <td>Data Engineering</td>\n",
              "    </tr>\n",
              "    <tr>\n",
              "      <th>1</th>\n",
              "      <td>186000</td>\n",
              "      <td>Senior</td>\n",
              "      <td>Full-time</td>\n",
              "      <td>In-person</td>\n",
              "      <td>M</td>\n",
              "      <td>Data Architecture and Modeling</td>\n",
              "    </tr>\n",
              "    <tr>\n",
              "      <th>2</th>\n",
              "      <td>81800</td>\n",
              "      <td>Senior</td>\n",
              "      <td>Full-time</td>\n",
              "      <td>In-person</td>\n",
              "      <td>M</td>\n",
              "      <td>Data Architecture and Modeling</td>\n",
              "    </tr>\n",
              "    <tr>\n",
              "      <th>3</th>\n",
              "      <td>212000</td>\n",
              "      <td>Senior</td>\n",
              "      <td>Full-time</td>\n",
              "      <td>In-person</td>\n",
              "      <td>M</td>\n",
              "      <td>Data Science and Research</td>\n",
              "    </tr>\n",
              "    <tr>\n",
              "      <th>4</th>\n",
              "      <td>93300</td>\n",
              "      <td>Senior</td>\n",
              "      <td>Full-time</td>\n",
              "      <td>In-person</td>\n",
              "      <td>M</td>\n",
              "      <td>Data Science and Research</td>\n",
              "    </tr>\n",
              "    <tr>\n",
              "      <th>...</th>\n",
              "      <td>...</td>\n",
              "      <td>...</td>\n",
              "      <td>...</td>\n",
              "      <td>...</td>\n",
              "      <td>...</td>\n",
              "      <td>...</td>\n",
              "    </tr>\n",
              "    <tr>\n",
              "      <th>9350</th>\n",
              "      <td>165000</td>\n",
              "      <td>Senior</td>\n",
              "      <td>Full-time</td>\n",
              "      <td>Remote</td>\n",
              "      <td>L</td>\n",
              "      <td>Data Management and Strategy</td>\n",
              "    </tr>\n",
              "    <tr>\n",
              "      <th>9351</th>\n",
              "      <td>412000</td>\n",
              "      <td>Senior</td>\n",
              "      <td>Full-time</td>\n",
              "      <td>Remote</td>\n",
              "      <td>L</td>\n",
              "      <td>Data Science and Research</td>\n",
              "    </tr>\n",
              "    <tr>\n",
              "      <th>9352</th>\n",
              "      <td>151000</td>\n",
              "      <td>Mid-level</td>\n",
              "      <td>Full-time</td>\n",
              "      <td>Remote</td>\n",
              "      <td>L</td>\n",
              "      <td>Data Science and Research</td>\n",
              "    </tr>\n",
              "    <tr>\n",
              "      <th>9353</th>\n",
              "      <td>105000</td>\n",
              "      <td>Entry-level</td>\n",
              "      <td>Full-time</td>\n",
              "      <td>Remote</td>\n",
              "      <td>S</td>\n",
              "      <td>Data Science and Research</td>\n",
              "    </tr>\n",
              "    <tr>\n",
              "      <th>9354</th>\n",
              "      <td>100000</td>\n",
              "      <td>Entry-level</td>\n",
              "      <td>Contract</td>\n",
              "      <td>Remote</td>\n",
              "      <td>L</td>\n",
              "      <td>Data Analysis</td>\n",
              "    </tr>\n",
              "  </tbody>\n",
              "</table>\n",
              "<p>9355 rows × 6 columns</p>\n",
              "</div>\n",
              "    <div class=\"colab-df-buttons\">\n",
              "\n",
              "  <div class=\"colab-df-container\">\n",
              "    <button class=\"colab-df-convert\" onclick=\"convertToInteractive('df-447839d6-f13d-4d4f-a282-e2acad794ce9')\"\n",
              "            title=\"Convert this dataframe to an interactive table.\"\n",
              "            style=\"display:none;\">\n",
              "\n",
              "  <svg xmlns=\"http://www.w3.org/2000/svg\" height=\"24px\" viewBox=\"0 -960 960 960\">\n",
              "    <path d=\"M120-120v-720h720v720H120Zm60-500h600v-160H180v160Zm220 220h160v-160H400v160Zm0 220h160v-160H400v160ZM180-400h160v-160H180v160Zm440 0h160v-160H620v160ZM180-180h160v-160H180v160Zm440 0h160v-160H620v160Z\"/>\n",
              "  </svg>\n",
              "    </button>\n",
              "\n",
              "  <style>\n",
              "    .colab-df-container {\n",
              "      display:flex;\n",
              "      gap: 12px;\n",
              "    }\n",
              "\n",
              "    .colab-df-convert {\n",
              "      background-color: #E8F0FE;\n",
              "      border: none;\n",
              "      border-radius: 50%;\n",
              "      cursor: pointer;\n",
              "      display: none;\n",
              "      fill: #1967D2;\n",
              "      height: 32px;\n",
              "      padding: 0 0 0 0;\n",
              "      width: 32px;\n",
              "    }\n",
              "\n",
              "    .colab-df-convert:hover {\n",
              "      background-color: #E2EBFA;\n",
              "      box-shadow: 0px 1px 2px rgba(60, 64, 67, 0.3), 0px 1px 3px 1px rgba(60, 64, 67, 0.15);\n",
              "      fill: #174EA6;\n",
              "    }\n",
              "\n",
              "    .colab-df-buttons div {\n",
              "      margin-bottom: 4px;\n",
              "    }\n",
              "\n",
              "    [theme=dark] .colab-df-convert {\n",
              "      background-color: #3B4455;\n",
              "      fill: #D2E3FC;\n",
              "    }\n",
              "\n",
              "    [theme=dark] .colab-df-convert:hover {\n",
              "      background-color: #434B5C;\n",
              "      box-shadow: 0px 1px 3px 1px rgba(0, 0, 0, 0.15);\n",
              "      filter: drop-shadow(0px 1px 2px rgba(0, 0, 0, 0.3));\n",
              "      fill: #FFFFFF;\n",
              "    }\n",
              "  </style>\n",
              "\n",
              "    <script>\n",
              "      const buttonEl =\n",
              "        document.querySelector('#df-447839d6-f13d-4d4f-a282-e2acad794ce9 button.colab-df-convert');\n",
              "      buttonEl.style.display =\n",
              "        google.colab.kernel.accessAllowed ? 'block' : 'none';\n",
              "\n",
              "      async function convertToInteractive(key) {\n",
              "        const element = document.querySelector('#df-447839d6-f13d-4d4f-a282-e2acad794ce9');\n",
              "        const dataTable =\n",
              "          await google.colab.kernel.invokeFunction('convertToInteractive',\n",
              "                                                    [key], {});\n",
              "        if (!dataTable) return;\n",
              "\n",
              "        const docLinkHtml = 'Like what you see? Visit the ' +\n",
              "          '<a target=\"_blank\" href=https://colab.research.google.com/notebooks/data_table.ipynb>data table notebook</a>'\n",
              "          + ' to learn more about interactive tables.';\n",
              "        element.innerHTML = '';\n",
              "        dataTable['output_type'] = 'display_data';\n",
              "        await google.colab.output.renderOutput(dataTable, element);\n",
              "        const docLink = document.createElement('div');\n",
              "        docLink.innerHTML = docLinkHtml;\n",
              "        element.appendChild(docLink);\n",
              "      }\n",
              "    </script>\n",
              "  </div>\n",
              "\n",
              "\n",
              "<div id=\"df-208543fc-4426-41ed-b5aa-82771a9f8fde\">\n",
              "  <button class=\"colab-df-quickchart\" onclick=\"quickchart('df-208543fc-4426-41ed-b5aa-82771a9f8fde')\"\n",
              "            title=\"Suggest charts\"\n",
              "            style=\"display:none;\">\n",
              "\n",
              "<svg xmlns=\"http://www.w3.org/2000/svg\" height=\"24px\"viewBox=\"0 0 24 24\"\n",
              "     width=\"24px\">\n",
              "    <g>\n",
              "        <path d=\"M19 3H5c-1.1 0-2 .9-2 2v14c0 1.1.9 2 2 2h14c1.1 0 2-.9 2-2V5c0-1.1-.9-2-2-2zM9 17H7v-7h2v7zm4 0h-2V7h2v10zm4 0h-2v-4h2v4z\"/>\n",
              "    </g>\n",
              "</svg>\n",
              "  </button>\n",
              "\n",
              "<style>\n",
              "  .colab-df-quickchart {\n",
              "      --bg-color: #E8F0FE;\n",
              "      --fill-color: #1967D2;\n",
              "      --hover-bg-color: #E2EBFA;\n",
              "      --hover-fill-color: #174EA6;\n",
              "      --disabled-fill-color: #AAA;\n",
              "      --disabled-bg-color: #DDD;\n",
              "  }\n",
              "\n",
              "  [theme=dark] .colab-df-quickchart {\n",
              "      --bg-color: #3B4455;\n",
              "      --fill-color: #D2E3FC;\n",
              "      --hover-bg-color: #434B5C;\n",
              "      --hover-fill-color: #FFFFFF;\n",
              "      --disabled-bg-color: #3B4455;\n",
              "      --disabled-fill-color: #666;\n",
              "  }\n",
              "\n",
              "  .colab-df-quickchart {\n",
              "    background-color: var(--bg-color);\n",
              "    border: none;\n",
              "    border-radius: 50%;\n",
              "    cursor: pointer;\n",
              "    display: none;\n",
              "    fill: var(--fill-color);\n",
              "    height: 32px;\n",
              "    padding: 0;\n",
              "    width: 32px;\n",
              "  }\n",
              "\n",
              "  .colab-df-quickchart:hover {\n",
              "    background-color: var(--hover-bg-color);\n",
              "    box-shadow: 0 1px 2px rgba(60, 64, 67, 0.3), 0 1px 3px 1px rgba(60, 64, 67, 0.15);\n",
              "    fill: var(--button-hover-fill-color);\n",
              "  }\n",
              "\n",
              "  .colab-df-quickchart-complete:disabled,\n",
              "  .colab-df-quickchart-complete:disabled:hover {\n",
              "    background-color: var(--disabled-bg-color);\n",
              "    fill: var(--disabled-fill-color);\n",
              "    box-shadow: none;\n",
              "  }\n",
              "\n",
              "  .colab-df-spinner {\n",
              "    border: 2px solid var(--fill-color);\n",
              "    border-color: transparent;\n",
              "    border-bottom-color: var(--fill-color);\n",
              "    animation:\n",
              "      spin 1s steps(1) infinite;\n",
              "  }\n",
              "\n",
              "  @keyframes spin {\n",
              "    0% {\n",
              "      border-color: transparent;\n",
              "      border-bottom-color: var(--fill-color);\n",
              "      border-left-color: var(--fill-color);\n",
              "    }\n",
              "    20% {\n",
              "      border-color: transparent;\n",
              "      border-left-color: var(--fill-color);\n",
              "      border-top-color: var(--fill-color);\n",
              "    }\n",
              "    30% {\n",
              "      border-color: transparent;\n",
              "      border-left-color: var(--fill-color);\n",
              "      border-top-color: var(--fill-color);\n",
              "      border-right-color: var(--fill-color);\n",
              "    }\n",
              "    40% {\n",
              "      border-color: transparent;\n",
              "      border-right-color: var(--fill-color);\n",
              "      border-top-color: var(--fill-color);\n",
              "    }\n",
              "    60% {\n",
              "      border-color: transparent;\n",
              "      border-right-color: var(--fill-color);\n",
              "    }\n",
              "    80% {\n",
              "      border-color: transparent;\n",
              "      border-right-color: var(--fill-color);\n",
              "      border-bottom-color: var(--fill-color);\n",
              "    }\n",
              "    90% {\n",
              "      border-color: transparent;\n",
              "      border-bottom-color: var(--fill-color);\n",
              "    }\n",
              "  }\n",
              "</style>\n",
              "\n",
              "  <script>\n",
              "    async function quickchart(key) {\n",
              "      const quickchartButtonEl =\n",
              "        document.querySelector('#' + key + ' button');\n",
              "      quickchartButtonEl.disabled = true;  // To prevent multiple clicks.\n",
              "      quickchartButtonEl.classList.add('colab-df-spinner');\n",
              "      try {\n",
              "        const charts = await google.colab.kernel.invokeFunction(\n",
              "            'suggestCharts', [key], {});\n",
              "      } catch (error) {\n",
              "        console.error('Error during call to suggestCharts:', error);\n",
              "      }\n",
              "      quickchartButtonEl.classList.remove('colab-df-spinner');\n",
              "      quickchartButtonEl.classList.add('colab-df-quickchart-complete');\n",
              "    }\n",
              "    (() => {\n",
              "      let quickchartButtonEl =\n",
              "        document.querySelector('#df-208543fc-4426-41ed-b5aa-82771a9f8fde button');\n",
              "      quickchartButtonEl.style.display =\n",
              "        google.colab.kernel.accessAllowed ? 'block' : 'none';\n",
              "    })();\n",
              "  </script>\n",
              "</div>\n",
              "\n",
              "  <div id=\"id_c1d35fd9-57df-4a73-b201-f798256e616b\">\n",
              "    <style>\n",
              "      .colab-df-generate {\n",
              "        background-color: #E8F0FE;\n",
              "        border: none;\n",
              "        border-radius: 50%;\n",
              "        cursor: pointer;\n",
              "        display: none;\n",
              "        fill: #1967D2;\n",
              "        height: 32px;\n",
              "        padding: 0 0 0 0;\n",
              "        width: 32px;\n",
              "      }\n",
              "\n",
              "      .colab-df-generate:hover {\n",
              "        background-color: #E2EBFA;\n",
              "        box-shadow: 0px 1px 2px rgba(60, 64, 67, 0.3), 0px 1px 3px 1px rgba(60, 64, 67, 0.15);\n",
              "        fill: #174EA6;\n",
              "      }\n",
              "\n",
              "      [theme=dark] .colab-df-generate {\n",
              "        background-color: #3B4455;\n",
              "        fill: #D2E3FC;\n",
              "      }\n",
              "\n",
              "      [theme=dark] .colab-df-generate:hover {\n",
              "        background-color: #434B5C;\n",
              "        box-shadow: 0px 1px 3px 1px rgba(0, 0, 0, 0.15);\n",
              "        filter: drop-shadow(0px 1px 2px rgba(0, 0, 0, 0.3));\n",
              "        fill: #FFFFFF;\n",
              "      }\n",
              "    </style>\n",
              "    <button class=\"colab-df-generate\" onclick=\"generateWithVariable('df')\"\n",
              "            title=\"Generate code using this dataframe.\"\n",
              "            style=\"display:none;\">\n",
              "\n",
              "  <svg xmlns=\"http://www.w3.org/2000/svg\" height=\"24px\"viewBox=\"0 0 24 24\"\n",
              "       width=\"24px\">\n",
              "    <path d=\"M7,19H8.4L18.45,9,17,7.55,7,17.6ZM5,21V16.75L18.45,3.32a2,2,0,0,1,2.83,0l1.4,1.43a1.91,1.91,0,0,1,.58,1.4,1.91,1.91,0,0,1-.58,1.4L9.25,21ZM18.45,9,17,7.55Zm-12,3A5.31,5.31,0,0,0,4.9,8.1,5.31,5.31,0,0,0,1,6.5,5.31,5.31,0,0,0,4.9,4.9,5.31,5.31,0,0,0,6.5,1,5.31,5.31,0,0,0,8.1,4.9,5.31,5.31,0,0,0,12,6.5,5.46,5.46,0,0,0,6.5,12Z\"/>\n",
              "  </svg>\n",
              "    </button>\n",
              "    <script>\n",
              "      (() => {\n",
              "      const buttonEl =\n",
              "        document.querySelector('#id_c1d35fd9-57df-4a73-b201-f798256e616b button.colab-df-generate');\n",
              "      buttonEl.style.display =\n",
              "        google.colab.kernel.accessAllowed ? 'block' : 'none';\n",
              "\n",
              "      buttonEl.onclick = () => {\n",
              "        google.colab.notebook.generateWithVariable('df');\n",
              "      }\n",
              "      })();\n",
              "    </script>\n",
              "  </div>\n",
              "\n",
              "    </div>\n",
              "  </div>\n"
            ],
            "application/vnd.google.colaboratory.intrinsic+json": {
              "type": "dataframe",
              "variable_name": "df",
              "summary": "{\n  \"name\": \"df\",\n  \"rows\": 9355,\n  \"fields\": [\n    {\n      \"column\": \"salary_in_usd\",\n      \"properties\": {\n        \"dtype\": \"number\",\n        \"std\": 63177,\n        \"min\": 15000,\n        \"max\": 450000,\n        \"num_unique_values\": 1786,\n        \"samples\": [\n          222000,\n          266450,\n          239748\n        ],\n        \"semantic_type\": \"\",\n        \"description\": \"\"\n      }\n    },\n    {\n      \"column\": \"experience_level\",\n      \"properties\": {\n        \"dtype\": \"category\",\n        \"num_unique_values\": 4,\n        \"samples\": [\n          \"Senior\",\n          \"Entry-level\",\n          \"Mid-level\"\n        ],\n        \"semantic_type\": \"\",\n        \"description\": \"\"\n      }\n    },\n    {\n      \"column\": \"employment_type\",\n      \"properties\": {\n        \"dtype\": \"category\",\n        \"num_unique_values\": 4,\n        \"samples\": [\n          \"Part-time\",\n          \"Freelance\",\n          \"Full-time\"\n        ],\n        \"semantic_type\": \"\",\n        \"description\": \"\"\n      }\n    },\n    {\n      \"column\": \"work_setting\",\n      \"properties\": {\n        \"dtype\": \"category\",\n        \"num_unique_values\": 3,\n        \"samples\": [\n          \"Hybrid\",\n          \"In-person\",\n          \"Remote\"\n        ],\n        \"semantic_type\": \"\",\n        \"description\": \"\"\n      }\n    },\n    {\n      \"column\": \"company_size\",\n      \"properties\": {\n        \"dtype\": \"category\",\n        \"num_unique_values\": 3,\n        \"samples\": [\n          \"L\",\n          \"M\",\n          \"S\"\n        ],\n        \"semantic_type\": \"\",\n        \"description\": \"\"\n      }\n    },\n    {\n      \"column\": \"job_category\",\n      \"properties\": {\n        \"dtype\": \"category\",\n        \"num_unique_values\": 10,\n        \"samples\": [\n          \"Data Management and Strategy\",\n          \"Data Architecture and Modeling\",\n          \"Leadership and Management\"\n        ],\n        \"semantic_type\": \"\",\n        \"description\": \"\"\n      }\n    }\n  ]\n}"
            }
          },
          "metadata": {},
          "execution_count": 407
        }
      ]
    },
    {
      "cell_type": "markdown",
      "source": [
        "En previsión de los algoritmos que se utilizarán en el proceso de aprendizaje automático, se llevarán a cabo transformaciones en varias columnas categóricas de interés. Estas transformaciones permitirán representar cada categoría mediante un número, lo que facilitará el análisis y la interpretación de los datos durante el proceso de modelado."
      ],
      "metadata": {
        "id": "BoffSUzIXfif"
      }
    },
    {
      "cell_type": "markdown",
      "source": [
        "`job_category`\n",
        "\n",
        "En primer lugar, se contabilizó el total de valores únicos.\n",
        "Seguido de ello, se reemplazaron las variables categóricas por valores numéricos con la finalidad de poder utilizalos posteriormente.\n",
        "\n",
        "De este modo, los datos convertidos guardan la siguiente relación:\n",
        "\n",
        "* Data Engineering = 0\n",
        "* Data Architecture and Modeling = 1\n",
        "* Data Science and Research = 2\n",
        "* Machine Learning and AI = 3\n",
        "* Data Analysis = 4\n",
        "* Leadership and Management = 5\n",
        "* BI and Visualization = 6\n",
        "* Data Quality and Operations = 7\n",
        "* Data Management and Strategy = 8\n",
        "* Cloud and Database = 9"
      ],
      "metadata": {
        "id": "JfoaawntX-yo"
      }
    },
    {
      "cell_type": "code",
      "source": [
        "df['job_category'].unique()"
      ],
      "metadata": {
        "colab": {
          "base_uri": "https://localhost:8080/"
        },
        "id": "f3N3cPpr-88B",
        "outputId": "c9038065-ee9d-48d7-9fc4-48ccd1999565"
      },
      "execution_count": 408,
      "outputs": [
        {
          "output_type": "execute_result",
          "data": {
            "text/plain": [
              "array(['Data Engineering', 'Data Architecture and Modeling',\n",
              "       'Data Science and Research', 'Machine Learning and AI',\n",
              "       'Data Analysis', 'Leadership and Management',\n",
              "       'BI and Visualization', 'Data Quality and Operations',\n",
              "       'Data Management and Strategy', 'Cloud and Database'], dtype=object)"
            ]
          },
          "metadata": {},
          "execution_count": 408
        }
      ]
    },
    {
      "cell_type": "code",
      "source": [
        "df['job_category'].nunique()"
      ],
      "metadata": {
        "colab": {
          "base_uri": "https://localhost:8080/"
        },
        "id": "ba4SOv4__5Gq",
        "outputId": "a71b7556-fa02-4f58-ace4-f67594ad1cd7"
      },
      "execution_count": 409,
      "outputs": [
        {
          "output_type": "execute_result",
          "data": {
            "text/plain": [
              "10"
            ]
          },
          "metadata": {},
          "execution_count": 409
        }
      ]
    },
    {
      "cell_type": "code",
      "source": [
        "df['job_category'] = df['job_category'].replace({'Data Engineering': '0', 'Data Architecture and Modeling': '1', 'Data Science and Research': '2',\n",
        "                                                 'Machine Learning and AI' : '3', 'Data Analysis' : '4' , 'Leadership and Management' : '5',\n",
        "                                                 'BI and Visualization' : '6', 'Data Quality and Operations' : '7', 'Data Management and Strategy' : '8',\n",
        "                                                 'Cloud and Database' : '9'})"
      ],
      "metadata": {
        "id": "bc1HvbUo_8ax"
      },
      "execution_count": 410,
      "outputs": []
    },
    {
      "cell_type": "markdown",
      "source": [
        "`experience_level`\n",
        "\n",
        "Los datos convertidos guardan la siguiente relación:\n",
        "\n",
        "* Entry-level = 0\n",
        "* Mid-level = 1\n",
        "* Senior = 2\n",
        "* Executive = 3\n"
      ],
      "metadata": {
        "id": "0GbX4SP3uBAd"
      }
    },
    {
      "cell_type": "code",
      "source": [
        "df['experience_level'].unique()"
      ],
      "metadata": {
        "colab": {
          "base_uri": "https://localhost:8080/"
        },
        "id": "6rv6H2C5eUox",
        "outputId": "1dda0596-86e2-47be-b971-6a266930a75d"
      },
      "execution_count": 411,
      "outputs": [
        {
          "output_type": "execute_result",
          "data": {
            "text/plain": [
              "array(['Mid-level', 'Senior', 'Executive', 'Entry-level'], dtype=object)"
            ]
          },
          "metadata": {},
          "execution_count": 411
        }
      ]
    },
    {
      "cell_type": "code",
      "source": [
        "df['experience_level'].nunique()"
      ],
      "metadata": {
        "colab": {
          "base_uri": "https://localhost:8080/"
        },
        "id": "5fkQmj0deaES",
        "outputId": "018e62c0-ee38-4ccf-c578-da0057acdf78"
      },
      "execution_count": 412,
      "outputs": [
        {
          "output_type": "execute_result",
          "data": {
            "text/plain": [
              "4"
            ]
          },
          "metadata": {},
          "execution_count": 412
        }
      ]
    },
    {
      "cell_type": "code",
      "source": [
        "df['experience_level'] = df['experience_level'].replace({'Entry-level': '0', 'Mid-level': '1', 'Senior': '2',\n",
        "                                                 'Executive' : '3'})"
      ],
      "metadata": {
        "id": "LNR53142ec0-"
      },
      "execution_count": 413,
      "outputs": []
    },
    {
      "cell_type": "markdown",
      "source": [
        "`employment_type`\n",
        "\n",
        "Los datos convertidos guardan la siguiente relación:\n",
        "\n",
        "* Freelance = 0\n",
        "* Contract = 1\n",
        "* Part-time = 2\n",
        "* Full-time = 3\n"
      ],
      "metadata": {
        "id": "ol8aVD9luHKc"
      }
    },
    {
      "cell_type": "code",
      "source": [
        "df['employment_type'].unique()"
      ],
      "metadata": {
        "colab": {
          "base_uri": "https://localhost:8080/"
        },
        "id": "sJWnU8d-e66T",
        "outputId": "c3f6d986-f8ce-436a-e5a2-565ec0dad97c"
      },
      "execution_count": 414,
      "outputs": [
        {
          "output_type": "execute_result",
          "data": {
            "text/plain": [
              "array(['Full-time', 'Part-time', 'Contract', 'Freelance'], dtype=object)"
            ]
          },
          "metadata": {},
          "execution_count": 414
        }
      ]
    },
    {
      "cell_type": "code",
      "source": [
        "df['employment_type'].nunique()"
      ],
      "metadata": {
        "colab": {
          "base_uri": "https://localhost:8080/"
        },
        "id": "iIG8c5F6fCjj",
        "outputId": "9b4701bb-475c-4afc-dc8c-fb7f8799c231"
      },
      "execution_count": 415,
      "outputs": [
        {
          "output_type": "execute_result",
          "data": {
            "text/plain": [
              "4"
            ]
          },
          "metadata": {},
          "execution_count": 415
        }
      ]
    },
    {
      "cell_type": "code",
      "source": [
        "df['employment_type'] = df['employment_type'].replace({'Freelance': '0', 'Contract': '1', 'Part-time': '2',\n",
        "                                                 'Full-time' : '3'})"
      ],
      "metadata": {
        "id": "6oI62cu5fGta"
      },
      "execution_count": 416,
      "outputs": []
    },
    {
      "cell_type": "markdown",
      "source": [
        "`work_setting`\n",
        "\n",
        "Los datos convertidos guardan la siguiente relación:\n",
        "\n",
        "* Remote = 0\n",
        "* Hybrid = 1\n",
        "* In-person = 2\n"
      ],
      "metadata": {
        "id": "ITnrJeqCuJmA"
      }
    },
    {
      "cell_type": "code",
      "source": [
        "df['work_setting'].unique()"
      ],
      "metadata": {
        "colab": {
          "base_uri": "https://localhost:8080/"
        },
        "id": "Dc5mmGkYfbsF",
        "outputId": "dbb86195-9e2b-46a0-f96f-8fdb5697bc0c"
      },
      "execution_count": 417,
      "outputs": [
        {
          "output_type": "execute_result",
          "data": {
            "text/plain": [
              "array(['Hybrid', 'In-person', 'Remote'], dtype=object)"
            ]
          },
          "metadata": {},
          "execution_count": 417
        }
      ]
    },
    {
      "cell_type": "code",
      "source": [
        "df['work_setting'].nunique()"
      ],
      "metadata": {
        "colab": {
          "base_uri": "https://localhost:8080/"
        },
        "id": "2t7PNhZsfhGy",
        "outputId": "d53a368e-775f-47df-d1ad-e345ac2486ee"
      },
      "execution_count": 418,
      "outputs": [
        {
          "output_type": "execute_result",
          "data": {
            "text/plain": [
              "3"
            ]
          },
          "metadata": {},
          "execution_count": 418
        }
      ]
    },
    {
      "cell_type": "code",
      "source": [
        "df['work_setting'] = df['work_setting'].replace({'Remote': '0', 'Hybrid': '1', 'In-person': '2'})"
      ],
      "metadata": {
        "id": "dJV62guofjfL"
      },
      "execution_count": 419,
      "outputs": []
    },
    {
      "cell_type": "markdown",
      "source": [
        "`company_size`\n",
        "\n",
        "Los datos convertidos guardan la siguiente relación:\n",
        "\n",
        "* S -> Small = 0\n",
        "* M -> Medium = 1\n",
        "* L -> Large = 2"
      ],
      "metadata": {
        "id": "6KdT16zcuPE7"
      }
    },
    {
      "cell_type": "code",
      "source": [
        "df['company_size'].unique()"
      ],
      "metadata": {
        "colab": {
          "base_uri": "https://localhost:8080/"
        },
        "id": "ycDOoRLCf-rZ",
        "outputId": "a111a01c-4885-4aab-de23-350878c44fad"
      },
      "execution_count": 420,
      "outputs": [
        {
          "output_type": "execute_result",
          "data": {
            "text/plain": [
              "array(['L', 'M', 'S'], dtype=object)"
            ]
          },
          "metadata": {},
          "execution_count": 420
        }
      ]
    },
    {
      "cell_type": "code",
      "source": [
        "df['company_size'].nunique()"
      ],
      "metadata": {
        "colab": {
          "base_uri": "https://localhost:8080/"
        },
        "id": "97Lih9aEgDM7",
        "outputId": "71cf16a8-2311-48f3-867e-a5a78602b535"
      },
      "execution_count": 421,
      "outputs": [
        {
          "output_type": "execute_result",
          "data": {
            "text/plain": [
              "3"
            ]
          },
          "metadata": {},
          "execution_count": 421
        }
      ]
    },
    {
      "cell_type": "code",
      "source": [
        "df['company_size'] = df['company_size'].replace({'S': '0', 'M': '1', 'L': '2'})"
      ],
      "metadata": {
        "id": "p1mhon_agE3y"
      },
      "execution_count": 422,
      "outputs": []
    },
    {
      "cell_type": "markdown",
      "source": [
        "Una vez transformados los datos, se hace lectura del dataset para corroborar que efectivamente las transformaciones se llevaron a cabo de manera satisfactoria y las variables categóricas ahora están representadas por valores numéricos."
      ],
      "metadata": {
        "id": "7tFefkrkCjy-"
      }
    },
    {
      "cell_type": "code",
      "source": [
        "df"
      ],
      "metadata": {
        "id": "BJnVJXeHXqoc",
        "colab": {
          "base_uri": "https://localhost:8080/",
          "height": 424
        },
        "outputId": "673222b3-2660-4c09-ba7d-d3fb4c8f2a8c"
      },
      "execution_count": 423,
      "outputs": [
        {
          "output_type": "execute_result",
          "data": {
            "text/plain": [
              "      salary_in_usd experience_level employment_type work_setting  \\\n",
              "0             95012                1               3            1   \n",
              "1            186000                2               3            2   \n",
              "2             81800                2               3            2   \n",
              "3            212000                2               3            2   \n",
              "4             93300                2               3            2   \n",
              "...             ...              ...             ...          ...   \n",
              "9350         165000                2               3            0   \n",
              "9351         412000                2               3            0   \n",
              "9352         151000                1               3            0   \n",
              "9353         105000                0               3            0   \n",
              "9354         100000                0               1            0   \n",
              "\n",
              "     company_size job_category  \n",
              "0               2            0  \n",
              "1               1            1  \n",
              "2               1            1  \n",
              "3               1            2  \n",
              "4               1            2  \n",
              "...           ...          ...  \n",
              "9350            2            8  \n",
              "9351            2            2  \n",
              "9352            2            2  \n",
              "9353            0            2  \n",
              "9354            2            4  \n",
              "\n",
              "[9355 rows x 6 columns]"
            ],
            "text/html": [
              "\n",
              "  <div id=\"df-ee67b4e9-e526-409d-937f-e0d638007046\" class=\"colab-df-container\">\n",
              "    <div>\n",
              "<style scoped>\n",
              "    .dataframe tbody tr th:only-of-type {\n",
              "        vertical-align: middle;\n",
              "    }\n",
              "\n",
              "    .dataframe tbody tr th {\n",
              "        vertical-align: top;\n",
              "    }\n",
              "\n",
              "    .dataframe thead th {\n",
              "        text-align: right;\n",
              "    }\n",
              "</style>\n",
              "<table border=\"1\" class=\"dataframe\">\n",
              "  <thead>\n",
              "    <tr style=\"text-align: right;\">\n",
              "      <th></th>\n",
              "      <th>salary_in_usd</th>\n",
              "      <th>experience_level</th>\n",
              "      <th>employment_type</th>\n",
              "      <th>work_setting</th>\n",
              "      <th>company_size</th>\n",
              "      <th>job_category</th>\n",
              "    </tr>\n",
              "  </thead>\n",
              "  <tbody>\n",
              "    <tr>\n",
              "      <th>0</th>\n",
              "      <td>95012</td>\n",
              "      <td>1</td>\n",
              "      <td>3</td>\n",
              "      <td>1</td>\n",
              "      <td>2</td>\n",
              "      <td>0</td>\n",
              "    </tr>\n",
              "    <tr>\n",
              "      <th>1</th>\n",
              "      <td>186000</td>\n",
              "      <td>2</td>\n",
              "      <td>3</td>\n",
              "      <td>2</td>\n",
              "      <td>1</td>\n",
              "      <td>1</td>\n",
              "    </tr>\n",
              "    <tr>\n",
              "      <th>2</th>\n",
              "      <td>81800</td>\n",
              "      <td>2</td>\n",
              "      <td>3</td>\n",
              "      <td>2</td>\n",
              "      <td>1</td>\n",
              "      <td>1</td>\n",
              "    </tr>\n",
              "    <tr>\n",
              "      <th>3</th>\n",
              "      <td>212000</td>\n",
              "      <td>2</td>\n",
              "      <td>3</td>\n",
              "      <td>2</td>\n",
              "      <td>1</td>\n",
              "      <td>2</td>\n",
              "    </tr>\n",
              "    <tr>\n",
              "      <th>4</th>\n",
              "      <td>93300</td>\n",
              "      <td>2</td>\n",
              "      <td>3</td>\n",
              "      <td>2</td>\n",
              "      <td>1</td>\n",
              "      <td>2</td>\n",
              "    </tr>\n",
              "    <tr>\n",
              "      <th>...</th>\n",
              "      <td>...</td>\n",
              "      <td>...</td>\n",
              "      <td>...</td>\n",
              "      <td>...</td>\n",
              "      <td>...</td>\n",
              "      <td>...</td>\n",
              "    </tr>\n",
              "    <tr>\n",
              "      <th>9350</th>\n",
              "      <td>165000</td>\n",
              "      <td>2</td>\n",
              "      <td>3</td>\n",
              "      <td>0</td>\n",
              "      <td>2</td>\n",
              "      <td>8</td>\n",
              "    </tr>\n",
              "    <tr>\n",
              "      <th>9351</th>\n",
              "      <td>412000</td>\n",
              "      <td>2</td>\n",
              "      <td>3</td>\n",
              "      <td>0</td>\n",
              "      <td>2</td>\n",
              "      <td>2</td>\n",
              "    </tr>\n",
              "    <tr>\n",
              "      <th>9352</th>\n",
              "      <td>151000</td>\n",
              "      <td>1</td>\n",
              "      <td>3</td>\n",
              "      <td>0</td>\n",
              "      <td>2</td>\n",
              "      <td>2</td>\n",
              "    </tr>\n",
              "    <tr>\n",
              "      <th>9353</th>\n",
              "      <td>105000</td>\n",
              "      <td>0</td>\n",
              "      <td>3</td>\n",
              "      <td>0</td>\n",
              "      <td>0</td>\n",
              "      <td>2</td>\n",
              "    </tr>\n",
              "    <tr>\n",
              "      <th>9354</th>\n",
              "      <td>100000</td>\n",
              "      <td>0</td>\n",
              "      <td>1</td>\n",
              "      <td>0</td>\n",
              "      <td>2</td>\n",
              "      <td>4</td>\n",
              "    </tr>\n",
              "  </tbody>\n",
              "</table>\n",
              "<p>9355 rows × 6 columns</p>\n",
              "</div>\n",
              "    <div class=\"colab-df-buttons\">\n",
              "\n",
              "  <div class=\"colab-df-container\">\n",
              "    <button class=\"colab-df-convert\" onclick=\"convertToInteractive('df-ee67b4e9-e526-409d-937f-e0d638007046')\"\n",
              "            title=\"Convert this dataframe to an interactive table.\"\n",
              "            style=\"display:none;\">\n",
              "\n",
              "  <svg xmlns=\"http://www.w3.org/2000/svg\" height=\"24px\" viewBox=\"0 -960 960 960\">\n",
              "    <path d=\"M120-120v-720h720v720H120Zm60-500h600v-160H180v160Zm220 220h160v-160H400v160Zm0 220h160v-160H400v160ZM180-400h160v-160H180v160Zm440 0h160v-160H620v160ZM180-180h160v-160H180v160Zm440 0h160v-160H620v160Z\"/>\n",
              "  </svg>\n",
              "    </button>\n",
              "\n",
              "  <style>\n",
              "    .colab-df-container {\n",
              "      display:flex;\n",
              "      gap: 12px;\n",
              "    }\n",
              "\n",
              "    .colab-df-convert {\n",
              "      background-color: #E8F0FE;\n",
              "      border: none;\n",
              "      border-radius: 50%;\n",
              "      cursor: pointer;\n",
              "      display: none;\n",
              "      fill: #1967D2;\n",
              "      height: 32px;\n",
              "      padding: 0 0 0 0;\n",
              "      width: 32px;\n",
              "    }\n",
              "\n",
              "    .colab-df-convert:hover {\n",
              "      background-color: #E2EBFA;\n",
              "      box-shadow: 0px 1px 2px rgba(60, 64, 67, 0.3), 0px 1px 3px 1px rgba(60, 64, 67, 0.15);\n",
              "      fill: #174EA6;\n",
              "    }\n",
              "\n",
              "    .colab-df-buttons div {\n",
              "      margin-bottom: 4px;\n",
              "    }\n",
              "\n",
              "    [theme=dark] .colab-df-convert {\n",
              "      background-color: #3B4455;\n",
              "      fill: #D2E3FC;\n",
              "    }\n",
              "\n",
              "    [theme=dark] .colab-df-convert:hover {\n",
              "      background-color: #434B5C;\n",
              "      box-shadow: 0px 1px 3px 1px rgba(0, 0, 0, 0.15);\n",
              "      filter: drop-shadow(0px 1px 2px rgba(0, 0, 0, 0.3));\n",
              "      fill: #FFFFFF;\n",
              "    }\n",
              "  </style>\n",
              "\n",
              "    <script>\n",
              "      const buttonEl =\n",
              "        document.querySelector('#df-ee67b4e9-e526-409d-937f-e0d638007046 button.colab-df-convert');\n",
              "      buttonEl.style.display =\n",
              "        google.colab.kernel.accessAllowed ? 'block' : 'none';\n",
              "\n",
              "      async function convertToInteractive(key) {\n",
              "        const element = document.querySelector('#df-ee67b4e9-e526-409d-937f-e0d638007046');\n",
              "        const dataTable =\n",
              "          await google.colab.kernel.invokeFunction('convertToInteractive',\n",
              "                                                    [key], {});\n",
              "        if (!dataTable) return;\n",
              "\n",
              "        const docLinkHtml = 'Like what you see? Visit the ' +\n",
              "          '<a target=\"_blank\" href=https://colab.research.google.com/notebooks/data_table.ipynb>data table notebook</a>'\n",
              "          + ' to learn more about interactive tables.';\n",
              "        element.innerHTML = '';\n",
              "        dataTable['output_type'] = 'display_data';\n",
              "        await google.colab.output.renderOutput(dataTable, element);\n",
              "        const docLink = document.createElement('div');\n",
              "        docLink.innerHTML = docLinkHtml;\n",
              "        element.appendChild(docLink);\n",
              "      }\n",
              "    </script>\n",
              "  </div>\n",
              "\n",
              "\n",
              "<div id=\"df-f7ab8a3b-6136-4bf0-b5b9-b424628c1de4\">\n",
              "  <button class=\"colab-df-quickchart\" onclick=\"quickchart('df-f7ab8a3b-6136-4bf0-b5b9-b424628c1de4')\"\n",
              "            title=\"Suggest charts\"\n",
              "            style=\"display:none;\">\n",
              "\n",
              "<svg xmlns=\"http://www.w3.org/2000/svg\" height=\"24px\"viewBox=\"0 0 24 24\"\n",
              "     width=\"24px\">\n",
              "    <g>\n",
              "        <path d=\"M19 3H5c-1.1 0-2 .9-2 2v14c0 1.1.9 2 2 2h14c1.1 0 2-.9 2-2V5c0-1.1-.9-2-2-2zM9 17H7v-7h2v7zm4 0h-2V7h2v10zm4 0h-2v-4h2v4z\"/>\n",
              "    </g>\n",
              "</svg>\n",
              "  </button>\n",
              "\n",
              "<style>\n",
              "  .colab-df-quickchart {\n",
              "      --bg-color: #E8F0FE;\n",
              "      --fill-color: #1967D2;\n",
              "      --hover-bg-color: #E2EBFA;\n",
              "      --hover-fill-color: #174EA6;\n",
              "      --disabled-fill-color: #AAA;\n",
              "      --disabled-bg-color: #DDD;\n",
              "  }\n",
              "\n",
              "  [theme=dark] .colab-df-quickchart {\n",
              "      --bg-color: #3B4455;\n",
              "      --fill-color: #D2E3FC;\n",
              "      --hover-bg-color: #434B5C;\n",
              "      --hover-fill-color: #FFFFFF;\n",
              "      --disabled-bg-color: #3B4455;\n",
              "      --disabled-fill-color: #666;\n",
              "  }\n",
              "\n",
              "  .colab-df-quickchart {\n",
              "    background-color: var(--bg-color);\n",
              "    border: none;\n",
              "    border-radius: 50%;\n",
              "    cursor: pointer;\n",
              "    display: none;\n",
              "    fill: var(--fill-color);\n",
              "    height: 32px;\n",
              "    padding: 0;\n",
              "    width: 32px;\n",
              "  }\n",
              "\n",
              "  .colab-df-quickchart:hover {\n",
              "    background-color: var(--hover-bg-color);\n",
              "    box-shadow: 0 1px 2px rgba(60, 64, 67, 0.3), 0 1px 3px 1px rgba(60, 64, 67, 0.15);\n",
              "    fill: var(--button-hover-fill-color);\n",
              "  }\n",
              "\n",
              "  .colab-df-quickchart-complete:disabled,\n",
              "  .colab-df-quickchart-complete:disabled:hover {\n",
              "    background-color: var(--disabled-bg-color);\n",
              "    fill: var(--disabled-fill-color);\n",
              "    box-shadow: none;\n",
              "  }\n",
              "\n",
              "  .colab-df-spinner {\n",
              "    border: 2px solid var(--fill-color);\n",
              "    border-color: transparent;\n",
              "    border-bottom-color: var(--fill-color);\n",
              "    animation:\n",
              "      spin 1s steps(1) infinite;\n",
              "  }\n",
              "\n",
              "  @keyframes spin {\n",
              "    0% {\n",
              "      border-color: transparent;\n",
              "      border-bottom-color: var(--fill-color);\n",
              "      border-left-color: var(--fill-color);\n",
              "    }\n",
              "    20% {\n",
              "      border-color: transparent;\n",
              "      border-left-color: var(--fill-color);\n",
              "      border-top-color: var(--fill-color);\n",
              "    }\n",
              "    30% {\n",
              "      border-color: transparent;\n",
              "      border-left-color: var(--fill-color);\n",
              "      border-top-color: var(--fill-color);\n",
              "      border-right-color: var(--fill-color);\n",
              "    }\n",
              "    40% {\n",
              "      border-color: transparent;\n",
              "      border-right-color: var(--fill-color);\n",
              "      border-top-color: var(--fill-color);\n",
              "    }\n",
              "    60% {\n",
              "      border-color: transparent;\n",
              "      border-right-color: var(--fill-color);\n",
              "    }\n",
              "    80% {\n",
              "      border-color: transparent;\n",
              "      border-right-color: var(--fill-color);\n",
              "      border-bottom-color: var(--fill-color);\n",
              "    }\n",
              "    90% {\n",
              "      border-color: transparent;\n",
              "      border-bottom-color: var(--fill-color);\n",
              "    }\n",
              "  }\n",
              "</style>\n",
              "\n",
              "  <script>\n",
              "    async function quickchart(key) {\n",
              "      const quickchartButtonEl =\n",
              "        document.querySelector('#' + key + ' button');\n",
              "      quickchartButtonEl.disabled = true;  // To prevent multiple clicks.\n",
              "      quickchartButtonEl.classList.add('colab-df-spinner');\n",
              "      try {\n",
              "        const charts = await google.colab.kernel.invokeFunction(\n",
              "            'suggestCharts', [key], {});\n",
              "      } catch (error) {\n",
              "        console.error('Error during call to suggestCharts:', error);\n",
              "      }\n",
              "      quickchartButtonEl.classList.remove('colab-df-spinner');\n",
              "      quickchartButtonEl.classList.add('colab-df-quickchart-complete');\n",
              "    }\n",
              "    (() => {\n",
              "      let quickchartButtonEl =\n",
              "        document.querySelector('#df-f7ab8a3b-6136-4bf0-b5b9-b424628c1de4 button');\n",
              "      quickchartButtonEl.style.display =\n",
              "        google.colab.kernel.accessAllowed ? 'block' : 'none';\n",
              "    })();\n",
              "  </script>\n",
              "</div>\n",
              "\n",
              "  <div id=\"id_b01aacb9-3e8b-4b6e-a491-a2d8d3794a08\">\n",
              "    <style>\n",
              "      .colab-df-generate {\n",
              "        background-color: #E8F0FE;\n",
              "        border: none;\n",
              "        border-radius: 50%;\n",
              "        cursor: pointer;\n",
              "        display: none;\n",
              "        fill: #1967D2;\n",
              "        height: 32px;\n",
              "        padding: 0 0 0 0;\n",
              "        width: 32px;\n",
              "      }\n",
              "\n",
              "      .colab-df-generate:hover {\n",
              "        background-color: #E2EBFA;\n",
              "        box-shadow: 0px 1px 2px rgba(60, 64, 67, 0.3), 0px 1px 3px 1px rgba(60, 64, 67, 0.15);\n",
              "        fill: #174EA6;\n",
              "      }\n",
              "\n",
              "      [theme=dark] .colab-df-generate {\n",
              "        background-color: #3B4455;\n",
              "        fill: #D2E3FC;\n",
              "      }\n",
              "\n",
              "      [theme=dark] .colab-df-generate:hover {\n",
              "        background-color: #434B5C;\n",
              "        box-shadow: 0px 1px 3px 1px rgba(0, 0, 0, 0.15);\n",
              "        filter: drop-shadow(0px 1px 2px rgba(0, 0, 0, 0.3));\n",
              "        fill: #FFFFFF;\n",
              "      }\n",
              "    </style>\n",
              "    <button class=\"colab-df-generate\" onclick=\"generateWithVariable('df')\"\n",
              "            title=\"Generate code using this dataframe.\"\n",
              "            style=\"display:none;\">\n",
              "\n",
              "  <svg xmlns=\"http://www.w3.org/2000/svg\" height=\"24px\"viewBox=\"0 0 24 24\"\n",
              "       width=\"24px\">\n",
              "    <path d=\"M7,19H8.4L18.45,9,17,7.55,7,17.6ZM5,21V16.75L18.45,3.32a2,2,0,0,1,2.83,0l1.4,1.43a1.91,1.91,0,0,1,.58,1.4,1.91,1.91,0,0,1-.58,1.4L9.25,21ZM18.45,9,17,7.55Zm-12,3A5.31,5.31,0,0,0,4.9,8.1,5.31,5.31,0,0,0,1,6.5,5.31,5.31,0,0,0,4.9,4.9,5.31,5.31,0,0,0,6.5,1,5.31,5.31,0,0,0,8.1,4.9,5.31,5.31,0,0,0,12,6.5,5.46,5.46,0,0,0,6.5,12Z\"/>\n",
              "  </svg>\n",
              "    </button>\n",
              "    <script>\n",
              "      (() => {\n",
              "      const buttonEl =\n",
              "        document.querySelector('#id_b01aacb9-3e8b-4b6e-a491-a2d8d3794a08 button.colab-df-generate');\n",
              "      buttonEl.style.display =\n",
              "        google.colab.kernel.accessAllowed ? 'block' : 'none';\n",
              "\n",
              "      buttonEl.onclick = () => {\n",
              "        google.colab.notebook.generateWithVariable('df');\n",
              "      }\n",
              "      })();\n",
              "    </script>\n",
              "  </div>\n",
              "\n",
              "    </div>\n",
              "  </div>\n"
            ],
            "application/vnd.google.colaboratory.intrinsic+json": {
              "type": "dataframe",
              "variable_name": "df",
              "summary": "{\n  \"name\": \"df\",\n  \"rows\": 9355,\n  \"fields\": [\n    {\n      \"column\": \"salary_in_usd\",\n      \"properties\": {\n        \"dtype\": \"number\",\n        \"std\": 63177,\n        \"min\": 15000,\n        \"max\": 450000,\n        \"num_unique_values\": 1786,\n        \"samples\": [\n          222000,\n          266450,\n          239748\n        ],\n        \"semantic_type\": \"\",\n        \"description\": \"\"\n      }\n    },\n    {\n      \"column\": \"experience_level\",\n      \"properties\": {\n        \"dtype\": \"category\",\n        \"num_unique_values\": 4,\n        \"samples\": [\n          \"2\",\n          \"0\",\n          \"1\"\n        ],\n        \"semantic_type\": \"\",\n        \"description\": \"\"\n      }\n    },\n    {\n      \"column\": \"employment_type\",\n      \"properties\": {\n        \"dtype\": \"category\",\n        \"num_unique_values\": 4,\n        \"samples\": [\n          \"2\",\n          \"0\",\n          \"3\"\n        ],\n        \"semantic_type\": \"\",\n        \"description\": \"\"\n      }\n    },\n    {\n      \"column\": \"work_setting\",\n      \"properties\": {\n        \"dtype\": \"category\",\n        \"num_unique_values\": 3,\n        \"samples\": [\n          \"1\",\n          \"2\",\n          \"0\"\n        ],\n        \"semantic_type\": \"\",\n        \"description\": \"\"\n      }\n    },\n    {\n      \"column\": \"company_size\",\n      \"properties\": {\n        \"dtype\": \"category\",\n        \"num_unique_values\": 3,\n        \"samples\": [\n          \"2\",\n          \"1\",\n          \"0\"\n        ],\n        \"semantic_type\": \"\",\n        \"description\": \"\"\n      }\n    },\n    {\n      \"column\": \"job_category\",\n      \"properties\": {\n        \"dtype\": \"category\",\n        \"num_unique_values\": 10,\n        \"samples\": [\n          \"8\",\n          \"1\",\n          \"5\"\n        ],\n        \"semantic_type\": \"\",\n        \"description\": \"\"\n      }\n    }\n  ]\n}"
            }
          },
          "metadata": {},
          "execution_count": 423
        }
      ]
    },
    {
      "cell_type": "code",
      "source": [
        "df.dtypes"
      ],
      "metadata": {
        "colab": {
          "base_uri": "https://localhost:8080/"
        },
        "id": "Fr0jfsZ4zRKD",
        "outputId": "b4b20834-241b-45cc-ac31-c2acfb199c27"
      },
      "execution_count": 424,
      "outputs": [
        {
          "output_type": "execute_result",
          "data": {
            "text/plain": [
              "salary_in_usd        int64\n",
              "experience_level    object\n",
              "employment_type     object\n",
              "work_setting        object\n",
              "company_size        object\n",
              "job_category        object\n",
              "dtype: object"
            ]
          },
          "metadata": {},
          "execution_count": 424
        }
      ]
    },
    {
      "cell_type": "code",
      "source": [
        "df['job_category'] = df['job_category'].astype(int)\n",
        "df['experience_level'] = df['experience_level'].astype(int)\n",
        "df['employment_type'] = df['employment_type'].astype(int)\n",
        "df['work_setting'] = df['work_setting'].astype(int)\n",
        "df['company_size'] = df['company_size'].astype(int)\n"
      ],
      "metadata": {
        "id": "wCW1htEmzwi9"
      },
      "execution_count": 425,
      "outputs": []
    },
    {
      "cell_type": "code",
      "source": [
        "df.dtypes"
      ],
      "metadata": {
        "colab": {
          "base_uri": "https://localhost:8080/"
        },
        "id": "VXIJLBVu0Qwk",
        "outputId": "d070ae3a-6629-4a73-c775-711c494d9188"
      },
      "execution_count": 426,
      "outputs": [
        {
          "output_type": "execute_result",
          "data": {
            "text/plain": [
              "salary_in_usd       int64\n",
              "experience_level    int64\n",
              "employment_type     int64\n",
              "work_setting        int64\n",
              "company_size        int64\n",
              "job_category        int64\n",
              "dtype: object"
            ]
          },
          "metadata": {},
          "execution_count": 426
        }
      ]
    },
    {
      "cell_type": "markdown",
      "source": [
        "## **Uso de algoritmos de Machine Learning para Separar, Validar y Evaluar**"
      ],
      "metadata": {
        "id": "l4-YmGwiuSTn"
      }
    },
    {
      "cell_type": "markdown",
      "source": [
        "En el proyecto, se optó por distribuir los datos en un 80% para entrenamiento, 5% para validación y 15% para prueba, debido principalmente a que la cantidad de datos disponible no supera los 400,000.\n",
        "\n",
        "Del mismo modo, el conjunto de entrenamiento es lo suficientemente grande como para permitir que el modelo aprenda patrones y relaciones complejas en los datos. El conjunto de validación, aunque más pequeño, es adecuado para ajustar los hiperparámetros del modelo y evitar el sobreajuste durante el entrenamiento. La proporción relativamente pequeña de datos en el conjunto de validación garantiza que el proceso de ajuste de hiperparámetros no se vea comprometido por una cantidad excesiva de datos de validación. Además, el conjunto de prueba proporciona una evaluación robusta e imparcial del rendimiento final del modelo en datos no vistos durante el entrenamiento y la validación, lo que nos da una medida confiable de la capacidad de generalización del modelo en un entorno del mundo real.\n",
        "\n",
        "Esta distribución se diseñó para maximizar el aprendizaje del modelos con abundantes datos de entrenamiento, permitir ajustes precisos con una porción controlada para validación y asegurar una evaluación fiable con un conjunto de prueba significativo."
      ],
      "metadata": {
        "id": "7FL9o0CYEKf4"
      }
    },
    {
      "cell_type": "code",
      "source": [
        "x = df.iloc[:, :-1].values  # Todas las columnas excepto la última\n",
        "y = df.iloc[:, -1].values   # La última columna"
      ],
      "metadata": {
        "id": "BbBd0pJ1R91m"
      },
      "execution_count": 427,
      "outputs": []
    },
    {
      "cell_type": "code",
      "source": [
        "def particionar(entradas, salidas, porcentaje_entrenamiento, porcentaje_validacion, porcentaje_prueba):\n",
        "    temp_size = porcentaje_validacion + porcentaje_prueba\n",
        "    x_train, x_temp, y_train, y_temp = train_test_split(entradas, salidas, test_size =temp_size)\n",
        "    if(porcentaje_validacion > 0):\n",
        "        test_size = porcentaje_prueba/temp_size\n",
        "        x_val, x_test, y_val, y_test = train_test_split(x_temp, y_temp, test_size = test_size)\n",
        "    else:\n",
        "        return [x_train, None, x_temp, y_train, None, y_temp]\n",
        "    return [x_train, x_val, x_test, y_train, y_val, y_test]"
      ],
      "metadata": {
        "id": "EnDvW_uQKJ6b"
      },
      "execution_count": 428,
      "outputs": []
    },
    {
      "cell_type": "code",
      "source": [
        "#Particionando en 80% entrenamiento, 5% validacion, 15% prueba\n",
        "[x_train, x_val, x_test, y_train, y_val, y_test] = particionar(x,y,0.80,0.05,0.15)\n",
        "\n",
        "print(x_train.shape)\n",
        "print(x_val.shape)\n",
        "print(x_test.shape)"
      ],
      "metadata": {
        "id": "SXSp2YMQK_kp",
        "colab": {
          "base_uri": "https://localhost:8080/"
        },
        "outputId": "24481192-0162-49fb-cb3a-dec5f7be767b"
      },
      "execution_count": 429,
      "outputs": [
        {
          "output_type": "stream",
          "name": "stdout",
          "text": [
            "(7484, 5)\n",
            "(467, 5)\n",
            "(1404, 5)\n"
          ]
        }
      ]
    },
    {
      "cell_type": "markdown",
      "source": [
        "## **Algoritmos de entrenamiento No Supervisados y Supervisados**"
      ],
      "metadata": {
        "id": "2nXW_Ubyutz9"
      }
    },
    {
      "cell_type": "markdown",
      "source": [
        "A continuación, se presentarán los diferentes modelos de entrenamiento utilizados para desarrollar un clasificador capaz de predecir el tipo de trabajo (`job_category`).\n",
        "\n",
        "En el aprendizaje no supervisado, se implementó el algoritmo K-Means para la agrupación de datos. Por otro lado, en el aprendizaje supervisado se emplearon dos enfoques: Árboles de Decisión y Naïve Bayes.\n",
        "\n",
        "Todos los modelos fueron entrenados y evaluados utilizando el mismo conjunto de entrenamiento y prueba. La evaluación del rendimiento se realizó mediante la medición del *accuracy* utilizando matrices de confusión.\n",
        "\n",
        "Finalmente, se llevaron a cabo dos experimentos distintos: uno incluyendo la columna de salario y otro sin ella, con el fin de comparar cómo la inclusión de esta variable afecta el rendimiento de los modelos de clasificación."
      ],
      "metadata": {
        "id": "15J7ZtLF7qBl"
      }
    },
    {
      "cell_type": "markdown",
      "source": [
        "Se descartó la utilización de regresión lineal para abordar el problema de predicción del tipo de trabajo `job_category` debido a que este problema es de naturaleza clasificatoria y no continua.\n",
        "\n",
        "La regresión lineal se emplea típicamente para predecir valores numéricos en lugar de clasificar datos en categorías discretas. Dado que el objetivo principal es asignar cada muestra a una categoría específica de trabajo, los modelos de clasificación, como los árboles de decisión, Naive Bayes y las redes neuronales, resultan más apropiados para esta tarea."
      ],
      "metadata": {
        "id": "6w9S3DvtWbMT"
      }
    },
    {
      "cell_type": "markdown",
      "source": [
        "## **Aprendizaje No Supervisado**"
      ],
      "metadata": {
        "id": "lJIOqNxQTCxz"
      }
    },
    {
      "cell_type": "markdown",
      "source": [
        "### K-Means"
      ],
      "metadata": {
        "id": "7DQfZgAoE2z5"
      }
    },
    {
      "cell_type": "markdown",
      "source": [
        "Al tener 10 posibles salidas, se opta por utilizar 10 clústeres."
      ],
      "metadata": {
        "id": "4xu8GhEO8VDq"
      }
    },
    {
      "cell_type": "code",
      "source": [
        "k_means = KMeans(n_clusters=10, max_iter=10000)"
      ],
      "metadata": {
        "id": "0rx9TusirFNt"
      },
      "execution_count": 430,
      "outputs": []
    },
    {
      "cell_type": "code",
      "source": [
        "k_means.fit(x)"
      ],
      "metadata": {
        "colab": {
          "base_uri": "https://localhost:8080/",
          "height": 131
        },
        "id": "45W7KL-iFpp_",
        "outputId": "268d8a42-eb68-4730-b607-cc29c94bc4dc"
      },
      "execution_count": 431,
      "outputs": [
        {
          "output_type": "stream",
          "name": "stderr",
          "text": [
            "/usr/local/lib/python3.10/dist-packages/sklearn/cluster/_kmeans.py:870: FutureWarning: The default value of `n_init` will change from 10 to 'auto' in 1.4. Set the value of `n_init` explicitly to suppress the warning\n",
            "  warnings.warn(\n"
          ]
        },
        {
          "output_type": "execute_result",
          "data": {
            "text/plain": [
              "KMeans(max_iter=10000, n_clusters=10)"
            ],
            "text/html": [
              "<style>#sk-container-id-27 {color: black;background-color: white;}#sk-container-id-27 pre{padding: 0;}#sk-container-id-27 div.sk-toggleable {background-color: white;}#sk-container-id-27 label.sk-toggleable__label {cursor: pointer;display: block;width: 100%;margin-bottom: 0;padding: 0.3em;box-sizing: border-box;text-align: center;}#sk-container-id-27 label.sk-toggleable__label-arrow:before {content: \"▸\";float: left;margin-right: 0.25em;color: #696969;}#sk-container-id-27 label.sk-toggleable__label-arrow:hover:before {color: black;}#sk-container-id-27 div.sk-estimator:hover label.sk-toggleable__label-arrow:before {color: black;}#sk-container-id-27 div.sk-toggleable__content {max-height: 0;max-width: 0;overflow: hidden;text-align: left;background-color: #f0f8ff;}#sk-container-id-27 div.sk-toggleable__content pre {margin: 0.2em;color: black;border-radius: 0.25em;background-color: #f0f8ff;}#sk-container-id-27 input.sk-toggleable__control:checked~div.sk-toggleable__content {max-height: 200px;max-width: 100%;overflow: auto;}#sk-container-id-27 input.sk-toggleable__control:checked~label.sk-toggleable__label-arrow:before {content: \"▾\";}#sk-container-id-27 div.sk-estimator input.sk-toggleable__control:checked~label.sk-toggleable__label {background-color: #d4ebff;}#sk-container-id-27 div.sk-label input.sk-toggleable__control:checked~label.sk-toggleable__label {background-color: #d4ebff;}#sk-container-id-27 input.sk-hidden--visually {border: 0;clip: rect(1px 1px 1px 1px);clip: rect(1px, 1px, 1px, 1px);height: 1px;margin: -1px;overflow: hidden;padding: 0;position: absolute;width: 1px;}#sk-container-id-27 div.sk-estimator {font-family: monospace;background-color: #f0f8ff;border: 1px dotted black;border-radius: 0.25em;box-sizing: border-box;margin-bottom: 0.5em;}#sk-container-id-27 div.sk-estimator:hover {background-color: #d4ebff;}#sk-container-id-27 div.sk-parallel-item::after {content: \"\";width: 100%;border-bottom: 1px solid gray;flex-grow: 1;}#sk-container-id-27 div.sk-label:hover label.sk-toggleable__label {background-color: #d4ebff;}#sk-container-id-27 div.sk-serial::before {content: \"\";position: absolute;border-left: 1px solid gray;box-sizing: border-box;top: 0;bottom: 0;left: 50%;z-index: 0;}#sk-container-id-27 div.sk-serial {display: flex;flex-direction: column;align-items: center;background-color: white;padding-right: 0.2em;padding-left: 0.2em;position: relative;}#sk-container-id-27 div.sk-item {position: relative;z-index: 1;}#sk-container-id-27 div.sk-parallel {display: flex;align-items: stretch;justify-content: center;background-color: white;position: relative;}#sk-container-id-27 div.sk-item::before, #sk-container-id-27 div.sk-parallel-item::before {content: \"\";position: absolute;border-left: 1px solid gray;box-sizing: border-box;top: 0;bottom: 0;left: 50%;z-index: -1;}#sk-container-id-27 div.sk-parallel-item {display: flex;flex-direction: column;z-index: 1;position: relative;background-color: white;}#sk-container-id-27 div.sk-parallel-item:first-child::after {align-self: flex-end;width: 50%;}#sk-container-id-27 div.sk-parallel-item:last-child::after {align-self: flex-start;width: 50%;}#sk-container-id-27 div.sk-parallel-item:only-child::after {width: 0;}#sk-container-id-27 div.sk-dashed-wrapped {border: 1px dashed gray;margin: 0 0.4em 0.5em 0.4em;box-sizing: border-box;padding-bottom: 0.4em;background-color: white;}#sk-container-id-27 div.sk-label label {font-family: monospace;font-weight: bold;display: inline-block;line-height: 1.2em;}#sk-container-id-27 div.sk-label-container {text-align: center;}#sk-container-id-27 div.sk-container {/* jupyter's `normalize.less` sets `[hidden] { display: none; }` but bootstrap.min.css set `[hidden] { display: none !important; }` so we also need the `!important` here to be able to override the default hidden behavior on the sphinx rendered scikit-learn.org. See: https://github.com/scikit-learn/scikit-learn/issues/21755 */display: inline-block !important;position: relative;}#sk-container-id-27 div.sk-text-repr-fallback {display: none;}</style><div id=\"sk-container-id-27\" class=\"sk-top-container\"><div class=\"sk-text-repr-fallback\"><pre>KMeans(max_iter=10000, n_clusters=10)</pre><b>In a Jupyter environment, please rerun this cell to show the HTML representation or trust the notebook. <br />On GitHub, the HTML representation is unable to render, please try loading this page with nbviewer.org.</b></div><div class=\"sk-container\" hidden><div class=\"sk-item\"><div class=\"sk-estimator sk-toggleable\"><input class=\"sk-toggleable__control sk-hidden--visually\" id=\"sk-estimator-id-27\" type=\"checkbox\" checked><label for=\"sk-estimator-id-27\" class=\"sk-toggleable__label sk-toggleable__label-arrow\">KMeans</label><div class=\"sk-toggleable__content\"><pre>KMeans(max_iter=10000, n_clusters=10)</pre></div></div></div></div></div>"
            ]
          },
          "metadata": {},
          "execution_count": 431
        }
      ]
    },
    {
      "cell_type": "code",
      "source": [
        "y_test = y\n",
        "y_pred = k_means.predict(x)\n",
        "y_pred"
      ],
      "metadata": {
        "id": "rL7zMoW67P_x",
        "outputId": "61128fae-5ca3-4035-f8de-ad5214c816e8",
        "colab": {
          "base_uri": "https://localhost:8080/"
        }
      },
      "execution_count": 432,
      "outputs": [
        {
          "output_type": "execute_result",
          "data": {
            "text/plain": [
              "array([9, 4, 2, ..., 5, 9, 9], dtype=int32)"
            ]
          },
          "metadata": {},
          "execution_count": 432
        }
      ]
    },
    {
      "cell_type": "code",
      "source": [
        "y_test - y_pred"
      ],
      "metadata": {
        "colab": {
          "base_uri": "https://localhost:8080/"
        },
        "id": "-UkYz8WtGI2n",
        "outputId": "725d5bd2-9d87-4c7f-c458-73deb7c9a731"
      },
      "execution_count": 433,
      "outputs": [
        {
          "output_type": "execute_result",
          "data": {
            "text/plain": [
              "array([-9, -3, -1, ..., -3, -7, -5])"
            ]
          },
          "metadata": {},
          "execution_count": 433
        }
      ]
    },
    {
      "cell_type": "code",
      "source": [
        "cnf_matrix = metrics.confusion_matrix(y_test, y_pred)"
      ],
      "metadata": {
        "id": "DSauWM6CGK-4"
      },
      "execution_count": 434,
      "outputs": []
    },
    {
      "cell_type": "code",
      "source": [
        "class_names=[0,1,2,3,4,5,6,7,8,9]\n",
        "fig, ax = plt.subplots(figsize=(6, 6))\n",
        "tick_marks = np.arange(len(class_names))\n",
        "plt.xticks(tick_marks, class_names)\n",
        "plt.yticks(tick_marks, class_names)\n",
        "\n",
        "# Heatmap\n",
        "sns.heatmap(pd.DataFrame(cnf_matrix), annot=True, cmap=\"flare\" ,fmt='g', cbar=False, annot_kws={\"size\": 20})\n",
        "ax.xaxis.set_label_position(\"top\")\n",
        "plt.tight_layout()\n",
        "plt.ylabel('Realidad', fontsize=15, y=0.5)\n",
        "plt.xlabel('Estimado por el modelo', fontsize=15);"
      ],
      "metadata": {
        "colab": {
          "base_uri": "https://localhost:8080/",
          "height": 628
        },
        "id": "_zpxPo74GN62",
        "outputId": "80db3b6c-12d1-4e08-8336-e6a0d6178c4d"
      },
      "execution_count": 435,
      "outputs": [
        {
          "output_type": "display_data",
          "data": {
            "text/plain": [
              "<Figure size 600x600 with 1 Axes>"
            ],
            "image/png": "[encoded data removed]"
          },
          "metadata": {}
        }
      ]
    },
    {
      "cell_type": "code",
      "source": [
        "resultado = confusion_matrix(y_test, y_pred)\n",
        "print(resultado)\n",
        "\n",
        "diagonal = np.trace(resultado)\n",
        "accuracy = (diagonal / y_test.shape[0])*100\n",
        "print(\"Accuracy: \"+str(accuracy)+\"%\")"
      ],
      "metadata": {
        "colab": {
          "base_uri": "https://localhost:8080/"
        },
        "id": "Efqg_DvTGikt",
        "outputId": "24cc75d0-cca7-42d8-f9e3-2826d18a6e6c"
      },
      "execution_count": 436,
      "outputs": [
        {
          "output_type": "stream",
          "name": "stdout",
          "text": [
            "[[197 438 277  54 300 377   8 153 108 348]\n",
            " [ 27  35  30   9  57  36   3  12   3  47]\n",
            " [421 590 190 122 496 488  46 247 172 242]\n",
            " [280 223  69 100 216 187  47 150  75  81]\n",
            " [ 29 254 329   2  93 149   4   9 208 380]\n",
            " [ 40  99  73  12  57  81   9  29  15  88]\n",
            " [ 34  56  60   0  51  32   0   8  10  62]\n",
            " [  0   7  17   1   3   3   0   2  11  11]\n",
            " [  1   6  27   0   2   3   0   2   5  15]\n",
            " [  0   1   0   0   2   1   0   0   0   1]]\n",
            "Accuracy: 7.52538749331908%\n"
          ]
        }
      ]
    },
    {
      "cell_type": "markdown",
      "source": [
        "El algoritmo K-Means produjo un accuracy del 7.52%. Esta baja precisión podría deberse a la naturaleza del algoritmo K-Means, que es más adecuado para problemas de agrupación no supervisada en lugar de clasificación."
      ],
      "metadata": {
        "id": "ZTGcDdcjNkM3"
      }
    },
    {
      "cell_type": "markdown",
      "source": [
        "### Eliminando columna `salary_in_usd`"
      ],
      "metadata": {
        "id": "eV4mVwuDNuFc"
      }
    },
    {
      "cell_type": "code",
      "source": [
        "df_dropped = df.drop(columns=['salary_in_usd'])\n",
        "df_dropped"
      ],
      "metadata": {
        "colab": {
          "base_uri": "https://localhost:8080/",
          "height": 424
        },
        "id": "Zwf0-fV3NyC9",
        "outputId": "17d28018-dcae-4e90-ead3-c1cafcdd1c0e"
      },
      "execution_count": 437,
      "outputs": [
        {
          "output_type": "execute_result",
          "data": {
            "text/plain": [
              "      experience_level  employment_type  work_setting  company_size  \\\n",
              "0                    1                3             1             2   \n",
              "1                    2                3             2             1   \n",
              "2                    2                3             2             1   \n",
              "3                    2                3             2             1   \n",
              "4                    2                3             2             1   \n",
              "...                ...              ...           ...           ...   \n",
              "9350                 2                3             0             2   \n",
              "9351                 2                3             0             2   \n",
              "9352                 1                3             0             2   \n",
              "9353                 0                3             0             0   \n",
              "9354                 0                1             0             2   \n",
              "\n",
              "      job_category  \n",
              "0                0  \n",
              "1                1  \n",
              "2                1  \n",
              "3                2  \n",
              "4                2  \n",
              "...            ...  \n",
              "9350             8  \n",
              "9351             2  \n",
              "9352             2  \n",
              "9353             2  \n",
              "9354             4  \n",
              "\n",
              "[9355 rows x 5 columns]"
            ],
            "text/html": [
              "\n",
              "  <div id=\"df-2ca75667-b112-4f84-9df9-a602d77134d7\" class=\"colab-df-container\">\n",
              "    <div>\n",
              "<style scoped>\n",
              "    .dataframe tbody tr th:only-of-type {\n",
              "        vertical-align: middle;\n",
              "    }\n",
              "\n",
              "    .dataframe tbody tr th {\n",
              "        vertical-align: top;\n",
              "    }\n",
              "\n",
              "    .dataframe thead th {\n",
              "        text-align: right;\n",
              "    }\n",
              "</style>\n",
              "<table border=\"1\" class=\"dataframe\">\n",
              "  <thead>\n",
              "    <tr style=\"text-align: right;\">\n",
              "      <th></th>\n",
              "      <th>experience_level</th>\n",
              "      <th>employment_type</th>\n",
              "      <th>work_setting</th>\n",
              "      <th>company_size</th>\n",
              "      <th>job_category</th>\n",
              "    </tr>\n",
              "  </thead>\n",
              "  <tbody>\n",
              "    <tr>\n",
              "      <th>0</th>\n",
              "      <td>1</td>\n",
              "      <td>3</td>\n",
              "      <td>1</td>\n",
              "      <td>2</td>\n",
              "      <td>0</td>\n",
              "    </tr>\n",
              "    <tr>\n",
              "      <th>1</th>\n",
              "      <td>2</td>\n",
              "      <td>3</td>\n",
              "      <td>2</td>\n",
              "      <td>1</td>\n",
              "      <td>1</td>\n",
              "    </tr>\n",
              "    <tr>\n",
              "      <th>2</th>\n",
              "      <td>2</td>\n",
              "      <td>3</td>\n",
              "      <td>2</td>\n",
              "      <td>1</td>\n",
              "      <td>1</td>\n",
              "    </tr>\n",
              "    <tr>\n",
              "      <th>3</th>\n",
              "      <td>2</td>\n",
              "      <td>3</td>\n",
              "      <td>2</td>\n",
              "      <td>1</td>\n",
              "      <td>2</td>\n",
              "    </tr>\n",
              "    <tr>\n",
              "      <th>4</th>\n",
              "      <td>2</td>\n",
              "      <td>3</td>\n",
              "      <td>2</td>\n",
              "      <td>1</td>\n",
              "      <td>2</td>\n",
              "    </tr>\n",
              "    <tr>\n",
              "      <th>...</th>\n",
              "      <td>...</td>\n",
              "      <td>...</td>\n",
              "      <td>...</td>\n",
              "      <td>...</td>\n",
              "      <td>...</td>\n",
              "    </tr>\n",
              "    <tr>\n",
              "      <th>9350</th>\n",
              "      <td>2</td>\n",
              "      <td>3</td>\n",
              "      <td>0</td>\n",
              "      <td>2</td>\n",
              "      <td>8</td>\n",
              "    </tr>\n",
              "    <tr>\n",
              "      <th>9351</th>\n",
              "      <td>2</td>\n",
              "      <td>3</td>\n",
              "      <td>0</td>\n",
              "      <td>2</td>\n",
              "      <td>2</td>\n",
              "    </tr>\n",
              "    <tr>\n",
              "      <th>9352</th>\n",
              "      <td>1</td>\n",
              "      <td>3</td>\n",
              "      <td>0</td>\n",
              "      <td>2</td>\n",
              "      <td>2</td>\n",
              "    </tr>\n",
              "    <tr>\n",
              "      <th>9353</th>\n",
              "      <td>0</td>\n",
              "      <td>3</td>\n",
              "      <td>0</td>\n",
              "      <td>0</td>\n",
              "      <td>2</td>\n",
              "    </tr>\n",
              "    <tr>\n",
              "      <th>9354</th>\n",
              "      <td>0</td>\n",
              "      <td>1</td>\n",
              "      <td>0</td>\n",
              "      <td>2</td>\n",
              "      <td>4</td>\n",
              "    </tr>\n",
              "  </tbody>\n",
              "</table>\n",
              "<p>9355 rows × 5 columns</p>\n",
              "</div>\n",
              "    <div class=\"colab-df-buttons\">\n",
              "\n",
              "  <div class=\"colab-df-container\">\n",
              "    <button class=\"colab-df-convert\" onclick=\"convertToInteractive('df-2ca75667-b112-4f84-9df9-a602d77134d7')\"\n",
              "            title=\"Convert this dataframe to an interactive table.\"\n",
              "            style=\"display:none;\">\n",
              "\n",
              "  <svg xmlns=\"http://www.w3.org/2000/svg\" height=\"24px\" viewBox=\"0 -960 960 960\">\n",
              "    <path d=\"M120-120v-720h720v720H120Zm60-500h600v-160H180v160Zm220 220h160v-160H400v160Zm0 220h160v-160H400v160ZM180-400h160v-160H180v160Zm440 0h160v-160H620v160ZM180-180h160v-160H180v160Zm440 0h160v-160H620v160Z\"/>\n",
              "  </svg>\n",
              "    </button>\n",
              "\n",
              "  <style>\n",
              "    .colab-df-container {\n",
              "      display:flex;\n",
              "      gap: 12px;\n",
              "    }\n",
              "\n",
              "    .colab-df-convert {\n",
              "      background-color: #E8F0FE;\n",
              "      border: none;\n",
              "      border-radius: 50%;\n",
              "      cursor: pointer;\n",
              "      display: none;\n",
              "      fill: #1967D2;\n",
              "      height: 32px;\n",
              "      padding: 0 0 0 0;\n",
              "      width: 32px;\n",
              "    }\n",
              "\n",
              "    .colab-df-convert:hover {\n",
              "      background-color: #E2EBFA;\n",
              "      box-shadow: 0px 1px 2px rgba(60, 64, 67, 0.3), 0px 1px 3px 1px rgba(60, 64, 67, 0.15);\n",
              "      fill: #174EA6;\n",
              "    }\n",
              "\n",
              "    .colab-df-buttons div {\n",
              "      margin-bottom: 4px;\n",
              "    }\n",
              "\n",
              "    [theme=dark] .colab-df-convert {\n",
              "      background-color: #3B4455;\n",
              "      fill: #D2E3FC;\n",
              "    }\n",
              "\n",
              "    [theme=dark] .colab-df-convert:hover {\n",
              "      background-color: #434B5C;\n",
              "      box-shadow: 0px 1px 3px 1px rgba(0, 0, 0, 0.15);\n",
              "      filter: drop-shadow(0px 1px 2px rgba(0, 0, 0, 0.3));\n",
              "      fill: #FFFFFF;\n",
              "    }\n",
              "  </style>\n",
              "\n",
              "    <script>\n",
              "      const buttonEl =\n",
              "        document.querySelector('#df-2ca75667-b112-4f84-9df9-a602d77134d7 button.colab-df-convert');\n",
              "      buttonEl.style.display =\n",
              "        google.colab.kernel.accessAllowed ? 'block' : 'none';\n",
              "\n",
              "      async function convertToInteractive(key) {\n",
              "        const element = document.querySelector('#df-2ca75667-b112-4f84-9df9-a602d77134d7');\n",
              "        const dataTable =\n",
              "          await google.colab.kernel.invokeFunction('convertToInteractive',\n",
              "                                                    [key], {});\n",
              "        if (!dataTable) return;\n",
              "\n",
              "        const docLinkHtml = 'Like what you see? Visit the ' +\n",
              "          '<a target=\"_blank\" href=https://colab.research.google.com/notebooks/data_table.ipynb>data table notebook</a>'\n",
              "          + ' to learn more about interactive tables.';\n",
              "        element.innerHTML = '';\n",
              "        dataTable['output_type'] = 'display_data';\n",
              "        await google.colab.output.renderOutput(dataTable, element);\n",
              "        const docLink = document.createElement('div');\n",
              "        docLink.innerHTML = docLinkHtml;\n",
              "        element.appendChild(docLink);\n",
              "      }\n",
              "    </script>\n",
              "  </div>\n",
              "\n",
              "\n",
              "<div id=\"df-2a971abe-f3cc-4863-9540-ca72ec7de469\">\n",
              "  <button class=\"colab-df-quickchart\" onclick=\"quickchart('df-2a971abe-f3cc-4863-9540-ca72ec7de469')\"\n",
              "            title=\"Suggest charts\"\n",
              "            style=\"display:none;\">\n",
              "\n",
              "<svg xmlns=\"http://www.w3.org/2000/svg\" height=\"24px\"viewBox=\"0 0 24 24\"\n",
              "     width=\"24px\">\n",
              "    <g>\n",
              "        <path d=\"M19 3H5c-1.1 0-2 .9-2 2v14c0 1.1.9 2 2 2h14c1.1 0 2-.9 2-2V5c0-1.1-.9-2-2-2zM9 17H7v-7h2v7zm4 0h-2V7h2v10zm4 0h-2v-4h2v4z\"/>\n",
              "    </g>\n",
              "</svg>\n",
              "  </button>\n",
              "\n",
              "<style>\n",
              "  .colab-df-quickchart {\n",
              "      --bg-color: #E8F0FE;\n",
              "      --fill-color: #1967D2;\n",
              "      --hover-bg-color: #E2EBFA;\n",
              "      --hover-fill-color: #174EA6;\n",
              "      --disabled-fill-color: #AAA;\n",
              "      --disabled-bg-color: #DDD;\n",
              "  }\n",
              "\n",
              "  [theme=dark] .colab-df-quickchart {\n",
              "      --bg-color: #3B4455;\n",
              "      --fill-color: #D2E3FC;\n",
              "      --hover-bg-color: #434B5C;\n",
              "      --hover-fill-color: #FFFFFF;\n",
              "      --disabled-bg-color: #3B4455;\n",
              "      --disabled-fill-color: #666;\n",
              "  }\n",
              "\n",
              "  .colab-df-quickchart {\n",
              "    background-color: var(--bg-color);\n",
              "    border: none;\n",
              "    border-radius: 50%;\n",
              "    cursor: pointer;\n",
              "    display: none;\n",
              "    fill: var(--fill-color);\n",
              "    height: 32px;\n",
              "    padding: 0;\n",
              "    width: 32px;\n",
              "  }\n",
              "\n",
              "  .colab-df-quickchart:hover {\n",
              "    background-color: var(--hover-bg-color);\n",
              "    box-shadow: 0 1px 2px rgba(60, 64, 67, 0.3), 0 1px 3px 1px rgba(60, 64, 67, 0.15);\n",
              "    fill: var(--button-hover-fill-color);\n",
              "  }\n",
              "\n",
              "  .colab-df-quickchart-complete:disabled,\n",
              "  .colab-df-quickchart-complete:disabled:hover {\n",
              "    background-color: var(--disabled-bg-color);\n",
              "    fill: var(--disabled-fill-color);\n",
              "    box-shadow: none;\n",
              "  }\n",
              "\n",
              "  .colab-df-spinner {\n",
              "    border: 2px solid var(--fill-color);\n",
              "    border-color: transparent;\n",
              "    border-bottom-color: var(--fill-color);\n",
              "    animation:\n",
              "      spin 1s steps(1) infinite;\n",
              "  }\n",
              "\n",
              "  @keyframes spin {\n",
              "    0% {\n",
              "      border-color: transparent;\n",
              "      border-bottom-color: var(--fill-color);\n",
              "      border-left-color: var(--fill-color);\n",
              "    }\n",
              "    20% {\n",
              "      border-color: transparent;\n",
              "      border-left-color: var(--fill-color);\n",
              "      border-top-color: var(--fill-color);\n",
              "    }\n",
              "    30% {\n",
              "      border-color: transparent;\n",
              "      border-left-color: var(--fill-color);\n",
              "      border-top-color: var(--fill-color);\n",
              "      border-right-color: var(--fill-color);\n",
              "    }\n",
              "    40% {\n",
              "      border-color: transparent;\n",
              "      border-right-color: var(--fill-color);\n",
              "      border-top-color: var(--fill-color);\n",
              "    }\n",
              "    60% {\n",
              "      border-color: transparent;\n",
              "      border-right-color: var(--fill-color);\n",
              "    }\n",
              "    80% {\n",
              "      border-color: transparent;\n",
              "      border-right-color: var(--fill-color);\n",
              "      border-bottom-color: var(--fill-color);\n",
              "    }\n",
              "    90% {\n",
              "      border-color: transparent;\n",
              "      border-bottom-color: var(--fill-color);\n",
              "    }\n",
              "  }\n",
              "</style>\n",
              "\n",
              "  <script>\n",
              "    async function quickchart(key) {\n",
              "      const quickchartButtonEl =\n",
              "        document.querySelector('#' + key + ' button');\n",
              "      quickchartButtonEl.disabled = true;  // To prevent multiple clicks.\n",
              "      quickchartButtonEl.classList.add('colab-df-spinner');\n",
              "      try {\n",
              "        const charts = await google.colab.kernel.invokeFunction(\n",
              "            'suggestCharts', [key], {});\n",
              "      } catch (error) {\n",
              "        console.error('Error during call to suggestCharts:', error);\n",
              "      }\n",
              "      quickchartButtonEl.classList.remove('colab-df-spinner');\n",
              "      quickchartButtonEl.classList.add('colab-df-quickchart-complete');\n",
              "    }\n",
              "    (() => {\n",
              "      let quickchartButtonEl =\n",
              "        document.querySelector('#df-2a971abe-f3cc-4863-9540-ca72ec7de469 button');\n",
              "      quickchartButtonEl.style.display =\n",
              "        google.colab.kernel.accessAllowed ? 'block' : 'none';\n",
              "    })();\n",
              "  </script>\n",
              "</div>\n",
              "\n",
              "  <div id=\"id_b8e047e2-b72e-4cdc-9a5c-322ad8ec0ab4\">\n",
              "    <style>\n",
              "      .colab-df-generate {\n",
              "        background-color: #E8F0FE;\n",
              "        border: none;\n",
              "        border-radius: 50%;\n",
              "        cursor: pointer;\n",
              "        display: none;\n",
              "        fill: #1967D2;\n",
              "        height: 32px;\n",
              "        padding: 0 0 0 0;\n",
              "        width: 32px;\n",
              "      }\n",
              "\n",
              "      .colab-df-generate:hover {\n",
              "        background-color: #E2EBFA;\n",
              "        box-shadow: 0px 1px 2px rgba(60, 64, 67, 0.3), 0px 1px 3px 1px rgba(60, 64, 67, 0.15);\n",
              "        fill: #174EA6;\n",
              "      }\n",
              "\n",
              "      [theme=dark] .colab-df-generate {\n",
              "        background-color: #3B4455;\n",
              "        fill: #D2E3FC;\n",
              "      }\n",
              "\n",
              "      [theme=dark] .colab-df-generate:hover {\n",
              "        background-color: #434B5C;\n",
              "        box-shadow: 0px 1px 3px 1px rgba(0, 0, 0, 0.15);\n",
              "        filter: drop-shadow(0px 1px 2px rgba(0, 0, 0, 0.3));\n",
              "        fill: #FFFFFF;\n",
              "      }\n",
              "    </style>\n",
              "    <button class=\"colab-df-generate\" onclick=\"generateWithVariable('df_dropped')\"\n",
              "            title=\"Generate code using this dataframe.\"\n",
              "            style=\"display:none;\">\n",
              "\n",
              "  <svg xmlns=\"http://www.w3.org/2000/svg\" height=\"24px\"viewBox=\"0 0 24 24\"\n",
              "       width=\"24px\">\n",
              "    <path d=\"M7,19H8.4L18.45,9,17,7.55,7,17.6ZM5,21V16.75L18.45,3.32a2,2,0,0,1,2.83,0l1.4,1.43a1.91,1.91,0,0,1,.58,1.4,1.91,1.91,0,0,1-.58,1.4L9.25,21ZM18.45,9,17,7.55Zm-12,3A5.31,5.31,0,0,0,4.9,8.1,5.31,5.31,0,0,0,1,6.5,5.31,5.31,0,0,0,4.9,4.9,5.31,5.31,0,0,0,6.5,1,5.31,5.31,0,0,0,8.1,4.9,5.31,5.31,0,0,0,12,6.5,5.46,5.46,0,0,0,6.5,12Z\"/>\n",
              "  </svg>\n",
              "    </button>\n",
              "    <script>\n",
              "      (() => {\n",
              "      const buttonEl =\n",
              "        document.querySelector('#id_b8e047e2-b72e-4cdc-9a5c-322ad8ec0ab4 button.colab-df-generate');\n",
              "      buttonEl.style.display =\n",
              "        google.colab.kernel.accessAllowed ? 'block' : 'none';\n",
              "\n",
              "      buttonEl.onclick = () => {\n",
              "        google.colab.notebook.generateWithVariable('df_dropped');\n",
              "      }\n",
              "      })();\n",
              "    </script>\n",
              "  </div>\n",
              "\n",
              "    </div>\n",
              "  </div>\n"
            ],
            "application/vnd.google.colaboratory.intrinsic+json": {
              "type": "dataframe",
              "variable_name": "df_dropped",
              "summary": "{\n  \"name\": \"df_dropped\",\n  \"rows\": 9355,\n  \"fields\": [\n    {\n      \"column\": \"experience_level\",\n      \"properties\": {\n        \"dtype\": \"number\",\n        \"std\": 0,\n        \"min\": 0,\n        \"max\": 3,\n        \"num_unique_values\": 4,\n        \"samples\": [\n          2,\n          0,\n          1\n        ],\n        \"semantic_type\": \"\",\n        \"description\": \"\"\n      }\n    },\n    {\n      \"column\": \"employment_type\",\n      \"properties\": {\n        \"dtype\": \"number\",\n        \"std\": 0,\n        \"min\": 0,\n        \"max\": 3,\n        \"num_unique_values\": 4,\n        \"samples\": [\n          2,\n          0,\n          3\n        ],\n        \"semantic_type\": \"\",\n        \"description\": \"\"\n      }\n    },\n    {\n      \"column\": \"work_setting\",\n      \"properties\": {\n        \"dtype\": \"number\",\n        \"std\": 0,\n        \"min\": 0,\n        \"max\": 2,\n        \"num_unique_values\": 3,\n        \"samples\": [\n          1,\n          2,\n          0\n        ],\n        \"semantic_type\": \"\",\n        \"description\": \"\"\n      }\n    },\n    {\n      \"column\": \"company_size\",\n      \"properties\": {\n        \"dtype\": \"number\",\n        \"std\": 0,\n        \"min\": 0,\n        \"max\": 2,\n        \"num_unique_values\": 3,\n        \"samples\": [\n          2,\n          1,\n          0\n        ],\n        \"semantic_type\": \"\",\n        \"description\": \"\"\n      }\n    },\n    {\n      \"column\": \"job_category\",\n      \"properties\": {\n        \"dtype\": \"number\",\n        \"std\": 1,\n        \"min\": 0,\n        \"max\": 9,\n        \"num_unique_values\": 10,\n        \"samples\": [\n          8,\n          1,\n          5\n        ],\n        \"semantic_type\": \"\",\n        \"description\": \"\"\n      }\n    }\n  ]\n}"
            }
          },
          "metadata": {},
          "execution_count": 437
        }
      ]
    },
    {
      "cell_type": "code",
      "source": [
        "x_dropped = df_dropped.iloc[:, :-1].values  # Todas las columnas excepto la última\n",
        "y_dropped = df_dropped.iloc[:, -1].values   # La última columna"
      ],
      "metadata": {
        "id": "6xXo80KZORde"
      },
      "execution_count": 438,
      "outputs": []
    },
    {
      "cell_type": "code",
      "source": [
        "k_means = KMeans(n_clusters=10, max_iter=10000)"
      ],
      "metadata": {
        "id": "3pNhDNy0OIr-"
      },
      "execution_count": 439,
      "outputs": []
    },
    {
      "cell_type": "code",
      "source": [
        "k_means.fit(x_dropped)"
      ],
      "metadata": {
        "colab": {
          "base_uri": "https://localhost:8080/",
          "height": 131
        },
        "id": "TrLE9ngvOZ1a",
        "outputId": "65f26c5e-b2c9-4657-b1e5-7466f9e1ba48"
      },
      "execution_count": 440,
      "outputs": [
        {
          "output_type": "stream",
          "name": "stderr",
          "text": [
            "/usr/local/lib/python3.10/dist-packages/sklearn/cluster/_kmeans.py:870: FutureWarning: The default value of `n_init` will change from 10 to 'auto' in 1.4. Set the value of `n_init` explicitly to suppress the warning\n",
            "  warnings.warn(\n"
          ]
        },
        {
          "output_type": "execute_result",
          "data": {
            "text/plain": [
              "KMeans(max_iter=10000, n_clusters=10)"
            ],
            "text/html": [
              "<style>#sk-container-id-28 {color: black;background-color: white;}#sk-container-id-28 pre{padding: 0;}#sk-container-id-28 div.sk-toggleable {background-color: white;}#sk-container-id-28 label.sk-toggleable__label {cursor: pointer;display: block;width: 100%;margin-bottom: 0;padding: 0.3em;box-sizing: border-box;text-align: center;}#sk-container-id-28 label.sk-toggleable__label-arrow:before {content: \"▸\";float: left;margin-right: 0.25em;color: #696969;}#sk-container-id-28 label.sk-toggleable__label-arrow:hover:before {color: black;}#sk-container-id-28 div.sk-estimator:hover label.sk-toggleable__label-arrow:before {color: black;}#sk-container-id-28 div.sk-toggleable__content {max-height: 0;max-width: 0;overflow: hidden;text-align: left;background-color: #f0f8ff;}#sk-container-id-28 div.sk-toggleable__content pre {margin: 0.2em;color: black;border-radius: 0.25em;background-color: #f0f8ff;}#sk-container-id-28 input.sk-toggleable__control:checked~div.sk-toggleable__content {max-height: 200px;max-width: 100%;overflow: auto;}#sk-container-id-28 input.sk-toggleable__control:checked~label.sk-toggleable__label-arrow:before {content: \"▾\";}#sk-container-id-28 div.sk-estimator input.sk-toggleable__control:checked~label.sk-toggleable__label {background-color: #d4ebff;}#sk-container-id-28 div.sk-label input.sk-toggleable__control:checked~label.sk-toggleable__label {background-color: #d4ebff;}#sk-container-id-28 input.sk-hidden--visually {border: 0;clip: rect(1px 1px 1px 1px);clip: rect(1px, 1px, 1px, 1px);height: 1px;margin: -1px;overflow: hidden;padding: 0;position: absolute;width: 1px;}#sk-container-id-28 div.sk-estimator {font-family: monospace;background-color: #f0f8ff;border: 1px dotted black;border-radius: 0.25em;box-sizing: border-box;margin-bottom: 0.5em;}#sk-container-id-28 div.sk-estimator:hover {background-color: #d4ebff;}#sk-container-id-28 div.sk-parallel-item::after {content: \"\";width: 100%;border-bottom: 1px solid gray;flex-grow: 1;}#sk-container-id-28 div.sk-label:hover label.sk-toggleable__label {background-color: #d4ebff;}#sk-container-id-28 div.sk-serial::before {content: \"\";position: absolute;border-left: 1px solid gray;box-sizing: border-box;top: 0;bottom: 0;left: 50%;z-index: 0;}#sk-container-id-28 div.sk-serial {display: flex;flex-direction: column;align-items: center;background-color: white;padding-right: 0.2em;padding-left: 0.2em;position: relative;}#sk-container-id-28 div.sk-item {position: relative;z-index: 1;}#sk-container-id-28 div.sk-parallel {display: flex;align-items: stretch;justify-content: center;background-color: white;position: relative;}#sk-container-id-28 div.sk-item::before, #sk-container-id-28 div.sk-parallel-item::before {content: \"\";position: absolute;border-left: 1px solid gray;box-sizing: border-box;top: 0;bottom: 0;left: 50%;z-index: -1;}#sk-container-id-28 div.sk-parallel-item {display: flex;flex-direction: column;z-index: 1;position: relative;background-color: white;}#sk-container-id-28 div.sk-parallel-item:first-child::after {align-self: flex-end;width: 50%;}#sk-container-id-28 div.sk-parallel-item:last-child::after {align-self: flex-start;width: 50%;}#sk-container-id-28 div.sk-parallel-item:only-child::after {width: 0;}#sk-container-id-28 div.sk-dashed-wrapped {border: 1px dashed gray;margin: 0 0.4em 0.5em 0.4em;box-sizing: border-box;padding-bottom: 0.4em;background-color: white;}#sk-container-id-28 div.sk-label label {font-family: monospace;font-weight: bold;display: inline-block;line-height: 1.2em;}#sk-container-id-28 div.sk-label-container {text-align: center;}#sk-container-id-28 div.sk-container {/* jupyter's `normalize.less` sets `[hidden] { display: none; }` but bootstrap.min.css set `[hidden] { display: none !important; }` so we also need the `!important` here to be able to override the default hidden behavior on the sphinx rendered scikit-learn.org. See: https://github.com/scikit-learn/scikit-learn/issues/21755 */display: inline-block !important;position: relative;}#sk-container-id-28 div.sk-text-repr-fallback {display: none;}</style><div id=\"sk-container-id-28\" class=\"sk-top-container\"><div class=\"sk-text-repr-fallback\"><pre>KMeans(max_iter=10000, n_clusters=10)</pre><b>In a Jupyter environment, please rerun this cell to show the HTML representation or trust the notebook. <br />On GitHub, the HTML representation is unable to render, please try loading this page with nbviewer.org.</b></div><div class=\"sk-container\" hidden><div class=\"sk-item\"><div class=\"sk-estimator sk-toggleable\"><input class=\"sk-toggleable__control sk-hidden--visually\" id=\"sk-estimator-id-28\" type=\"checkbox\" checked><label for=\"sk-estimator-id-28\" class=\"sk-toggleable__label sk-toggleable__label-arrow\">KMeans</label><div class=\"sk-toggleable__content\"><pre>KMeans(max_iter=10000, n_clusters=10)</pre></div></div></div></div></div>"
            ]
          },
          "metadata": {},
          "execution_count": 440
        }
      ]
    },
    {
      "cell_type": "code",
      "source": [
        "y_test = y_dropped\n",
        "y_pred = k_means.predict(x_dropped)\n",
        "y_pred"
      ],
      "metadata": {
        "colab": {
          "base_uri": "https://localhost:8080/"
        },
        "id": "MfEgNfWJOeJf",
        "outputId": "1ae54f03-0c61-4ae2-e760-8c005bfc0782"
      },
      "execution_count": 441,
      "outputs": [
        {
          "output_type": "execute_result",
          "data": {
            "text/plain": [
              "array([7, 1, 1, ..., 7, 9, 6], dtype=int32)"
            ]
          },
          "metadata": {},
          "execution_count": 441
        }
      ]
    },
    {
      "cell_type": "code",
      "source": [
        "y_test - y_pred"
      ],
      "metadata": {
        "colab": {
          "base_uri": "https://localhost:8080/"
        },
        "id": "9rit10rvOopx",
        "outputId": "074c06d3-e62e-44b5-c4d3-eb8c4a4cc27f"
      },
      "execution_count": 442,
      "outputs": [
        {
          "output_type": "execute_result",
          "data": {
            "text/plain": [
              "array([-7,  0,  0, ..., -5, -7, -2])"
            ]
          },
          "metadata": {},
          "execution_count": 442
        }
      ]
    },
    {
      "cell_type": "code",
      "source": [
        "cnf_matrix = metrics.confusion_matrix(y_test, y_pred)"
      ],
      "metadata": {
        "id": "Wfnw2up9OrnH"
      },
      "execution_count": 443,
      "outputs": []
    },
    {
      "cell_type": "code",
      "source": [
        "class_names=[0,1,2,3,4,5,6,7,8,9]\n",
        "fig, ax = plt.subplots(figsize=(6, 6))\n",
        "tick_marks = np.arange(len(class_names))\n",
        "plt.xticks(tick_marks, class_names)\n",
        "plt.yticks(tick_marks, class_names)\n",
        "\n",
        "# Heatmap\n",
        "sns.heatmap(pd.DataFrame(cnf_matrix), annot=True, cmap=\"flare\" ,fmt='g', cbar=False, annot_kws={\"size\": 20})\n",
        "ax.xaxis.set_label_position(\"top\")\n",
        "plt.tight_layout()\n",
        "plt.ylabel('Realidad', fontsize=15, y=0.5)\n",
        "plt.xlabel('Estimado por el modelo', fontsize=15);"
      ],
      "metadata": {
        "colab": {
          "base_uri": "https://localhost:8080/",
          "height": 628
        },
        "id": "tOiaH6wtOy4b",
        "outputId": "80558146-b24e-42c6-83cd-b5ada8a1826f"
      },
      "execution_count": 444,
      "outputs": [
        {
          "output_type": "display_data",
          "data": {
            "text/plain": [
              "<Figure size 600x600 with 1 Axes>"
            ],
            "image/png": "[encoded data removed]"
          },
          "metadata": {}
        }
      ]
    },
    {
      "cell_type": "code",
      "source": [
        "resultado = confusion_matrix(y_test, y_pred)\n",
        "print(resultado)\n",
        "\n",
        "diagonal = np.trace(resultado)\n",
        "accuracy = (diagonal / y_test.shape[0])*100\n",
        "print(\"Accuracy: \"+str(accuracy)+\"%\")"
      ],
      "metadata": {
        "colab": {
          "base_uri": "https://localhost:8080/"
        },
        "id": "bTeRwxn-Oucc",
        "outputId": "88c9ed09-0ae1-404e-87b0-0a7aac7a9cf2"
      },
      "execution_count": 445,
      "outputs": [
        {
          "output_type": "stream",
          "name": "stdout",
          "text": [
            "[[ 587 1025   57  283  174   22    3   40   46   23]\n",
            " [ 115  102    0   20    8    7    0    4    3    0]\n",
            " [ 810 1301   94  300  159   43    4   63  195   45]\n",
            " [ 324  751   22  131   71   27   14   38   24   26]\n",
            " [ 430  469   71  252  122   12    8   43    7   43]\n",
            " [ 134  214    3  104   22   13    1    4    3    5]\n",
            " [  65  114    6   40   17    3    0    2   66    0]\n",
            " [   8   28    0    6   10    0    0    1    0    2]\n",
            " [   6   18    4   14    6    3    0    1    1    8]\n",
            " [   4    0    0    0    0    1    0    0    0    0]]\n",
            "Accuracy: 11.234633885622662%\n"
          ]
        }
      ]
    },
    {
      "cell_type": "markdown",
      "source": [
        "Al eliminar la columna `salary_in_usd`, el algoritmo K-Means logró un accuracy del 11.23%, lo que representa un aumento con respecto al accuracy obtenido previamente. Esto sugiere que la eliminación de esta característica numérica pudo haber contribuido a mejorar el rendimiento del modelo.\n",
        "\n",
        "Una posible explicación es que la columna \"salary_in_usd\" introducía ruido o redundancia en los datos, lo que afectaba negativamente al modelo. Al descartar esta característica, el modelo pudo enfocarse en las características más relevantes para la clasificación de trabajos, lo que condujo a una mejor capacidad de predicción; sin embargo, continúa teniendo un bajo rendimiento."
      ],
      "metadata": {
        "id": "TScnzi-vCpI0"
      }
    },
    {
      "cell_type": "markdown",
      "source": [
        "## **Aprendizaje Supervisado**"
      ],
      "metadata": {
        "id": "hKaDKGSsTGk0"
      }
    },
    {
      "cell_type": "markdown",
      "source": [
        "### Árboles de Decisión"
      ],
      "metadata": {
        "id": "2j5GpFMuP36b"
      }
    },
    {
      "cell_type": "code",
      "source": [
        "X_train, X_test, y_train, y_test = train_test_split(x, y, test_size=0.3)"
      ],
      "metadata": {
        "id": "RCk1UCEPIsOu"
      },
      "execution_count": 447,
      "outputs": []
    },
    {
      "cell_type": "code",
      "source": [
        "bosque = forest(n_estimators = 800)\n",
        "bosque.fit(X_train, y_train)"
      ],
      "metadata": {
        "colab": {
          "base_uri": "https://localhost:8080/",
          "height": 75
        },
        "id": "RizTBKI5P4uD",
        "outputId": "5152a170-493e-4539-dbe6-bb2faba60ada"
      },
      "execution_count": 448,
      "outputs": [
        {
          "output_type": "execute_result",
          "data": {
            "text/plain": [
              "RandomForestClassifier(n_estimators=800)"
            ],
            "text/html": [
              "<style>#sk-container-id-29 {color: black;background-color: white;}#sk-container-id-29 pre{padding: 0;}#sk-container-id-29 div.sk-toggleable {background-color: white;}#sk-container-id-29 label.sk-toggleable__label {cursor: pointer;display: block;width: 100%;margin-bottom: 0;padding: 0.3em;box-sizing: border-box;text-align: center;}#sk-container-id-29 label.sk-toggleable__label-arrow:before {content: \"▸\";float: left;margin-right: 0.25em;color: #696969;}#sk-container-id-29 label.sk-toggleable__label-arrow:hover:before {color: black;}#sk-container-id-29 div.sk-estimator:hover label.sk-toggleable__label-arrow:before {color: black;}#sk-container-id-29 div.sk-toggleable__content {max-height: 0;max-width: 0;overflow: hidden;text-align: left;background-color: #f0f8ff;}#sk-container-id-29 div.sk-toggleable__content pre {margin: 0.2em;color: black;border-radius: 0.25em;background-color: #f0f8ff;}#sk-container-id-29 input.sk-toggleable__control:checked~div.sk-toggleable__content {max-height: 200px;max-width: 100%;overflow: auto;}#sk-container-id-29 input.sk-toggleable__control:checked~label.sk-toggleable__label-arrow:before {content: \"▾\";}#sk-container-id-29 div.sk-estimator input.sk-toggleable__control:checked~label.sk-toggleable__label {background-color: #d4ebff;}#sk-container-id-29 div.sk-label input.sk-toggleable__control:checked~label.sk-toggleable__label {background-color: #d4ebff;}#sk-container-id-29 input.sk-hidden--visually {border: 0;clip: rect(1px 1px 1px 1px);clip: rect(1px, 1px, 1px, 1px);height: 1px;margin: -1px;overflow: hidden;padding: 0;position: absolute;width: 1px;}#sk-container-id-29 div.sk-estimator {font-family: monospace;background-color: #f0f8ff;border: 1px dotted black;border-radius: 0.25em;box-sizing: border-box;margin-bottom: 0.5em;}#sk-container-id-29 div.sk-estimator:hover {background-color: #d4ebff;}#sk-container-id-29 div.sk-parallel-item::after {content: \"\";width: 100%;border-bottom: 1px solid gray;flex-grow: 1;}#sk-container-id-29 div.sk-label:hover label.sk-toggleable__label {background-color: #d4ebff;}#sk-container-id-29 div.sk-serial::before {content: \"\";position: absolute;border-left: 1px solid gray;box-sizing: border-box;top: 0;bottom: 0;left: 50%;z-index: 0;}#sk-container-id-29 div.sk-serial {display: flex;flex-direction: column;align-items: center;background-color: white;padding-right: 0.2em;padding-left: 0.2em;position: relative;}#sk-container-id-29 div.sk-item {position: relative;z-index: 1;}#sk-container-id-29 div.sk-parallel {display: flex;align-items: stretch;justify-content: center;background-color: white;position: relative;}#sk-container-id-29 div.sk-item::before, #sk-container-id-29 div.sk-parallel-item::before {content: \"\";position: absolute;border-left: 1px solid gray;box-sizing: border-box;top: 0;bottom: 0;left: 50%;z-index: -1;}#sk-container-id-29 div.sk-parallel-item {display: flex;flex-direction: column;z-index: 1;position: relative;background-color: white;}#sk-container-id-29 div.sk-parallel-item:first-child::after {align-self: flex-end;width: 50%;}#sk-container-id-29 div.sk-parallel-item:last-child::after {align-self: flex-start;width: 50%;}#sk-container-id-29 div.sk-parallel-item:only-child::after {width: 0;}#sk-container-id-29 div.sk-dashed-wrapped {border: 1px dashed gray;margin: 0 0.4em 0.5em 0.4em;box-sizing: border-box;padding-bottom: 0.4em;background-color: white;}#sk-container-id-29 div.sk-label label {font-family: monospace;font-weight: bold;display: inline-block;line-height: 1.2em;}#sk-container-id-29 div.sk-label-container {text-align: center;}#sk-container-id-29 div.sk-container {/* jupyter's `normalize.less` sets `[hidden] { display: none; }` but bootstrap.min.css set `[hidden] { display: none !important; }` so we also need the `!important` here to be able to override the default hidden behavior on the sphinx rendered scikit-learn.org. See: https://github.com/scikit-learn/scikit-learn/issues/21755 */display: inline-block !important;position: relative;}#sk-container-id-29 div.sk-text-repr-fallback {display: none;}</style><div id=\"sk-container-id-29\" class=\"sk-top-container\"><div class=\"sk-text-repr-fallback\"><pre>RandomForestClassifier(n_estimators=800)</pre><b>In a Jupyter environment, please rerun this cell to show the HTML representation or trust the notebook. <br />On GitHub, the HTML representation is unable to render, please try loading this page with nbviewer.org.</b></div><div class=\"sk-container\" hidden><div class=\"sk-item\"><div class=\"sk-estimator sk-toggleable\"><input class=\"sk-toggleable__control sk-hidden--visually\" id=\"sk-estimator-id-29\" type=\"checkbox\" checked><label for=\"sk-estimator-id-29\" class=\"sk-toggleable__label sk-toggleable__label-arrow\">RandomForestClassifier</label><div class=\"sk-toggleable__content\"><pre>RandomForestClassifier(n_estimators=800)</pre></div></div></div></div></div>"
            ]
          },
          "metadata": {},
          "execution_count": 448
        }
      ]
    },
    {
      "cell_type": "code",
      "source": [
        "y_pred = bosque.predict(X_test)\n",
        "y_pred"
      ],
      "metadata": {
        "colab": {
          "base_uri": "https://localhost:8080/"
        },
        "id": "0-1JIzVUQfvR",
        "outputId": "d56abb6d-c4e6-4ed4-8632-841fc024bc4d"
      },
      "execution_count": 449,
      "outputs": [
        {
          "output_type": "execute_result",
          "data": {
            "text/plain": [
              "array([5, 2, 0, ..., 3, 0, 2])"
            ]
          },
          "metadata": {},
          "execution_count": 449
        }
      ]
    },
    {
      "cell_type": "code",
      "source": [
        "y_test - y_pred"
      ],
      "metadata": {
        "colab": {
          "base_uri": "https://localhost:8080/"
        },
        "id": "V2mhOdkzQiUZ",
        "outputId": "c95a4378-e180-43f2-ebf5-f5c5e1d37632"
      },
      "execution_count": 450,
      "outputs": [
        {
          "output_type": "execute_result",
          "data": {
            "text/plain": [
              "array([-5,  0,  0, ...,  0,  4,  0])"
            ]
          },
          "metadata": {},
          "execution_count": 450
        }
      ]
    },
    {
      "cell_type": "code",
      "source": [
        "cnf_matrix = metrics.confusion_matrix(y_test, y_pred)"
      ],
      "metadata": {
        "id": "BKl3xpLaQi4V"
      },
      "execution_count": 451,
      "outputs": []
    },
    {
      "cell_type": "code",
      "source": [
        "class_names=[0,1,2,3,4,5,6,7,8,9]\n",
        "fig, ax = plt.subplots(figsize=(6, 6))\n",
        "tick_marks = np.arange(len(class_names))\n",
        "plt.xticks(tick_marks, class_names)\n",
        "plt.yticks(tick_marks, class_names)\n",
        "\n",
        "# Heatmap\n",
        "sns.heatmap(pd.DataFrame(cnf_matrix), annot=True, cmap=\"flare\" ,fmt='g', cbar=False, annot_kws={\"size\": 20})\n",
        "ax.xaxis.set_label_position(\"top\")\n",
        "plt.tight_layout()\n",
        "plt.ylabel('Realidad', fontsize=15, y=0.5)\n",
        "plt.xlabel('Estimado por el modelo', fontsize=15);"
      ],
      "metadata": {
        "colab": {
          "base_uri": "https://localhost:8080/",
          "height": 628
        },
        "id": "vAG5X5i6Qm9c",
        "outputId": "51eb5009-f96f-4410-8d03-9680926eaf91"
      },
      "execution_count": 452,
      "outputs": [
        {
          "output_type": "display_data",
          "data": {
            "text/plain": [
              "<Figure size 600x600 with 1 Axes>"
            ],
            "image/png": "[encoded data removed]"
          },
          "metadata": {}
        }
      ]
    },
    {
      "cell_type": "code",
      "source": [
        "resultado = confusion_matrix(y_test, y_pred)\n",
        "print(resultado)\n",
        "\n",
        "diagonal = np.trace(resultado)\n",
        "accuracy = (diagonal / y_test.shape[0])*100\n",
        "print(\"Accuracy: \"+str(accuracy)+\"%\")"
      ],
      "metadata": {
        "id": "LuFgH6HyQswB",
        "colab": {
          "base_uri": "https://localhost:8080/"
        },
        "outputId": "ed2140ad-a0aa-47b1-ebdd-fa086e1a92a9"
      },
      "execution_count": 453,
      "outputs": [
        {
          "output_type": "stream",
          "name": "stdout",
          "text": [
            "[[291  16 218  60  74  16   7   2   0   0]\n",
            " [ 11  17  31   6  12   2   0   1   1   0]\n",
            " [154  16 513  80  74  23   8   0   0   0]\n",
            " [ 94   6 123 161  30   8   8   1   0   0]\n",
            " [ 90   3 112  15 221  13   2   2   1   0]\n",
            " [ 38   2  43  14  23  34   3   0   0   0]\n",
            " [ 14   0  21   8  24   0  27   0   0   0]\n",
            " [  3   0   2   2   4   0   1   1   0   0]\n",
            " [  4   0   4   0   8   1   1   0   0   0]\n",
            " [  0   1   0   0   1   0   0   0   0   0]]\n",
            "Accuracy: 45.065906661916635%\n"
          ]
        }
      ]
    },
    {
      "cell_type": "markdown",
      "source": [
        "El algoritmo de Árboles de Decisión, sin eliminar la columna de `salary_in_usd`, logró un accuracy del 45.06%.\n",
        "\n",
        "Árboles de Decisión es un modelo versátil que puede capturar relaciones no lineales y complejas entre las características y la variable objetivo. Además, es posible que la estructura intrínseca de los datos, junto con la configuración específica del árbol de decisión haya influido en el rendimiento del modelo.\n",
        "\n",
        " En futuras iteraciones, sería útil explorar técnicas de preprocesamiento de datos, selección de características y ajuste de hiperparámetros para mejorar aún más la precisión del modelo de árbol de decisión en este contexto."
      ],
      "metadata": {
        "id": "AdovqCR8LTrh"
      }
    },
    {
      "cell_type": "markdown",
      "source": [
        "### Eliminando columna `salary_in_usd`"
      ],
      "metadata": {
        "id": "cxMqjnM1R_gh"
      }
    },
    {
      "cell_type": "code",
      "source": [
        "X_train, X_test, y_train, y_test = train_test_split(x_dropped, y_dropped, test_size=0.3)"
      ],
      "metadata": {
        "id": "wYW48xQ8SChP"
      },
      "execution_count": 454,
      "outputs": []
    },
    {
      "cell_type": "code",
      "source": [
        "bosque = forest(n_estimators = 800)\n",
        "bosque.fit(X_train, y_train)"
      ],
      "metadata": {
        "colab": {
          "base_uri": "https://localhost:8080/",
          "height": 75
        },
        "id": "84t3Fq9CSLBL",
        "outputId": "4bf9a096-a398-48d3-efbe-aec59c6ff5db"
      },
      "execution_count": 455,
      "outputs": [
        {
          "output_type": "execute_result",
          "data": {
            "text/plain": [
              "RandomForestClassifier(n_estimators=800)"
            ],
            "text/html": [
              "<style>#sk-container-id-30 {color: black;background-color: white;}#sk-container-id-30 pre{padding: 0;}#sk-container-id-30 div.sk-toggleable {background-color: white;}#sk-container-id-30 label.sk-toggleable__label {cursor: pointer;display: block;width: 100%;margin-bottom: 0;padding: 0.3em;box-sizing: border-box;text-align: center;}#sk-container-id-30 label.sk-toggleable__label-arrow:before {content: \"▸\";float: left;margin-right: 0.25em;color: #696969;}#sk-container-id-30 label.sk-toggleable__label-arrow:hover:before {color: black;}#sk-container-id-30 div.sk-estimator:hover label.sk-toggleable__label-arrow:before {color: black;}#sk-container-id-30 div.sk-toggleable__content {max-height: 0;max-width: 0;overflow: hidden;text-align: left;background-color: #f0f8ff;}#sk-container-id-30 div.sk-toggleable__content pre {margin: 0.2em;color: black;border-radius: 0.25em;background-color: #f0f8ff;}#sk-container-id-30 input.sk-toggleable__control:checked~div.sk-toggleable__content {max-height: 200px;max-width: 100%;overflow: auto;}#sk-container-id-30 input.sk-toggleable__control:checked~label.sk-toggleable__label-arrow:before {content: \"▾\";}#sk-container-id-30 div.sk-estimator input.sk-toggleable__control:checked~label.sk-toggleable__label {background-color: #d4ebff;}#sk-container-id-30 div.sk-label input.sk-toggleable__control:checked~label.sk-toggleable__label {background-color: #d4ebff;}#sk-container-id-30 input.sk-hidden--visually {border: 0;clip: rect(1px 1px 1px 1px);clip: rect(1px, 1px, 1px, 1px);height: 1px;margin: -1px;overflow: hidden;padding: 0;position: absolute;width: 1px;}#sk-container-id-30 div.sk-estimator {font-family: monospace;background-color: #f0f8ff;border: 1px dotted black;border-radius: 0.25em;box-sizing: border-box;margin-bottom: 0.5em;}#sk-container-id-30 div.sk-estimator:hover {background-color: #d4ebff;}#sk-container-id-30 div.sk-parallel-item::after {content: \"\";width: 100%;border-bottom: 1px solid gray;flex-grow: 1;}#sk-container-id-30 div.sk-label:hover label.sk-toggleable__label {background-color: #d4ebff;}#sk-container-id-30 div.sk-serial::before {content: \"\";position: absolute;border-left: 1px solid gray;box-sizing: border-box;top: 0;bottom: 0;left: 50%;z-index: 0;}#sk-container-id-30 div.sk-serial {display: flex;flex-direction: column;align-items: center;background-color: white;padding-right: 0.2em;padding-left: 0.2em;position: relative;}#sk-container-id-30 div.sk-item {position: relative;z-index: 1;}#sk-container-id-30 div.sk-parallel {display: flex;align-items: stretch;justify-content: center;background-color: white;position: relative;}#sk-container-id-30 div.sk-item::before, #sk-container-id-30 div.sk-parallel-item::before {content: \"\";position: absolute;border-left: 1px solid gray;box-sizing: border-box;top: 0;bottom: 0;left: 50%;z-index: -1;}#sk-container-id-30 div.sk-parallel-item {display: flex;flex-direction: column;z-index: 1;position: relative;background-color: white;}#sk-container-id-30 div.sk-parallel-item:first-child::after {align-self: flex-end;width: 50%;}#sk-container-id-30 div.sk-parallel-item:last-child::after {align-self: flex-start;width: 50%;}#sk-container-id-30 div.sk-parallel-item:only-child::after {width: 0;}#sk-container-id-30 div.sk-dashed-wrapped {border: 1px dashed gray;margin: 0 0.4em 0.5em 0.4em;box-sizing: border-box;padding-bottom: 0.4em;background-color: white;}#sk-container-id-30 div.sk-label label {font-family: monospace;font-weight: bold;display: inline-block;line-height: 1.2em;}#sk-container-id-30 div.sk-label-container {text-align: center;}#sk-container-id-30 div.sk-container {/* jupyter's `normalize.less` sets `[hidden] { display: none; }` but bootstrap.min.css set `[hidden] { display: none !important; }` so we also need the `!important` here to be able to override the default hidden behavior on the sphinx rendered scikit-learn.org. See: https://github.com/scikit-learn/scikit-learn/issues/21755 */display: inline-block !important;position: relative;}#sk-container-id-30 div.sk-text-repr-fallback {display: none;}</style><div id=\"sk-container-id-30\" class=\"sk-top-container\"><div class=\"sk-text-repr-fallback\"><pre>RandomForestClassifier(n_estimators=800)</pre><b>In a Jupyter environment, please rerun this cell to show the HTML representation or trust the notebook. <br />On GitHub, the HTML representation is unable to render, please try loading this page with nbviewer.org.</b></div><div class=\"sk-container\" hidden><div class=\"sk-item\"><div class=\"sk-estimator sk-toggleable\"><input class=\"sk-toggleable__control sk-hidden--visually\" id=\"sk-estimator-id-30\" type=\"checkbox\" checked><label for=\"sk-estimator-id-30\" class=\"sk-toggleable__label sk-toggleable__label-arrow\">RandomForestClassifier</label><div class=\"sk-toggleable__content\"><pre>RandomForestClassifier(n_estimators=800)</pre></div></div></div></div></div>"
            ]
          },
          "metadata": {},
          "execution_count": 455
        }
      ]
    },
    {
      "cell_type": "code",
      "source": [
        "y_pred = bosque.predict(X_test)\n",
        "y_pred"
      ],
      "metadata": {
        "colab": {
          "base_uri": "https://localhost:8080/"
        },
        "id": "Y1V9dKQlSSoF",
        "outputId": "16eb30e1-fff5-4de8-86ad-9a8ec954dc64"
      },
      "execution_count": 456,
      "outputs": [
        {
          "output_type": "execute_result",
          "data": {
            "text/plain": [
              "array([2, 2, 2, ..., 0, 2, 2])"
            ]
          },
          "metadata": {},
          "execution_count": 456
        }
      ]
    },
    {
      "cell_type": "code",
      "source": [
        "y_test - y_pred"
      ],
      "metadata": {
        "colab": {
          "base_uri": "https://localhost:8080/"
        },
        "id": "6cke-837SU5h",
        "outputId": "38258a53-6da9-4a57-f147-3c2c8bc378e0"
      },
      "execution_count": 457,
      "outputs": [
        {
          "output_type": "execute_result",
          "data": {
            "text/plain": [
              "array([2, 3, 0, ..., 0, 1, 2])"
            ]
          },
          "metadata": {},
          "execution_count": 457
        }
      ]
    },
    {
      "cell_type": "code",
      "source": [
        "cnf_matrix = metrics.confusion_matrix(y_test, y_pred)"
      ],
      "metadata": {
        "id": "7iKkWSXoSXG_"
      },
      "execution_count": 458,
      "outputs": []
    },
    {
      "cell_type": "code",
      "source": [
        "class_names=[0,1,2,3,4,5,6,7,8,9]\n",
        "fig, ax = plt.subplots(figsize=(6, 6))\n",
        "tick_marks = np.arange(len(class_names))\n",
        "plt.xticks(tick_marks, class_names)\n",
        "plt.yticks(tick_marks, class_names)\n",
        "\n",
        "# Heatmap\n",
        "sns.heatmap(pd.DataFrame(cnf_matrix), annot=True, cmap=\"flare\" ,fmt='g', cbar=False, annot_kws={\"size\": 20})\n",
        "ax.xaxis.set_label_position(\"top\")\n",
        "plt.tight_layout()\n",
        "plt.ylabel('Realidad', fontsize=15, y=0.5)\n",
        "plt.xlabel('Estimado por el modelo', fontsize=15);"
      ],
      "metadata": {
        "colab": {
          "base_uri": "https://localhost:8080/",
          "height": 628
        },
        "id": "GaxZ5L9DSbJk",
        "outputId": "daf81252-a707-4538-e1d5-a2dfe1fb70a2"
      },
      "execution_count": 459,
      "outputs": [
        {
          "output_type": "display_data",
          "data": {
            "text/plain": [
              "<Figure size 600x600 with 1 Axes>"
            ],
            "image/png": "[encoded data removed]"
          },
          "metadata": {}
        }
      ]
    },
    {
      "cell_type": "code",
      "source": [
        "resultado = confusion_matrix(y_test, y_pred)\n",
        "print(resultado)\n",
        "\n",
        "diagonal = np.trace(resultado)\n",
        "accuracy = (diagonal / y_test.shape[0])*100\n",
        "print(\"Accuracy: \"+str(accuracy)+\"%\")"
      ],
      "metadata": {
        "id": "MsAYNK64SdQQ",
        "colab": {
          "base_uri": "https://localhost:8080/"
        },
        "outputId": "85d9043b-51fa-448a-bd55-efc6e81d3c93"
      },
      "execution_count": 460,
      "outputs": [
        {
          "output_type": "stream",
          "name": "stdout",
          "text": [
            "[[173   0 502   4   0   1   0   0   0   0]\n",
            " [  6   0  73   0   0   0   0   0   0   0]\n",
            " [150   0 726  18   1   1   0   0   0   0]\n",
            " [ 54   0 344  15   2   0   0   0   0   0]\n",
            " [112   0 321  16   3   0   0   0   0   0]\n",
            " [ 51   0 103   1   0   0   0   0   0   0]\n",
            " [ 18   0  71   1   0   0   0   0   0   0]\n",
            " [  7   0  13   0   0   0   0   0   0   0]\n",
            " [  6   0  11   0   0   0   0   0   0   0]\n",
            " [  0   0   3   0   0   0   0   0   0   0]]\n",
            "Accuracy: 32.66832917705736%\n"
          ]
        }
      ]
    },
    {
      "cell_type": "markdown",
      "source": [
        "Al eliminar la columna `salary_in_usd` el algoritmo de Árboles de Decisión logró un accuracy del 32.66%.\n",
        "\n",
        "Este resultado sugiere que la eliminación de la columna numérica puede haber afectado negativamente el rendimiento del modelo. La columna `salary_in_usd` podría haber proporcionado información útil para la tarea de clasificación de trabajos, y su eliminación puede haber reducido la capacidad del modelo para distinguir entre las diferentes categorías.\n",
        "\n",
        "Es posible que otras características en el conjunto de datos no sean suficientes para capturar completamente la variabilidad presente en los datos sin la información proporcionada por la columna de salario."
      ],
      "metadata": {
        "id": "nt1DClROL4Z3"
      }
    },
    {
      "cell_type": "markdown",
      "source": [
        "### Naïve Bayes"
      ],
      "metadata": {
        "id": "3f2w_r-ATKze"
      }
    },
    {
      "cell_type": "code",
      "source": [
        "X_train, X_test, y_train, y_test = train_test_split(x, y, test_size=0.3)"
      ],
      "metadata": {
        "id": "VqsIgfkWTdH0"
      },
      "execution_count": 462,
      "outputs": []
    },
    {
      "cell_type": "code",
      "source": [
        "NaiveBayes = GaussianNB()\n",
        "NaiveBayes.fit(X_train, y_train)"
      ],
      "metadata": {
        "colab": {
          "base_uri": "https://localhost:8080/",
          "height": 75
        },
        "id": "MT_H6VYDTzC3",
        "outputId": "49b89524-2e40-4fd5-dc54-3c8025505880"
      },
      "execution_count": 463,
      "outputs": [
        {
          "output_type": "execute_result",
          "data": {
            "text/plain": [
              "GaussianNB()"
            ],
            "text/html": [
              "<style>#sk-container-id-31 {color: black;background-color: white;}#sk-container-id-31 pre{padding: 0;}#sk-container-id-31 div.sk-toggleable {background-color: white;}#sk-container-id-31 label.sk-toggleable__label {cursor: pointer;display: block;width: 100%;margin-bottom: 0;padding: 0.3em;box-sizing: border-box;text-align: center;}#sk-container-id-31 label.sk-toggleable__label-arrow:before {content: \"▸\";float: left;margin-right: 0.25em;color: #696969;}#sk-container-id-31 label.sk-toggleable__label-arrow:hover:before {color: black;}#sk-container-id-31 div.sk-estimator:hover label.sk-toggleable__label-arrow:before {color: black;}#sk-container-id-31 div.sk-toggleable__content {max-height: 0;max-width: 0;overflow: hidden;text-align: left;background-color: #f0f8ff;}#sk-container-id-31 div.sk-toggleable__content pre {margin: 0.2em;color: black;border-radius: 0.25em;background-color: #f0f8ff;}#sk-container-id-31 input.sk-toggleable__control:checked~div.sk-toggleable__content {max-height: 200px;max-width: 100%;overflow: auto;}#sk-container-id-31 input.sk-toggleable__control:checked~label.sk-toggleable__label-arrow:before {content: \"▾\";}#sk-container-id-31 div.sk-estimator input.sk-toggleable__control:checked~label.sk-toggleable__label {background-color: #d4ebff;}#sk-container-id-31 div.sk-label input.sk-toggleable__control:checked~label.sk-toggleable__label {background-color: #d4ebff;}#sk-container-id-31 input.sk-hidden--visually {border: 0;clip: rect(1px 1px 1px 1px);clip: rect(1px, 1px, 1px, 1px);height: 1px;margin: -1px;overflow: hidden;padding: 0;position: absolute;width: 1px;}#sk-container-id-31 div.sk-estimator {font-family: monospace;background-color: #f0f8ff;border: 1px dotted black;border-radius: 0.25em;box-sizing: border-box;margin-bottom: 0.5em;}#sk-container-id-31 div.sk-estimator:hover {background-color: #d4ebff;}#sk-container-id-31 div.sk-parallel-item::after {content: \"\";width: 100%;border-bottom: 1px solid gray;flex-grow: 1;}#sk-container-id-31 div.sk-label:hover label.sk-toggleable__label {background-color: #d4ebff;}#sk-container-id-31 div.sk-serial::before {content: \"\";position: absolute;border-left: 1px solid gray;box-sizing: border-box;top: 0;bottom: 0;left: 50%;z-index: 0;}#sk-container-id-31 div.sk-serial {display: flex;flex-direction: column;align-items: center;background-color: white;padding-right: 0.2em;padding-left: 0.2em;position: relative;}#sk-container-id-31 div.sk-item {position: relative;z-index: 1;}#sk-container-id-31 div.sk-parallel {display: flex;align-items: stretch;justify-content: center;background-color: white;position: relative;}#sk-container-id-31 div.sk-item::before, #sk-container-id-31 div.sk-parallel-item::before {content: \"\";position: absolute;border-left: 1px solid gray;box-sizing: border-box;top: 0;bottom: 0;left: 50%;z-index: -1;}#sk-container-id-31 div.sk-parallel-item {display: flex;flex-direction: column;z-index: 1;position: relative;background-color: white;}#sk-container-id-31 div.sk-parallel-item:first-child::after {align-self: flex-end;width: 50%;}#sk-container-id-31 div.sk-parallel-item:last-child::after {align-self: flex-start;width: 50%;}#sk-container-id-31 div.sk-parallel-item:only-child::after {width: 0;}#sk-container-id-31 div.sk-dashed-wrapped {border: 1px dashed gray;margin: 0 0.4em 0.5em 0.4em;box-sizing: border-box;padding-bottom: 0.4em;background-color: white;}#sk-container-id-31 div.sk-label label {font-family: monospace;font-weight: bold;display: inline-block;line-height: 1.2em;}#sk-container-id-31 div.sk-label-container {text-align: center;}#sk-container-id-31 div.sk-container {/* jupyter's `normalize.less` sets `[hidden] { display: none; }` but bootstrap.min.css set `[hidden] { display: none !important; }` so we also need the `!important` here to be able to override the default hidden behavior on the sphinx rendered scikit-learn.org. See: https://github.com/scikit-learn/scikit-learn/issues/21755 */display: inline-block !important;position: relative;}#sk-container-id-31 div.sk-text-repr-fallback {display: none;}</style><div id=\"sk-container-id-31\" class=\"sk-top-container\"><div class=\"sk-text-repr-fallback\"><pre>GaussianNB()</pre><b>In a Jupyter environment, please rerun this cell to show the HTML representation or trust the notebook. <br />On GitHub, the HTML representation is unable to render, please try loading this page with nbviewer.org.</b></div><div class=\"sk-container\" hidden><div class=\"sk-item\"><div class=\"sk-estimator sk-toggleable\"><input class=\"sk-toggleable__control sk-hidden--visually\" id=\"sk-estimator-id-31\" type=\"checkbox\" checked><label for=\"sk-estimator-id-31\" class=\"sk-toggleable__label sk-toggleable__label-arrow\">GaussianNB</label><div class=\"sk-toggleable__content\"><pre>GaussianNB()</pre></div></div></div></div></div>"
            ]
          },
          "metadata": {},
          "execution_count": 463
        }
      ]
    },
    {
      "cell_type": "code",
      "source": [
        "y_pred = NaiveBayes.predict(X_test)\n",
        "y_pred"
      ],
      "metadata": {
        "colab": {
          "base_uri": "https://localhost:8080/"
        },
        "id": "duqr2qS7T4Nt",
        "outputId": "33f08fd0-1900-413e-82fd-004465fb5642"
      },
      "execution_count": 464,
      "outputs": [
        {
          "output_type": "execute_result",
          "data": {
            "text/plain": [
              "array([2, 2, 2, ..., 2, 3, 2])"
            ]
          },
          "metadata": {},
          "execution_count": 464
        }
      ]
    },
    {
      "cell_type": "code",
      "source": [
        "y_test - y_pred"
      ],
      "metadata": {
        "colab": {
          "base_uri": "https://localhost:8080/"
        },
        "id": "aNAhAJLzT7Cq",
        "outputId": "91508940-2312-43b7-9e39-95127988a86a"
      },
      "execution_count": 465,
      "outputs": [
        {
          "output_type": "execute_result",
          "data": {
            "text/plain": [
              "array([-2,  4,  0, ..., -2, -3,  0])"
            ]
          },
          "metadata": {},
          "execution_count": 465
        }
      ]
    },
    {
      "cell_type": "code",
      "source": [
        "cnf_matrix = metrics.confusion_matrix(y_test, y_pred)"
      ],
      "metadata": {
        "id": "ulPKiFTbT8xQ"
      },
      "execution_count": 466,
      "outputs": []
    },
    {
      "cell_type": "code",
      "source": [
        "class_names=[0,1,2,3,4,5,6,7,8,9]\n",
        "fig, ax = plt.subplots(figsize=(6, 6))\n",
        "tick_marks = np.arange(len(class_names))\n",
        "plt.xticks(tick_marks, class_names)\n",
        "plt.yticks(tick_marks, class_names)\n",
        "\n",
        "# Heatmap\n",
        "sns.heatmap(pd.DataFrame(cnf_matrix), annot=True, cmap=\"flare\" ,fmt='g', cbar=False, annot_kws={\"size\": 20})\n",
        "ax.xaxis.set_label_position(\"top\")\n",
        "plt.tight_layout()\n",
        "plt.ylabel('Realidad', fontsize=15, y=0.5)\n",
        "plt.xlabel('Estimado por el modelo', fontsize=15);"
      ],
      "metadata": {
        "colab": {
          "base_uri": "https://localhost:8080/",
          "height": 628
        },
        "id": "IS25L1JBT-ma",
        "outputId": "2970293a-08b4-4005-922a-9667d006b3f2"
      },
      "execution_count": 467,
      "outputs": [
        {
          "output_type": "display_data",
          "data": {
            "text/plain": [
              "<Figure size 600x600 with 1 Axes>"
            ],
            "image/png": "[encoded data removed]"
          },
          "metadata": {}
        }
      ]
    },
    {
      "cell_type": "code",
      "source": [
        "resultado = confusion_matrix(y_test, y_pred)\n",
        "print(resultado)\n",
        "\n",
        "diagonal = np.trace(resultado)\n",
        "accuracy = (diagonal / y_test.shape[0])*100\n",
        "print(\"Accuracy: \"+str(accuracy)+\"%\")"
      ],
      "metadata": {
        "id": "Tk3QGoZLUCOv",
        "colab": {
          "base_uri": "https://localhost:8080/"
        },
        "outputId": "27d0b84a-7ceb-45ad-8791-5c188b4116f5"
      },
      "execution_count": 468,
      "outputs": [
        {
          "output_type": "stream",
          "name": "stdout",
          "text": [
            "[[  0   0 510  11 159   0   0   0   0   0]\n",
            " [  0   0  51   2  17   0   0   0   0   0]\n",
            " [  0   0 701  39 150   0   0   0   0   0]\n",
            " [  0   0 340  26  58   0   0   0   0   0]\n",
            " [  0   0 192   1 239   0   0   0   0   0]\n",
            " [  0   0 121   3  38   0   0   0   0   0]\n",
            " [  0   0  70   0  35   0   0   0   0   0]\n",
            " [  0   0   7   0  13   0   0   0   0   0]\n",
            " [  0   0  11   0  12   0   0   0   0   0]\n",
            " [  0   0   1   0   0   0   0   0   0   0]]\n",
            "Accuracy: 34.413965087281795%\n"
          ]
        }
      ]
    },
    {
      "cell_type": "markdown",
      "source": [
        "El algoritmo de Naïve Bayes logró un accuracy del 34.41%.\n",
        "\n",
        "Naive Bayes es un algoritmo simple y rápido que asume independencia condicional entre las características, lo que puede ser beneficioso en conjuntos de datos con muchas características. Sin embargo, esta suposición de independencia puede no ser realista en todos los conjuntos de datos, lo que puede limitar el rendimiento del modelo. Además, el rendimiento de Naive Bayes puede verse afectado por la distribución de las características en el conjunto de datos y la presencia de correlaciones entre ellas.\n",
        "\n",
        "La adecuación de Naive Bayes para este conjunto de datos específico y la elección de distribuciones de probabilidad adecuadas también pueden influir en su rendimiento."
      ],
      "metadata": {
        "id": "pTjh33t-NSpV"
      }
    },
    {
      "cell_type": "markdown",
      "source": [
        "### Eliminando columna `salary_in_usd`"
      ],
      "metadata": {
        "id": "mFVfJx-6UpVK"
      }
    },
    {
      "cell_type": "code",
      "source": [
        "X_train, X_test, y_train, y_test = train_test_split(x_dropped, y_dropped, test_size=0.3)"
      ],
      "metadata": {
        "id": "EjXAafuEUra1"
      },
      "execution_count": 469,
      "outputs": []
    },
    {
      "cell_type": "code",
      "source": [
        "NaiveBayes = GaussianNB()\n",
        "NaiveBayes.fit(X_train, y_train)"
      ],
      "metadata": {
        "colab": {
          "base_uri": "https://localhost:8080/",
          "height": 75
        },
        "id": "t6B0dBqIU0ON",
        "outputId": "ffa47bb4-9716-4599-bb06-4b8c3e763e89"
      },
      "execution_count": 470,
      "outputs": [
        {
          "output_type": "execute_result",
          "data": {
            "text/plain": [
              "GaussianNB()"
            ],
            "text/html": [
              "<style>#sk-container-id-32 {color: black;background-color: white;}#sk-container-id-32 pre{padding: 0;}#sk-container-id-32 div.sk-toggleable {background-color: white;}#sk-container-id-32 label.sk-toggleable__label {cursor: pointer;display: block;width: 100%;margin-bottom: 0;padding: 0.3em;box-sizing: border-box;text-align: center;}#sk-container-id-32 label.sk-toggleable__label-arrow:before {content: \"▸\";float: left;margin-right: 0.25em;color: #696969;}#sk-container-id-32 label.sk-toggleable__label-arrow:hover:before {color: black;}#sk-container-id-32 div.sk-estimator:hover label.sk-toggleable__label-arrow:before {color: black;}#sk-container-id-32 div.sk-toggleable__content {max-height: 0;max-width: 0;overflow: hidden;text-align: left;background-color: #f0f8ff;}#sk-container-id-32 div.sk-toggleable__content pre {margin: 0.2em;color: black;border-radius: 0.25em;background-color: #f0f8ff;}#sk-container-id-32 input.sk-toggleable__control:checked~div.sk-toggleable__content {max-height: 200px;max-width: 100%;overflow: auto;}#sk-container-id-32 input.sk-toggleable__control:checked~label.sk-toggleable__label-arrow:before {content: \"▾\";}#sk-container-id-32 div.sk-estimator input.sk-toggleable__control:checked~label.sk-toggleable__label {background-color: #d4ebff;}#sk-container-id-32 div.sk-label input.sk-toggleable__control:checked~label.sk-toggleable__label {background-color: #d4ebff;}#sk-container-id-32 input.sk-hidden--visually {border: 0;clip: rect(1px 1px 1px 1px);clip: rect(1px, 1px, 1px, 1px);height: 1px;margin: -1px;overflow: hidden;padding: 0;position: absolute;width: 1px;}#sk-container-id-32 div.sk-estimator {font-family: monospace;background-color: #f0f8ff;border: 1px dotted black;border-radius: 0.25em;box-sizing: border-box;margin-bottom: 0.5em;}#sk-container-id-32 div.sk-estimator:hover {background-color: #d4ebff;}#sk-container-id-32 div.sk-parallel-item::after {content: \"\";width: 100%;border-bottom: 1px solid gray;flex-grow: 1;}#sk-container-id-32 div.sk-label:hover label.sk-toggleable__label {background-color: #d4ebff;}#sk-container-id-32 div.sk-serial::before {content: \"\";position: absolute;border-left: 1px solid gray;box-sizing: border-box;top: 0;bottom: 0;left: 50%;z-index: 0;}#sk-container-id-32 div.sk-serial {display: flex;flex-direction: column;align-items: center;background-color: white;padding-right: 0.2em;padding-left: 0.2em;position: relative;}#sk-container-id-32 div.sk-item {position: relative;z-index: 1;}#sk-container-id-32 div.sk-parallel {display: flex;align-items: stretch;justify-content: center;background-color: white;position: relative;}#sk-container-id-32 div.sk-item::before, #sk-container-id-32 div.sk-parallel-item::before {content: \"\";position: absolute;border-left: 1px solid gray;box-sizing: border-box;top: 0;bottom: 0;left: 50%;z-index: -1;}#sk-container-id-32 div.sk-parallel-item {display: flex;flex-direction: column;z-index: 1;position: relative;background-color: white;}#sk-container-id-32 div.sk-parallel-item:first-child::after {align-self: flex-end;width: 50%;}#sk-container-id-32 div.sk-parallel-item:last-child::after {align-self: flex-start;width: 50%;}#sk-container-id-32 div.sk-parallel-item:only-child::after {width: 0;}#sk-container-id-32 div.sk-dashed-wrapped {border: 1px dashed gray;margin: 0 0.4em 0.5em 0.4em;box-sizing: border-box;padding-bottom: 0.4em;background-color: white;}#sk-container-id-32 div.sk-label label {font-family: monospace;font-weight: bold;display: inline-block;line-height: 1.2em;}#sk-container-id-32 div.sk-label-container {text-align: center;}#sk-container-id-32 div.sk-container {/* jupyter's `normalize.less` sets `[hidden] { display: none; }` but bootstrap.min.css set `[hidden] { display: none !important; }` so we also need the `!important` here to be able to override the default hidden behavior on the sphinx rendered scikit-learn.org. See: https://github.com/scikit-learn/scikit-learn/issues/21755 */display: inline-block !important;position: relative;}#sk-container-id-32 div.sk-text-repr-fallback {display: none;}</style><div id=\"sk-container-id-32\" class=\"sk-top-container\"><div class=\"sk-text-repr-fallback\"><pre>GaussianNB()</pre><b>In a Jupyter environment, please rerun this cell to show the HTML representation or trust the notebook. <br />On GitHub, the HTML representation is unable to render, please try loading this page with nbviewer.org.</b></div><div class=\"sk-container\" hidden><div class=\"sk-item\"><div class=\"sk-estimator sk-toggleable\"><input class=\"sk-toggleable__control sk-hidden--visually\" id=\"sk-estimator-id-32\" type=\"checkbox\" checked><label for=\"sk-estimator-id-32\" class=\"sk-toggleable__label sk-toggleable__label-arrow\">GaussianNB</label><div class=\"sk-toggleable__content\"><pre>GaussianNB()</pre></div></div></div></div></div>"
            ]
          },
          "metadata": {},
          "execution_count": 470
        }
      ]
    },
    {
      "cell_type": "code",
      "source": [
        "y_pred = NaiveBayes.predict(X_test)\n",
        "y_pred"
      ],
      "metadata": {
        "colab": {
          "base_uri": "https://localhost:8080/"
        },
        "id": "rY9OYHCBU3Fd",
        "outputId": "ac8097a7-4f00-48bd-a86f-d634b476658f"
      },
      "execution_count": 471,
      "outputs": [
        {
          "output_type": "execute_result",
          "data": {
            "text/plain": [
              "array([6, 7, 9, ..., 1, 6, 7])"
            ]
          },
          "metadata": {},
          "execution_count": 471
        }
      ]
    },
    {
      "cell_type": "code",
      "source": [
        "y_test - y_pred"
      ],
      "metadata": {
        "colab": {
          "base_uri": "https://localhost:8080/"
        },
        "id": "8Ir3Vy75U7Dz",
        "outputId": "350a8ad7-3870-4a77-e71a-4d871b8c7668"
      },
      "execution_count": 472,
      "outputs": [
        {
          "output_type": "execute_result",
          "data": {
            "text/plain": [
              "array([-6, -5, -6, ...,  1, -6, -5])"
            ]
          },
          "metadata": {},
          "execution_count": 472
        }
      ]
    },
    {
      "cell_type": "code",
      "source": [
        "cnf_matrix = metrics.confusion_matrix(y_test, y_pred)"
      ],
      "metadata": {
        "id": "Cr-TV-WDU8wT"
      },
      "execution_count": 473,
      "outputs": []
    },
    {
      "cell_type": "code",
      "source": [
        "class_names=[0,1,2,3,4,5,6,7,8,9]\n",
        "fig, ax = plt.subplots(figsize=(6, 6))\n",
        "tick_marks = np.arange(len(class_names))\n",
        "plt.xticks(tick_marks, class_names)\n",
        "plt.yticks(tick_marks, class_names)\n",
        "\n",
        "# Heatmap\n",
        "sns.heatmap(pd.DataFrame(cnf_matrix), annot=True, cmap=\"flare\" ,fmt='g', cbar=False, annot_kws={\"size\": 20})\n",
        "ax.xaxis.set_label_position(\"top\")\n",
        "plt.tight_layout()\n",
        "plt.ylabel('Realidad', fontsize=15, y=0.5)\n",
        "plt.xlabel('Estimado por el modelo', fontsize=15);"
      ],
      "metadata": {
        "colab": {
          "base_uri": "https://localhost:8080/",
          "height": 628
        },
        "id": "CKtnpVVNU_hF",
        "outputId": "24294d20-ab84-4316-bf9b-5503f4e67156"
      },
      "execution_count": 474,
      "outputs": [
        {
          "output_type": "display_data",
          "data": {
            "text/plain": [
              "<Figure size 600x600 with 1 Axes>"
            ],
            "image/png": "[encoded data removed]"
          },
          "metadata": {}
        }
      ]
    },
    {
      "cell_type": "code",
      "source": [
        "resultado = confusion_matrix(y_test, y_pred)\n",
        "print(resultado)\n",
        "\n",
        "diagonal = np.trace(resultado)\n",
        "accuracy = (diagonal / y_test.shape[0])*100\n",
        "print(\"Accuracy: \"+str(accuracy)+\"%\")"
      ],
      "metadata": {
        "id": "CQVl7qjsVBbt",
        "colab": {
          "base_uri": "https://localhost:8080/"
        },
        "outputId": "30d2dd18-585d-4d6a-c381-20e8b404e31c"
      },
      "execution_count": 475,
      "outputs": [
        {
          "output_type": "stream",
          "name": "stdout",
          "text": [
            "[[  0 288   0   1   0   0  43 144  30 168]\n",
            " [  0  32   0   0   0   0   2  13   0  44]\n",
            " [  0 376   0   2   0   0  93 144  40 255]\n",
            " [  0 202   0   4   0   0  23  56  26  91]\n",
            " [  0 132   0   4   0   0  10 117  35 140]\n",
            " [  0  55   0   0   0   0  20  48   2  31]\n",
            " [  0  33   0   0   0   0  24  16   5  21]\n",
            " [  0   9   0   0   0   0   0   5   0   2]\n",
            " [  0   5   0   0   0   0   0   9   2   5]\n",
            " [  0   0   0   0   0   0   0   0   0   0]]\n",
            "Accuracy: 2.386889918061988%\n"
          ]
        }
      ]
    },
    {
      "cell_type": "markdown",
      "source": [
        "El algoritmo de Naïve Bayes mostró un rendimiento considerablemente bajo, con un accuracy del 2.38% después de eliminar la columna `salary_in_usd`.\n",
        "\n",
        "Esta drástica caída en la precisión sugiere que la información contenida en la columna de salario podría haber sido crítica para la clasificación de trabajos. La ausencia de esta característica numérica puede haber reducido significativamente la capacidad del modelo para distinguir entre las distintas categorías laborales.\n",
        "\n",
        "Además, dado que Naive Bayes asume independencia condicional entre las características, la eliminación de una característica numérica clave podría haber afectado aún más la capacidad del modelo para capturar la complejidad de los datos y realizar predicciones precisas."
      ],
      "metadata": {
        "id": "GDC0joBeODsx"
      }
    },
    {
      "cell_type": "markdown",
      "source": [
        "## **Red Neuronal Artificial**"
      ],
      "metadata": {
        "id": "NwIYXDWGvDRh"
      }
    },
    {
      "cell_type": "markdown",
      "source": [
        "Ahora se aplicará un modelo de Redes Neuronales para abordar el problema. En este experimento, se varió el número de capas ocultas (hidden layers) entre 15 y 10, y se probaron tres tipos diferentes de funciones de activación.\n",
        "\n",
        "Este enfoque busca explorar la capacidad del modelo de adaptarse y aprender patrones complejos en los datos, utilizando una arquitectura de red neuronal con diversas configuraciones. La variación en el número de capas ocultas permite investigar cómo la profundidad de la red afecta su capacidad para capturar la estructura subyacente de los datos. Además, la exploración de diferentes funciones de activación ofrece la oportunidad de evaluar cómo la no linealidad de la red impacta en su capacidad de aprendizaje y generalización.\n",
        "\n",
        "Este enfoque busca encontrar la combinación óptima de arquitectura de red y funciones de activación que maximicen el rendimiento del modelo en la tarea de clasificación de trabajos."
      ],
      "metadata": {
        "id": "IdJSOOLuO_rY"
      }
    },
    {
      "cell_type": "markdown",
      "source": [
        "### Función de activación *logistic*"
      ],
      "metadata": {
        "id": "eHrlcNebuqNE"
      }
    },
    {
      "cell_type": "markdown",
      "source": [
        "### Hidden layers = 15"
      ],
      "metadata": {
        "id": "Uu4DbMVsPVnD"
      }
    },
    {
      "cell_type": "code",
      "source": [
        "x_train, x_test, y_train, y_test = train_test_split(x,y,test_size=0.4)\n",
        "\n",
        "\n",
        "redNeuronal = MLPClassifier(hidden_layer_sizes=(15,10),\n",
        "                            max_iter=20000,\n",
        "                            activation ='logistic',\n",
        "                            tol= 1e-7)\n",
        "\n",
        "redNeuronal.fit(x_train, y_train)\n",
        "y_pred = redNeuronal.predict(x_test)\n",
        "print(\"Entrenamiento completado!\")"
      ],
      "metadata": {
        "colab": {
          "base_uri": "https://localhost:8080/"
        },
        "id": "s_y-hS1MqopK",
        "outputId": "545214b9-d4a1-4850-e14f-e3238d9f4d0b"
      },
      "execution_count": 477,
      "outputs": [
        {
          "output_type": "stream",
          "name": "stdout",
          "text": [
            "Entrenamiento completado!\n"
          ]
        }
      ]
    },
    {
      "cell_type": "code",
      "source": [
        "from sklearn.metrics import confusion_matrix\n",
        "resultado = confusion_matrix(y_test, y_pred)\n",
        "print(resultado)\n",
        "\n",
        "diagonal = np.trace(resultado)\n",
        "accuracy = (diagonal / y_test.shape[0])*100\n",
        "print(\"Accuracy: \"+str(accuracy)+\"%\")"
      ],
      "metadata": {
        "colab": {
          "base_uri": "https://localhost:8080/"
        },
        "id": "ZJnA_uJBsllk",
        "outputId": "6d37ceea-ac31-4c0a-b19e-a31d2d4e80c1"
      },
      "execution_count": 478,
      "outputs": [
        {
          "output_type": "stream",
          "name": "stdout",
          "text": [
            "[[   0    0  887    0    0    0    0    0    0    0]\n",
            " [   0    0  111    0    0    0    0    0    0    0]\n",
            " [   0    0 1244    0    0    0    0    0    0    0]\n",
            " [   0    0  547    0    0    0    0    0    0    0]\n",
            " [   0    0  595    0    0    0    0    0    0    0]\n",
            " [   0    0  185    0    0    0    0    0    0    0]\n",
            " [   0    0  131    0    0    0    0    0    0    0]\n",
            " [   0    0   20    0    0    0    0    0    0    0]\n",
            " [   0    0   19    0    0    0    0    0    0    0]\n",
            " [   0    0    3    0    0    0    0    0    0    0]]\n",
            "Accuracy: 33.24425440940673%\n"
          ]
        }
      ]
    },
    {
      "cell_type": "markdown",
      "source": [
        "El modelo de Redes Neuronales con 15 capas ocultas y una función de activación logística logró un rendimiento del 33.24%.\n",
        "\n",
        "Este resultado sugiere que la red neuronal pudo capturar cierta complejidad en los datos y realizar predicciones con una precisión moderada. La elección de 15 capas ocultas y la función de activación logística puede haber permitido que el modelo aprendiera representaciones no lineales de los datos y detectara patrones más sofisticados en el conjunto de entrenamiento. Sin embargo, el rendimiento del modelo podría ser mejorado aún más mediante la exploración de otras arquitecturas de red, ajuste de hiperparámetros y técnicas de regularización para evitar el sobreajuste."
      ],
      "metadata": {
        "id": "p9-qKoMMPuBc"
      }
    },
    {
      "cell_type": "markdown",
      "source": [
        "### Hidden layers = 10"
      ],
      "metadata": {
        "id": "Oqq8WWQPtw86"
      }
    },
    {
      "cell_type": "code",
      "source": [
        "x_train, x_test, y_train, y_test = train_test_split(x,y,test_size=0.4)\n",
        "\n",
        "\n",
        "redNeuronal = MLPClassifier(hidden_layer_sizes=(10,10),\n",
        "                            max_iter=20000,\n",
        "                            activation ='logistic',\n",
        "                            tol= 1e-7)\n",
        "\n",
        "redNeuronal.fit(x_train, y_train)\n",
        "y_pred = redNeuronal.predict(x_test)\n",
        "print(\"Entrenamiento completado!\")"
      ],
      "metadata": {
        "colab": {
          "base_uri": "https://localhost:8080/"
        },
        "id": "veC1tIcatcLM",
        "outputId": "3e13fede-187b-4a55-f187-aaacba140cd5"
      },
      "execution_count": 479,
      "outputs": [
        {
          "output_type": "stream",
          "name": "stdout",
          "text": [
            "Entrenamiento completado!\n"
          ]
        }
      ]
    },
    {
      "cell_type": "code",
      "source": [
        "from sklearn.metrics import confusion_matrix\n",
        "resultado = confusion_matrix(y_test, y_pred)\n",
        "print(resultado)\n",
        "\n",
        "diagonal = np.trace(resultado)\n",
        "accuracy = (diagonal / y_test.shape[0])*100\n",
        "print(\"Accuracy: \"+str(accuracy)+\"%\")"
      ],
      "metadata": {
        "colab": {
          "base_uri": "https://localhost:8080/"
        },
        "id": "1TOVo1O-uxfr",
        "outputId": "6b9eb391-44d8-4609-927f-0cb50c2500cc"
      },
      "execution_count": 480,
      "outputs": [
        {
          "output_type": "stream",
          "name": "stdout",
          "text": [
            "[[   0    0  889    0    0    0    0    0    0    0]\n",
            " [   0    0  106    0    0    0    0    0    0    0]\n",
            " [   0    0 1208    0    0    0    0    0    0    0]\n",
            " [   0    0  554    0    0    0    0    0    0    0]\n",
            " [   0    0  616    0    0    0    0    0    0    0]\n",
            " [   0    0  205    0    0    0    0    0    0    0]\n",
            " [   0    0  125    0    0    0    0    0    0    0]\n",
            " [   0    0   12    0    0    0    0    0    0    0]\n",
            " [   0    0   25    0    0    0    0    0    0    0]\n",
            " [   0    0    2    0    0    0    0    0    0    0]]\n",
            "Accuracy: 32.282202030999464%\n"
          ]
        }
      ]
    },
    {
      "cell_type": "markdown",
      "source": [
        "En comparación con el modelo de Redes Neuronales con 15 capas ocultas y una función de activación logística, el modelo con 10 capas ocultas y la misma función de activación logística mostró un rendimiento ligeramente inferior, con un accuracy del 32.28%. Esto sugiere que la adición de capas ocultas adicionales en el modelo con 15 capas pudo haber permitido una mayor capacidad de aprendizaje y una mejor captura de la complejidad de los datos en comparación con el modelo de 10 capas. Aunque ambos modelos lograron aprendizajes significativos, la diferencia en el rendimiento podría indicar que una mayor profundidad en la Red Neuronal podría ser más beneficiosa para este problema específico de clasificación."
      ],
      "metadata": {
        "id": "6B274UeOQTFg"
      }
    },
    {
      "cell_type": "markdown",
      "source": [
        "### Función de activación *tanh*"
      ],
      "metadata": {
        "id": "lMNDJlNDu5MP"
      }
    },
    {
      "cell_type": "markdown",
      "source": [
        "### Hidden layers = 15"
      ],
      "metadata": {
        "id": "KwIuntxjQpO-"
      }
    },
    {
      "cell_type": "code",
      "source": [
        "x_train, x_test, y_train, y_test = train_test_split(x,y,test_size=0.4)\n",
        "\n",
        "\n",
        "redNeuronal = MLPClassifier(hidden_layer_sizes=(15,10),\n",
        "                            max_iter=20000,\n",
        "                            activation ='tanh',\n",
        "                            tol= 1e-7)\n",
        "\n",
        "redNeuronal.fit(x_train, y_train)\n",
        "y_pred = redNeuronal.predict(x_test)\n",
        "print(\"Entrenamiento completado!\")"
      ],
      "metadata": {
        "colab": {
          "base_uri": "https://localhost:8080/"
        },
        "id": "6MsM7nQJvAug",
        "outputId": "655a46a7-68b1-4745-bc1d-f9dfc16f303c"
      },
      "execution_count": 481,
      "outputs": [
        {
          "output_type": "stream",
          "name": "stdout",
          "text": [
            "Entrenamiento completado!\n"
          ]
        }
      ]
    },
    {
      "cell_type": "code",
      "source": [
        "from sklearn.metrics import confusion_matrix\n",
        "resultado = confusion_matrix(y_test, y_pred)\n",
        "print(resultado)\n",
        "\n",
        "diagonal = np.trace(resultado)\n",
        "accuracy = (diagonal / y_test.shape[0])*100\n",
        "print(\"Accuracy: \"+str(accuracy)+\"%\")"
      ],
      "metadata": {
        "colab": {
          "base_uri": "https://localhost:8080/"
        },
        "id": "k39MC7HsvF1z",
        "outputId": "b9bf5348-555f-4885-b8c5-95efb7ab6abf"
      },
      "execution_count": 482,
      "outputs": [
        {
          "output_type": "stream",
          "name": "stdout",
          "text": [
            "[[   0    0  881    0    0    0    0    0    0    0]\n",
            " [   0    0   99    0    0    0    0    0    0    0]\n",
            " [   0    0 1211    0    0    0    0    0    0    0]\n",
            " [   0    0  584    0    0    0    0    0    0    0]\n",
            " [   0    0  588    0    0    0    0    0    0    0]\n",
            " [   0    0  199    0    0    0    0    0    0    0]\n",
            " [   0    0  121    0    0    0    0    0    0    0]\n",
            " [   0    0   29    0    0    0    0    0    0    0]\n",
            " [   0    0   27    0    0    0    0    0    0    0]\n",
            " [   0    0    3    0    0    0    0    0    0    0]]\n",
            "Accuracy: 32.36237306253341%\n"
          ]
        }
      ]
    },
    {
      "cell_type": "markdown",
      "source": [
        "El modelo de Redes Neuronales con 15 capas ocultas y una función de activación tangente hiperbólica (tanh) obtuvo un rendimiento del 32.36%.\n",
        "\n",
        "Este resultado es comparable al rendimiento del modelo con función de activación logística, lo que sugiere que ambas funciones de activación lograron aprender patrones en los datos con una precisión similar. Sin embargo, es importante destacar las diferencias entre estas funciones de activación. Mientras que la función logística limita la salida de la red entre 0 y 1, la función tanh escala la salida entre -1 y 1, lo que puede permitir una mayor flexibilidad en la representación de los datos y una mejor capacidad para modelar relaciones no lineales complejas."
      ],
      "metadata": {
        "id": "PSY8VRUiQ_pa"
      }
    },
    {
      "cell_type": "markdown",
      "source": [
        "### Hidden layers = 10"
      ],
      "metadata": {
        "id": "wFj8To56RgyH"
      }
    },
    {
      "cell_type": "code",
      "source": [
        "x_train, x_test, y_train, y_test = train_test_split(x,y,test_size=0.4)\n",
        "\n",
        "\n",
        "redNeuronal = MLPClassifier(hidden_layer_sizes=(10,10),\n",
        "                            max_iter=20000,\n",
        "                            activation ='tanh',\n",
        "                            tol= 1e-7)\n",
        "\n",
        "redNeuronal.fit(x_train, y_train)\n",
        "y_pred = redNeuronal.predict(x_test)\n",
        "print(\"Entrenamiento completado!\")"
      ],
      "metadata": {
        "colab": {
          "base_uri": "https://localhost:8080/"
        },
        "id": "YS-_nyx4vK1b",
        "outputId": "64720f53-330a-4b32-f513-b26e58c289af"
      },
      "execution_count": 483,
      "outputs": [
        {
          "output_type": "stream",
          "name": "stdout",
          "text": [
            "Entrenamiento completado!\n"
          ]
        }
      ]
    },
    {
      "cell_type": "code",
      "source": [
        "from sklearn.metrics import confusion_matrix\n",
        "resultado = confusion_matrix(y_test, y_pred)\n",
        "print(resultado)\n",
        "\n",
        "diagonal = np.trace(resultado)\n",
        "accuracy = (diagonal / y_test.shape[0])*100\n",
        "print(\"Accuracy: \"+str(accuracy)+\"%\")"
      ],
      "metadata": {
        "colab": {
          "base_uri": "https://localhost:8080/"
        },
        "id": "aHVguG1JvQFk",
        "outputId": "cd89280e-2651-406c-c604-2b61e2aff7c7"
      },
      "execution_count": 484,
      "outputs": [
        {
          "output_type": "stream",
          "name": "stdout",
          "text": [
            "[[   0    0  907    0    0    0    0    0    0    0]\n",
            " [   0    0   90    0    0    0    0    0    0    0]\n",
            " [   0    0 1198    0    0    0    0    0    0    0]\n",
            " [   0    0  580    0    0    0    0    0    0    0]\n",
            " [   0    0  580    0    0    0    0    0    0    0]\n",
            " [   0    0  202    0    0    0    0    0    0    0]\n",
            " [   0    0  134    0    0    0    0    0    0    0]\n",
            " [   0    0   22    0    0    0    0    0    0    0]\n",
            " [   0    0   26    0    0    0    0    0    0    0]\n",
            " [   0    0    3    0    0    0    0    0    0    0]]\n",
            "Accuracy: 32.01496525921967%\n"
          ]
        }
      ]
    },
    {
      "cell_type": "markdown",
      "source": [
        "En comparación con el modelo de Redes Neuronales que utiliza 15 capas ocultas y una función de activación tangente hiperbólica (tanh), el modelo con 10 capas ocultas y la misma función de activación logró un rendimiento ligeramente inferior, con un accuracy del 32.01%. Esto sugiere que, en este caso particular, la adición de capas ocultas adicionales en el modelo con 15 capas podría haber permitido una mayor capacidad de aprendizaje y una mejor captura de la complejidad de los datos en comparación con el modelo de 10 capas."
      ],
      "metadata": {
        "id": "gBTB8BKWRw5X"
      }
    },
    {
      "cell_type": "markdown",
      "source": [
        "### Función de activación *relu*"
      ],
      "metadata": {
        "id": "XumV57AZvXuh"
      }
    },
    {
      "cell_type": "markdown",
      "source": [
        "### Hidden layers = 15"
      ],
      "metadata": {
        "id": "tbw74JktSEW6"
      }
    },
    {
      "cell_type": "code",
      "source": [
        "x_train, x_test, y_train, y_test = train_test_split(x,y,test_size=0.4)\n",
        "\n",
        "\n",
        "redNeuronal = MLPClassifier(hidden_layer_sizes=(15,10),\n",
        "                            max_iter=20000,\n",
        "                            activation ='relu',\n",
        "                            tol= 1e-7)\n",
        "\n",
        "redNeuronal.fit(x_train, y_train)\n",
        "y_pred = redNeuronal.predict(x_test)\n",
        "print(\"Entrenamiento completado!\")"
      ],
      "metadata": {
        "colab": {
          "base_uri": "https://localhost:8080/"
        },
        "id": "FMX_2WGovYPJ",
        "outputId": "6d36916a-103c-4aa2-eb9b-194d39f406a2"
      },
      "execution_count": 485,
      "outputs": [
        {
          "output_type": "stream",
          "name": "stdout",
          "text": [
            "Entrenamiento completado!\n"
          ]
        }
      ]
    },
    {
      "cell_type": "code",
      "source": [
        "from sklearn.metrics import confusion_matrix\n",
        "resultado = confusion_matrix(y_test, y_pred)\n",
        "print(resultado)\n",
        "\n",
        "diagonal = np.trace(resultado)\n",
        "accuracy = (diagonal / y_test.shape[0])*100\n",
        "print(\"Accuracy: \"+str(accuracy)+\"%\")"
      ],
      "metadata": {
        "colab": {
          "base_uri": "https://localhost:8080/"
        },
        "id": "eAiKl4DavckU",
        "outputId": "9d0e3234-a07a-4fbd-f115-476fb4bf5e56"
      },
      "execution_count": 486,
      "outputs": [
        {
          "output_type": "stream",
          "name": "stdout",
          "text": [
            "[[   0    0  910    0    0    0    0    0    0    0]\n",
            " [   0    0   96    0    0    0    0    0    0    0]\n",
            " [   0    0 1191    0    0    0    0    0    0    0]\n",
            " [   0    0  589    0    0    0    0    0    0    0]\n",
            " [   0    0  574    0    0    0    0    0    0    0]\n",
            " [   0    0  203    0    0    0    0    0    0    0]\n",
            " [   0    0  136    0    0    0    0    0    0    0]\n",
            " [   0    0   17    0    0    0    0    0    0    0]\n",
            " [   0    0   25    0    0    0    0    0    0    0]\n",
            " [   0    0    1    0    0    0    0    0    0    0]]\n",
            "Accuracy: 31.827899518973812%\n"
          ]
        }
      ]
    },
    {
      "cell_type": "markdown",
      "source": [
        "El modelo de redes neuronales con 15 capas ocultas y una función de activación ReLU (Rectified Linear Unit) obtuvo un rendimiento del 31.82%. Este resultado es comparable al rendimiento de los modelos con otras funciones de activación, como la función logística y la tangente hiperbólica. Sin embargo, es importante destacar las diferencias entre estas funciones de activación. Mientras que la función logística y la tangente hiperbólica son funciones sigmoideas que limitan la salida de la red en un rango específico, la función ReLU es una función no lineal que activa solo para valores positivos, estableciendo todos los valores negativos en cero. Esto puede permitir un entrenamiento más rápido y eficiente de la red, ya que evita el problema del desvanecimiento del gradiente."
      ],
      "metadata": {
        "id": "nbmJrZx1R8By"
      }
    },
    {
      "cell_type": "markdown",
      "source": [
        "### Hidden layers = 10"
      ],
      "metadata": {
        "id": "f0VtEPWhSbNg"
      }
    },
    {
      "cell_type": "code",
      "source": [
        "x_train, x_test, y_train, y_test = train_test_split(x,y,test_size=0.4)\n",
        "\n",
        "\n",
        "redNeuronal = MLPClassifier(hidden_layer_sizes=(10,10),\n",
        "                            max_iter=20000,\n",
        "                            activation ='relu',\n",
        "                            tol= 1e-7)\n",
        "\n",
        "redNeuronal.fit(x_train, y_train)\n",
        "y_pred = redNeuronal.predict(x_test)\n",
        "print(\"Entrenamiento completado!\")"
      ],
      "metadata": {
        "colab": {
          "base_uri": "https://localhost:8080/"
        },
        "id": "wlt8LOfIvidN",
        "outputId": "1e0f6cc3-4d18-4e38-c26b-c91beb6a84e9"
      },
      "execution_count": 487,
      "outputs": [
        {
          "output_type": "stream",
          "name": "stdout",
          "text": [
            "Entrenamiento completado!\n"
          ]
        }
      ]
    },
    {
      "cell_type": "code",
      "source": [
        "from sklearn.metrics import confusion_matrix\n",
        "resultado = confusion_matrix(y_test, y_pred)\n",
        "print(resultado)\n",
        "\n",
        "diagonal = np.trace(resultado)\n",
        "accuracy = (diagonal / y_test.shape[0])*100\n",
        "print(\"Accuracy: \"+str(accuracy)+\"%\")"
      ],
      "metadata": {
        "colab": {
          "base_uri": "https://localhost:8080/"
        },
        "id": "QR1yZz0FvmeA",
        "outputId": "3d066b68-3efe-4f2e-a276-295f1961362c"
      },
      "execution_count": 488,
      "outputs": [
        {
          "output_type": "stream",
          "name": "stdout",
          "text": [
            "[[   0    0    0    0  920    0    0    0    0]\n",
            " [   0    0    0    0  116    0    0    0    0]\n",
            " [   0    0    0    0 1197    0    0    0    0]\n",
            " [   0    0    0    0  555    0    0    0    0]\n",
            " [   0    0    0    0  583    0    0    0    0]\n",
            " [   0    0    0    0  193    0    0    0    0]\n",
            " [   0    0    0    0  129    0    0    0    0]\n",
            " [   0    0    0    0   23    0    0    0    0]\n",
            " [   0    0    0    0   26    0    0    0    0]]\n",
            "Accuracy: 15.57990379476216%\n"
          ]
        }
      ]
    },
    {
      "cell_type": "markdown",
      "source": [
        "El modelo de Redes Neuronales con 10 capas ocultas y una función de activación ReLU (Rectified Linear Unit) obtuvo un rendimiento muy bajo, con un accuracy del 15.57%.\n",
        "\n",
        "Este performance es significativamente inferior a la del modelo con 15 capas ocultas. Una posible razón para este bajo rendimiento podría ser la insuficiente complejidad del modelo para capturar las relaciones subyacentes en los datos. Con solo 10 capas ocultas, el modelo puede haber tenido dificultades para aprender representaciones más profundas y sofisticadas de los datos en comparación con el modelo de 15 capas ocultas.\n",
        "\n",
        "Además, la función de activación ReLU, aunque eficaz en muchos casos, puede haber introducido problemas de convergencia o saturación de gradientes en este contexto específico, lo que afectó negativamente el rendimiento del modelo. La falta de profundidad y la elección de la función de activación pueden haber contribuido a una incapacidad del modelo para aprender patrones complejos y realizar predicciones precisas."
      ],
      "metadata": {
        "id": "eceVAZDSSc57"
      }
    },
    {
      "cell_type": "markdown",
      "source": [
        "### Conclusión"
      ],
      "metadata": {
        "id": "Neyy7JAkTn6i"
      }
    },
    {
      "cell_type": "markdown",
      "source": [
        "En resumen, al analizar los distintos modelos de Redes Neuronales aplicados para predecir el tipo de trabajo `job_category`, se destaca que el modelo con mayor rendimiento fue aquel que empleó una función de activación logística y 15 capas ocultas, alcanzando un accuracy superior al 33%. Este resultado sugiere que esta configuración particular pudo capturar de manera más efectiva las relaciones complejas presentes en los datos.\n",
        "\n",
        "Sin embargo, es importante reconocer que el rendimiento de los modelos varió significativamente según la elección de la arquitectura de la red y la función de activación. Modelos con una profundidad menor, como aquellos con 10 capas ocultas, no lograron alcanzar el mismo nivel de precisión, incluso con funciones de activación ReLU o tanh. Esto indica que la complejidad del problema puede requerir una red neuronal más profunda para una representación más efectiva de los datos."
      ],
      "metadata": {
        "id": "Wke0Ffk_TWfa"
      }
    },
    {
      "cell_type": "markdown",
      "source": [
        "## **Selección de Modelo**"
      ],
      "metadata": {
        "id": "TLcRfuISvHms"
      }
    },
    {
      "cell_type": "markdown",
      "source": [
        "Después de entrenar y evaluar varios modelos de aprendizaje automático y redes neuronales para predecir el tipo de trabajo `job_category`, se pueden extraer varias conclusiones significativas. En primer lugar, se observó que los modelos supervisados, como los árboles de decisiones y Naive Bayes, mostraron un rendimiento generalmente superior en comparación con el enfoque no supervisado de KMeans. Los árboles de decisiones, en particular, exhibieron el rendimiento más alto, con un accuracy de aproximadamente el 45.06% cuando se mantuvo la columna de \"salary_in_usd\". Sin embargo, al eliminar esta característica, su rendimiento disminuyó hasta alrededor del 32.66%, sugiriendo que la información contenida en esta columna es importante para la clasificación.\n",
        "\n",
        "Por otro lado, el rendimiento del algoritmo de Naive Bayes fue sorprendentemente bajo, especialmente al eliminar la columna de salario, lo que sugiere que esta característica podría haber sido fundamental para la predicción de la categoría laboral. KMeans, aunque mostró una mejora en el rendimiento al eliminar la columna de salario, siguió teniendo un rendimiento relativamente bajo en comparación con los modelos supervisados.\n",
        "\n",
        "Entre los modelos de redes neuronales, aquellos que utilizaron una función de activación logística con 15 capas ocultas presentaron el mejor rendimiento, con un accuracy del 33.24%. Esto indica que esta configuración específica de red neuronal pudo capturar con éxito patrones complejos en los datos y realizar predicciones precisas sobre la categoría laboral.\n",
        "\n",
        "Sin embargo, a pesar de los esfuerzos realizados en la selección de modelos y ajuste de parámetros, ninguno de los modelos logró un rendimiento superior al 50%. Esto podría deberse a la naturaleza intrínsecamente compleja del problema de clasificación de trabajos, que puede involucrar múltiples variables latentes y relaciones no lineales entre las características y la variable objetivo. Además, la presencia de ruido en los datos o la falta de características informativas podrían haber limitado el rendimiento de los modelos.\n",
        "\n",
        "En resumen, si bien se observó una variabilidad significativa en el rendimiento de los diferentes modelos, los árboles de decisiones y las redes neuronales con función de activación logística y 15 capas ocultas demostraron ser los más efectivos para la tarea de clasificación de trabajos. No obstante, para futuras investigaciones, se recomienda explorar más a fondo las características del conjunto de datos y probar diferentes técnicas de preprocesamiento y modelado para mejorar aún más el rendimiento de los modelos en este problema de clasificación."
      ],
      "metadata": {
        "id": "F1waeVf9WFF0"
      }
    },
    {
      "cell_type": "markdown",
      "source": [
        "## **Sistema de procesamiento de imágenes con ML**"
      ],
      "metadata": {
        "id": "1YXobsMkvNjm"
      }
    },
    {
      "cell_type": "markdown",
      "source": [
        "No se realizará procesamiento de imágenes en el contexto de este proyecto, ya que los datos disponibles no contienen este tipo de información no estructurada. Dado que el objetivo principal es predecir el tipo de trabajo `job_category` a partir de características específicas, el procesamiento de imágenes no es relevante ni aplicable para la solución del problema actual."
      ],
      "metadata": {
        "id": "ss8BeWi5vUAd"
      }
    }
  ]
}